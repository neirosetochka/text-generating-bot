{
  "cells": [
    {
      "cell_type": "code",
      "execution_count": 2,
      "id": "0c6c33a9",
      "metadata": {
        "id": "0c6c33a9"
      },
      "outputs": [],
      "source": [
        "import pickle\n",
        "import re\n",
        "from collections import defaultdict\n",
        "from typing import List, Dict, Optional, Iterable, Tuple\n",
        "\n",
        "from tqdm.notebook import tqdm\n",
        "import numpy as np\n",
        "import pandas as pd"
      ]
    },
    {
      "cell_type": "markdown",
      "id": "rTZ38CqOpNKL",
      "metadata": {
        "id": "rTZ38CqOpNKL"
      },
      "source": [
        "# 1. Tokenizer\n",
        "\n",
        "\n",
        "\n",
        "\n"
      ]
    },
    {
      "cell_type": "markdown",
      "id": "AND7UX_6702G",
      "metadata": {
        "id": "AND7UX_6702G"
      },
      "source": [
        "1.   Токенизатор принимает на вход слова для специальных токенов и размер словаря.\n",
        "2.   Для создания словаря на вход подается массив предложений. Каждое предложение обрабатывается следующим образом: все буквы приводятся в нижний регистр, несколько пробелов заменяются одним; остаются только буквы русского языка в нижнем регистре и цифры.\n",
        "3.   Всем токенам дается свой индекс в словаре.\n",
        "4. На выходе метода encode получаем предложение, закодированное в индексах токенов.\n",
        "5. Токенизатор применяет BPE токенизацию, где символ '#' зарезервирован под положение токена в слове.\n"
      ]
    },
    {
      "cell_type": "code",
      "execution_count": 3,
      "id": "90160389",
      "metadata": {
        "id": "90160389"
      },
      "outputs": [],
      "source": [
        "class Tokenizer:\n",
        "    def __init__(self,\n",
        "                 eos_token: str = '<EOS>',\n",
        "                 pad_token: str = '<PAD>',\n",
        "                 unk_token: str = '<UNK>',\n",
        "                 vocab_size: int = 1000):\n",
        "\n",
        "        self.eos_token = eos_token\n",
        "        self.pad_token = pad_token\n",
        "        self.unk_token = unk_token\n",
        "        self.start_unk_token = '#' + unk_token\n",
        "        self.end_unk_token = unk_token + '#'\n",
        "        self.word_unk_token = '#' + unk_token + '#'\n",
        "\n",
        "        self.special_tokens = [self.pad_token, self.eos_token]\n",
        "        self.unk_tokens = [self.unk_token, self.start_unk_token, self.end_unk_token, self.word_unk_token]\n",
        "        self.n_special =len(self.unk_tokens) + len(self.special_tokens)\n",
        "        self.vocab = dict()\n",
        "        self.vocab_size = vocab_size\n",
        "        self.inverse_vocab = dict()\n",
        "        self.merge_rules = dict()\n",
        "\n",
        "    def text_preprocess(self, input_text: str) -> str:\n",
        "        \"\"\" Предобрабатываем одно предложение / один текст \"\"\"\n",
        "        input_text = input_text.lower()\n",
        "        input_text = input_text.replace('\\n', ' ')\n",
        "        input_text = re.sub('\\s+', ' ', input_text)\n",
        "        alphabet = 'абвгдеёжзийклмнопрстуфхцчшщъыьэюя' + ' ' + '0123456789'\n",
        "        out_text = \"\"\n",
        "        for elem in input_text:\n",
        "            if elem in alphabet:\n",
        "                out_text += elem\n",
        "        return out_text.strip()\n",
        "\n",
        "    def _compute_pair_freqs(self, splits, word_freqs):\n",
        "        pair_freqs = defaultdict(int)\n",
        "        for word, freq in word_freqs.items():\n",
        "            split = splits[word]\n",
        "            for i in range(len(split)):\n",
        "                if i == 0 and split[0][0] != '#':\n",
        "                    split[0] = '#' + split[0]\n",
        "                if i == len(split) - 1 and split[-1][-1] != '#':\n",
        "                    split[-1] = split[-1] + '#'\n",
        "\n",
        "            if len(split) == 1:\n",
        "                continue\n",
        "            for i in range(len(split) - 1):\n",
        "                pair = (split[i], split[i + 1])\n",
        "                pair_freqs[pair] += freq\n",
        "\n",
        "        return pair_freqs\n",
        "\n",
        "    def _merge_pair(self, a, b, splits, word_freqs):\n",
        "\n",
        "        for word in word_freqs.keys():\n",
        "\n",
        "            split = splits[word]\n",
        "            if len(split) == 1:\n",
        "                continue\n",
        "\n",
        "            i = 0\n",
        "            while i < len(split) - 1:\n",
        "                if split[i] == a and split[i + 1] == b:\n",
        "                    split = split[:i] + [a + b] + split[i + 2 :]\n",
        "                else:\n",
        "                    i += 1\n",
        "            splits[word] = split\n",
        "        return splits\n",
        "\n",
        "\n",
        "    def build_vocab(self, corpus: List[str]) -> None:\n",
        "        assert len(corpus)\n",
        "\n",
        "        word_freqs = defaultdict(int)\n",
        "        print(\"Text preprocess...\")\n",
        "        for text in tqdm(corpus):\n",
        "            text = self.text_preprocess(text)\n",
        "            for word in text.split():\n",
        "                word_freqs[word] += 1\n",
        "\n",
        "        alphabet = []\n",
        "\n",
        "        for word in word_freqs.keys():\n",
        "            for i in range(len(word)):\n",
        "                letter = word[i]\n",
        "                if letter not in alphabet:\n",
        "                    alphabet.append(letter)\n",
        "                    alphabet.append('#' + letter)\n",
        "                    alphabet.append('#' + letter + '#')\n",
        "                    alphabet.append(letter + '#')\n",
        "\n",
        "        vocab = alphabet\n",
        "        splits = {word: [c for c in word] for word in word_freqs.keys()}\n",
        "\n",
        "        print('\\n Updating vocab...')\n",
        "        pbar = tqdm(total=self.vocab_size)\n",
        "        pbar.update(len(alphabet))\n",
        "\n",
        "        while len(vocab) < self.vocab_size - self.n_special:\n",
        "            pair_freqs = self._compute_pair_freqs(splits, word_freqs)\n",
        "            best_pair = \"\"\n",
        "            max_freq = None\n",
        "            for pair, freq in pair_freqs.items():\n",
        "                if max_freq is None or max_freq < freq:\n",
        "                    best_pair = pair\n",
        "                    max_freq = freq\n",
        "            if not best_pair:\n",
        "                break\n",
        "            splits = self._merge_pair(best_pair[0], best_pair[1], splits, word_freqs)\n",
        "            self.merge_rules[best_pair] = best_pair[0] + best_pair[1]\n",
        "            vocab.append(best_pair[0] + best_pair[1])\n",
        "            pbar.update(1)\n",
        "\n",
        "        self.vocab = {token: idx for idx, token in enumerate(vocab)}\n",
        "\n",
        "\n",
        "        for i in range(len(self.unk_tokens)):\n",
        "            self.vocab[self.unk_tokens[i]] = self.vocab_size - self.n_special + i\n",
        "            pbar.update(1)\n",
        "\n",
        "        for i in range(len(self.special_tokens)):\n",
        "            self.vocab[self.special_tokens[i]] = self.vocab_size - len(self.special_tokens) + i\n",
        "            pbar.update(1)\n",
        "\n",
        "\n",
        "        pbar.close()\n",
        "        self.inverse_vocab = {ind: elem for elem, ind in self.vocab.items()}\n",
        "\n",
        "    def _tokenize(self, text: str, append_eos_token: bool = True) -> List[int]:\n",
        "        text = self.text_preprocess(text)\n",
        "        splits = list()\n",
        "        for word in text.split():\n",
        "            split = list()\n",
        "            for i in range(len(word)):\n",
        "                letter = word[i]\n",
        "                if i == 0:\n",
        "                    letter = '#' + letter\n",
        "                if i == len(word) - 1:\n",
        "                    letter = letter + '#'\n",
        "                split.append(letter)\n",
        "            splits.append(split)\n",
        "        for pair, merge in self.merge_rules.items():\n",
        "            for idx, split in enumerate(splits):\n",
        "                i = 0\n",
        "                while i < len(split) - 1:\n",
        "                    if split[i] == pair[0] and split[i + 1] == pair[1]:\n",
        "                        split = split[:i] + [merge] + split[i + 2:]\n",
        "                    else:\n",
        "                        i += 1\n",
        "                splits[idx] = split\n",
        "        return splits\n",
        "\n",
        "\n",
        "    def encode(self, text: str, append_eos_token: bool = True) -> List[str]:\n",
        "        \"\"\" Токенизируем текст \"\"\"\n",
        "        token_splits = self._tokenize(text, append_eos_token)\n",
        "        ids = list()\n",
        "        for split in token_splits:\n",
        "            for i in range(len(split)):\n",
        "                unk_token = self.unk_token\n",
        "                if len(split) == 1 and split[0] not in self.vocab.keys():\n",
        "                    unk_token = self.word_unk_token\n",
        "                elif i == 0:\n",
        "                    unk_token = self.start_unk_token\n",
        "                elif i == len(split) - 1:\n",
        "                    unk_token = self.end_unk_token\n",
        "                ids.append(self.vocab.get(split[i], self.vocab[unk_token]))\n",
        "\n",
        "        if append_eos_token:\n",
        "            ids.append(self.vocab[self.eos_token])\n",
        "        return ids\n",
        "\n",
        "    def decode(self, input_ids: Iterable[int], remove_special_tokens: bool = True) -> str:\n",
        "        assert len(input_ids)\n",
        "        assert max(input_ids) < self.vocab_size and min(input_ids) >= 0\n",
        "        tokens = []\n",
        "        j = 0\n",
        "\n",
        "        for i in range(len(input_ids)):\n",
        "\n",
        "            token = self.inverse_vocab[input_ids[i]]\n",
        "            if token in self.special_tokens:\n",
        "                if not remove_special_tokens:\n",
        "                    tokens.append(token)\n",
        "                    j += 1\n",
        "                continue\n",
        "\n",
        "            if token[0] == '#' and token[-1] == '#':\n",
        "                if not remove_special_tokens or token != self.word_unk_token:\n",
        "                    tokens.append(token[1:-1])\n",
        "                    j += 1\n",
        "\n",
        "            elif token[0] == '#':\n",
        "                if not remove_special_tokens or token != self.start_unk_token:\n",
        "                    tokens.append(token[1:])\n",
        "\n",
        "            elif token[-1] == '#':\n",
        "                if not remove_special_tokens or token != self.end_unk_token:\n",
        "                    tokens[j] += token[:-1]\n",
        "                j += 1\n",
        "            else:\n",
        "                if not remove_special_tokens or token != self.unk_token:\n",
        "                    tokens[j] += token\n",
        "\n",
        "        return ' '.join(tokens)\n",
        "\n",
        "\n",
        "    def save(self, path: str) -> bool:\n",
        "        data = {\n",
        "            'eos_token': self.eos_token,\n",
        "            'pad_token': self.pad_token,\n",
        "            'unk_token': self.unk_token,\n",
        "            'start_unk_token': self.start_unk_token,\n",
        "            'word_unk_token': self.word_unk_token,\n",
        "            'end_unk_token': self.end_unk_token,\n",
        "            'special_tokens': self.special_tokens,\n",
        "            'unk_tokens': self.unk_tokens,\n",
        "            'n_special': self.n_special,\n",
        "            'vocab': self.vocab,\n",
        "            'vocab_size': self.vocab_size,\n",
        "            'inverse_vocab': self.inverse_vocab,\n",
        "            'merge_rules': self.merge_rules\n",
        "        }\n",
        "\n",
        "        with open(path, 'wb') as fout:\n",
        "            pickle.dump(data, fout)\n",
        "\n",
        "        return True\n",
        "\n",
        "    def load(self, path: str) -> bool:\n",
        "        with open(path, 'rb') as fin:\n",
        "            data = pickle.load(fin)\n",
        "        self.eos_token = data['eos_token']\n",
        "        self.pad_token = data['pad_token']\n",
        "        self.unk_token = data['unk_token']\n",
        "        self.start_unk_token = data['start_unk_token']\n",
        "        self.end_unk_token = data['end_unk_token']\n",
        "        self.word_unk_token = data['word_unk_token']\n",
        "        self.special_tokens = data['special_tokens']\n",
        "        self.unk_tokens = data['unk_tokens']\n",
        "        self.n_special = data['n_special']\n",
        "        self.vocab = data['vocab']\n",
        "        self.vocab_size = data['vocab_size']\n",
        "        self.inverse_vocab = data['inverse_vocab']\n",
        "        self.merge_rules = data['merge_rules']"
      ]
    },
    {
      "cell_type": "markdown",
      "id": "5BzGOITGrcfu",
      "metadata": {
        "id": "5BzGOITGrcfu"
      },
      "source": [
        "# 2. Модель на основе n-грамм."
      ]
    },
    {
      "cell_type": "markdown",
      "id": "n7ZhRReTsCIQ",
      "metadata": {
        "id": "n7ZhRReTsCIQ"
      },
      "source": [
        "$$p(x_t | x_{t-k}, x_{t-k + 1}, \\ldots, x_{t - 1}) = \\frac{\\# (x_{t-k}, x_{t-k + 1}, \\ldots, x_{t - 1}, x_t) + \\alpha}{\\# (x_{t-k}, x_{t-k + 1}, \\ldots, x_{t - 1}) +  \\alpha |V|}$$\n",
        "$k$ - размер контекста."
      ]
    },
    {
      "cell_type": "markdown",
      "id": "wHEItMbnuKwf",
      "metadata": {
        "id": "wHEItMbnuKwf"
      },
      "source": [
        "Модель просто считает количество n-грамм размера context_size и context_size - 1."
      ]
    },
    {
      "cell_type": "markdown",
      "id": "sEpJRgxnut8D",
      "metadata": {
        "id": "sEpJRgxnut8D"
      },
      "source": [
        "Сэмплировать можно 2-мя способами:\n",
        "\n",
        "\n",
        "1.   Аргмакс ('max')\n",
        "2.   Случайно выбираем токен среди самых вероятных, чьи вероятности в сумме дают p  \n",
        "(перестаем добавлять вероятные токены сразу, когда сумма >= p) ('top-p')\n"
      ]
    },
    {
      "cell_type": "markdown",
      "id": "Sra0L5uqyeX7",
      "metadata": {
        "id": "Sra0L5uqyeX7"
      },
      "source": [
        "Процесс генерации текста происходит следующим образом: кодируем предложение, берем необходимое нам количество токенов. Затем по формуле получаем вероятность следующего токена, сэмплируем из нее. И так, пока не дойдем до токена конца предложения или до максимального кол-ва токенов."
      ]
    },
    {
      "cell_type": "code",
      "execution_count": 4,
      "id": "f14d758b",
      "metadata": {
        "id": "f14d758b"
      },
      "outputs": [],
      "source": [
        "class GenerationConfig:\n",
        "    def __init__(self, **kwargs):\n",
        "        \"\"\"\n",
        "        Тут можно задать любые параметры и их значения по умолчанию\n",
        "        Значения для стратегии декодирования decoding_strategy: ['max', 'top-p']\n",
        "        \"\"\"\n",
        "        self.temperature = kwargs.pop(\"temperature\", 1.0)\n",
        "        self.max_tokens = kwargs.pop(\"max_tokens\", 32)\n",
        "        self.sample_top_p = kwargs.pop(\"sample_top_p\", 0.9)\n",
        "        self.decoding_strategy = kwargs.pop(\"decoding_strategy\", 'max')\n",
        "        self.remove_special_tokens = kwargs.pop(\"remove_special_tokens\", False)\n",
        "        self.validate()\n",
        "\n",
        "    def validate(self):\n",
        "        \"\"\" Здесь можно валидировать параметры \"\"\"\n",
        "        if not (1.0 > self.sample_top_p > 0):\n",
        "            raise ValueError('sample_top_p')\n",
        "        if self.decoding_strategy not in ['max', 'top-p']:\n",
        "            raise ValueError('decoding_strategy')"
      ]
    },
    {
      "cell_type": "code",
      "execution_count": 132,
      "id": "462316de",
      "metadata": {
        "id": "462316de"
      },
      "outputs": [],
      "source": [
        "class StatLM:\n",
        "    def __init__(self,\n",
        "                 tokenizer: Tokenizer,\n",
        "                 context_size: int = 2,\n",
        "                 alpha: float = 0.1\n",
        "                ):\n",
        "\n",
        "        assert context_size >= 2\n",
        "\n",
        "        self.context_size = context_size\n",
        "        self.tokenizer = tokenizer\n",
        "        self.alpha = alpha\n",
        "\n",
        "        self.n_gramms_stat = defaultdict(int)\n",
        "        self.nx_gramms_stat = defaultdict(int)\n",
        "\n",
        "    def get_token_by_ind(self, ind: int) -> str:\n",
        "        return self.tokenizer.vocab.get(ind)\n",
        "\n",
        "    def get_ind_by_token(self, token: str) -> int:\n",
        "        return self.tokenizer.inverse_vocab.get(token, self.tokenizer.inverse_vocab[self.unk_token])\n",
        "\n",
        "    def train(self, train_texts: List[str]):\n",
        "        for sentence in tqdm(train_texts, desc='train lines'):\n",
        "            sentence_ind = self.tokenizer.encode(sentence)\n",
        "            for i in range(len(sentence_ind) - self.context_size):\n",
        "\n",
        "                seq = tuple(sentence_ind[i: i + self.context_size - 1])\n",
        "                self.n_gramms_stat[seq] += 1\n",
        "\n",
        "                seq_x = tuple(sentence_ind[i: i + self.context_size])\n",
        "                self.nx_gramms_stat[seq_x] += 1\n",
        "\n",
        "            #здесь добавляется последняя 'n-грамма' (она может быть меньшего размера)\n",
        "            seq = tuple(sentence_ind[len(sentence_ind) - self.context_size:])\n",
        "            self.n_gramms_stat[seq] += 1\n",
        "\n",
        "    def sample_token(self,\n",
        "                     token_distribution: np.ndarray,\n",
        "                     generation_config: GenerationConfig) -> int:\n",
        "\n",
        "        if generation_config.decoding_strategy == 'max':\n",
        "            return token_distribution.argmax()\n",
        "        elif generation_config.decoding_strategy == 'top-p':\n",
        "            token_distribution = sorted(list(zip(token_distribution, np.arange(len(token_distribution)))),\n",
        "                                        reverse=True)\n",
        "            total_proba = 0.0\n",
        "            tokens_to_sample = []\n",
        "            tokens_probas = []\n",
        "            for token_proba, ind in token_distribution:\n",
        "                tokens_to_sample.append(ind)\n",
        "                tokens_probas.append(token_proba)\n",
        "                total_proba += token_proba\n",
        "                if total_proba >= generation_config.sample_top_p:\n",
        "                    break\n",
        "            # Чем выше температура T, тем более гладкое (ближе к равномерному) распределение вероятностей\n",
        "            tokens_probas = np.array(tokens_probas) / generation_config.temperature\n",
        "            tokens_probas = tokens_probas / tokens_probas.sum()\n",
        "            return np.random.choice(tokens_to_sample, p=tokens_probas)\n",
        "        else:\n",
        "            raise ValueError(f'Unknown decoding strategy: {generation_config.decoding_strategy}')\n",
        "\n",
        "    def save_stat(self, path: str) -> bool:\n",
        "        stat = {\n",
        "            'n_gramms_stat': self.n_gramms_stat,\n",
        "            'nx_gramms_stat': self.nx_gramms_stat,\n",
        "            'context_size': self.context_size,\n",
        "            'alpha': self.alpha\n",
        "        }\n",
        "        with open(path, 'wb') as fout:\n",
        "            pickle.dump(stat, fout)\n",
        "\n",
        "        return True\n",
        "\n",
        "    def load_stat(self, path: str) -> bool:\n",
        "        with open(path, 'rb') as fin:\n",
        "            stat = pickle.load(fin)\n",
        "\n",
        "        self.n_gramms_stat = stat['n_gramms_stat']\n",
        "        self.nx_gramms_stat = stat['nx_gramms_stat']\n",
        "        self.context_size = stat['context_size']\n",
        "        self.alpha = stat['alpha']\n",
        "\n",
        "        return True\n",
        "\n",
        "    def get_stat(self) -> Dict[str, Dict]:\n",
        "\n",
        "        n_token_stat, nx_token_stat = {}, {}\n",
        "        for token_inds, count in self.n_gramms_stat.items():\n",
        "            n_token_stat[self.tokenizer.decode(token_inds)] = count\n",
        "\n",
        "        for token_inds, count in self.nx_gramms_stat.items():\n",
        "            nx_token_stat[self.tokenizer.decode(token_inds)] = count\n",
        "\n",
        "        return {\n",
        "            'n gramms stat': self.n_gramms_stat,\n",
        "            'n+1 gramms stat': self.nx_gramms_stat,\n",
        "            'n tokens stat': n_token_stat,\n",
        "            'n+1 tokens stat': nx_token_stat,\n",
        "        }\n",
        "\n",
        "    def _get_next_token(self,\n",
        "                        tokens: List[int],\n",
        "                        generation_config: GenerationConfig) -> (int, str):\n",
        "\n",
        "        denominator = self.n_gramms_stat.get(tuple(tokens), 0) + self.alpha * len(self.tokenizer.vocab)\n",
        "        numerators = [0] * self.tokenizer.vocab_size\n",
        "        for ind in self.tokenizer.inverse_vocab:\n",
        "            numerators[ind] = self.nx_gramms_stat.get(tuple(tokens + [ind]), 0) + self.alpha\n",
        "\n",
        "        token_distribution = np.array(numerators) / denominator\n",
        "        if len(np.unique(token_distribution)) == 1:\n",
        "            last_token = self.tokenizer.inverse_vocab[tokens[-1]]\n",
        "            end_status = last_token[-1]\n",
        "            start_status = last_token[-1][0]\n",
        "            #После конца слова не может идти ничего, кроме начала следующего (#)\n",
        "            if end_status == '#' or last_token in self.tokenizer.special_tokens:\n",
        "                for ind in range(self.tokenizer.vocab_size):\n",
        "                    token = self.tokenizer.inverse_vocab[ind]\n",
        "                    if token[0] != '#':\n",
        "                        token_distribution[ind] = 0\n",
        "\n",
        "            #После начала слова не может идти начало слова\n",
        "            elif start_status == '#':\n",
        "                for ind in range(self.tokenizer.vocab_size):\n",
        "                    token = self.tokenizer.inverse_vocab[ind]\n",
        "                    if token[0] == '#':\n",
        "                        token_distribution[ind] = 0\n",
        "            #После середины слова не может идти начало слова\n",
        "            else:\n",
        "                for ind in range(self.tokenizer.vocab_size):\n",
        "                    token = self.tokenizer.inverse_vocab[ind]\n",
        "                    if token[0] != '#':\n",
        "                        token_distribution[ind] = 0\n",
        "\n",
        "            #Перенормировка\n",
        "            token_distribution = token_distribution / token_distribution.sum()\n",
        "\n",
        "        max_proba_ind = self.sample_token(token_distribution, generation_config)\n",
        "\n",
        "        next_token = self.tokenizer.inverse_vocab[max_proba_ind]\n",
        "\n",
        "        return max_proba_ind, next_token\n",
        "\n",
        "    def generate_token(self,\n",
        "                       text: str,\n",
        "                       generation_config: GenerationConfig\n",
        "                      ) -> Dict:\n",
        "        tokens = self.tokenizer.encode(text, append_eos_token=False)\n",
        "        tokens = tokens[-self.context_size + 1:]\n",
        "\n",
        "        max_proba_ind, next_token = self._get_next_token(tokens, generation_config)\n",
        "\n",
        "        return {\n",
        "            'next_token': next_token,\n",
        "            'next_token_num': max_proba_ind,\n",
        "        }\n",
        "\n",
        "\n",
        "    def generate_text(self, text: str,\n",
        "                      generation_config: GenerationConfig\n",
        "                     ) -> Dict:\n",
        "\n",
        "        all_tokens = self.tokenizer.encode(text, append_eos_token=False)\n",
        "        tokens = all_tokens[-self.context_size + 1:]\n",
        "\n",
        "        next_token = None\n",
        "        while next_token != self.tokenizer.eos_token:\n",
        "\n",
        "            if  len(all_tokens) == generation_config.max_tokens:\n",
        "                all_tokens.append(self.tokenizer.vocab[self.tokenizer.eos_token])\n",
        "                break\n",
        "\n",
        "            max_proba_ind, next_token = self._get_next_token(tokens, generation_config)\n",
        "            all_tokens.append(max_proba_ind)\n",
        "            tokens = all_tokens[-self.context_size + 1:]\n",
        "\n",
        "        new_text = self.tokenizer.decode(all_tokens, generation_config.remove_special_tokens)\n",
        "\n",
        "        finish_reason = 'max tokens'\n",
        "        if all_tokens[-1] == self.tokenizer.vocab[self.tokenizer.eos_token]:\n",
        "            finish_reason = 'end of text'\n",
        "\n",
        "        return {\n",
        "            'all_tokens': all_tokens,\n",
        "            'total_text': new_text,\n",
        "            'finish_reason': finish_reason\n",
        "        }\n",
        "\n",
        "    def generate(self, text: str, generation_config: Dict) -> str:\n",
        "        return self.generate_text(text, generation_config)['total_text']"
      ]
    },
    {
      "cell_type": "code",
      "execution_count": 28,
      "id": "4cfdad05",
      "metadata": {
        "id": "4cfdad05"
      },
      "outputs": [],
      "source": [
        "def construct_model(BASE_PATH: str):\n",
        "    config = {\n",
        "        'temperature': 1.0,\n",
        "        'max_tokens': 32,\n",
        "        'sample_top_p': 0.9,\n",
        "        'decoding_strategy': 'top-p',\n",
        "    }\n",
        "\n",
        "    stat_lm_path = BASE_PATH + 'stat_lm_4.pkl'\n",
        "    tokenizer_path = BASE_PATH + 'tokenizer.pkl'\n",
        "\n",
        "    tokenizer = Tokenizer()\n",
        "    tokenizer.load(tokenizer_path)\n",
        "\n",
        "    stat_lm = StatLM(tokenizer)\n",
        "    stat_lm.load_stat(stat_lm_path)\n",
        "\n",
        "    generation_config = GenerationConfig(temperature=config['temperature'],\n",
        "                                         max_tokens=config['max_tokens'],\n",
        "                                         sample_top_p=config['sample_top_p'],\n",
        "                                         decoding_strategy=config['decoding_strategy'],\n",
        "                                         remove_special_tokens=True)\n",
        "\n",
        "    kwargs = {'generation_config': generation_config}\n",
        "    return stat_lm, kwargs"
      ]
    },
    {
      "cell_type": "markdown",
      "id": "3a85b767",
      "metadata": {
        "id": "3a85b767"
      },
      "source": [
        "# Обучение\n"
      ]
    },
    {
      "cell_type": "markdown",
      "source": [
        "Для обучения использовался датасет русской литературы: https://www.kaggle.com/datasets/d0rj3228/russian-literature/data"
      ],
      "metadata": {
        "id": "nOGm0Q7YTsG6"
      },
      "id": "nOGm0Q7YTsG6"
    },
    {
      "cell_type": "code",
      "execution_count": null,
      "id": "KfSNsbEtH98W",
      "metadata": {
        "id": "KfSNsbEtH98W"
      },
      "outputs": [],
      "source": [
        "from google.colab import drive\n",
        "drive.mount('/content/drive')\n",
        "BASE_PATH = \"/content/drive/MyDrive/telegram_bot/stat_model/\""
      ]
    },
    {
      "cell_type": "code",
      "execution_count": 17,
      "id": "1rTMCJTk4tmT",
      "metadata": {
        "id": "1rTMCJTk4tmT"
      },
      "outputs": [],
      "source": [
        "rl = pd.read_csv(BASE_PATH + 'russian_literature.csv', index_col=0)"
      ]
    },
    {
      "cell_type": "code",
      "execution_count": 18,
      "id": "e9b153a2",
      "metadata": {
        "colab": {
          "base_uri": "https://localhost:8080/",
          "height": 362
        },
        "id": "e9b153a2",
        "outputId": "401f6090-4bbf-49bf-bbf4-f00f6324721c"
      },
      "outputs": [
        {
          "output_type": "execute_result",
          "data": {
            "text/plain": [
              "                                                text   author\n",
              "0  С каждым годом более и более учреждается общес...  Tolstoy\n",
              "1  \"Никакой слуга не может служить двум господам:...  Tolstoy\n",
              "2  Нравственный закон так ясен, что нельзя людям ...  Tolstoy\n",
              "3  Получил приглашение ваше и с радостью приехал ...  Tolstoy\n",
              "4  Лев Толстой. О НАУКЕ\\n\\n  \\n                  ...  Tolstoy\n",
              "5  В христианском мире идут в настоящее время две...  Tolstoy\n",
              "6  Милостивая государыня!\\n   Получил письмо ваше...  Tolstoy\n",
              "7  1\\n\\n   Мне уже несколько раз приходилось выск...  Tolstoy\n",
              "8  В нынешнем 1896 году молодой человек Ван-дер-В...  Tolstoy\n",
              "9  I\\n\\n  \\n   В России существуют миссионеры, об...  Tolstoy"
            ],
            "text/html": [
              "\n",
              "  <div id=\"df-c593e532-f0b2-4f0e-9040-a15347b680d3\" class=\"colab-df-container\">\n",
              "    <div>\n",
              "<style scoped>\n",
              "    .dataframe tbody tr th:only-of-type {\n",
              "        vertical-align: middle;\n",
              "    }\n",
              "\n",
              "    .dataframe tbody tr th {\n",
              "        vertical-align: top;\n",
              "    }\n",
              "\n",
              "    .dataframe thead th {\n",
              "        text-align: right;\n",
              "    }\n",
              "</style>\n",
              "<table border=\"1\" class=\"dataframe\">\n",
              "  <thead>\n",
              "    <tr style=\"text-align: right;\">\n",
              "      <th></th>\n",
              "      <th>text</th>\n",
              "      <th>author</th>\n",
              "    </tr>\n",
              "  </thead>\n",
              "  <tbody>\n",
              "    <tr>\n",
              "      <th>0</th>\n",
              "      <td>С каждым годом более и более учреждается общес...</td>\n",
              "      <td>Tolstoy</td>\n",
              "    </tr>\n",
              "    <tr>\n",
              "      <th>1</th>\n",
              "      <td>\"Никакой слуга не может служить двум господам:...</td>\n",
              "      <td>Tolstoy</td>\n",
              "    </tr>\n",
              "    <tr>\n",
              "      <th>2</th>\n",
              "      <td>Нравственный закон так ясен, что нельзя людям ...</td>\n",
              "      <td>Tolstoy</td>\n",
              "    </tr>\n",
              "    <tr>\n",
              "      <th>3</th>\n",
              "      <td>Получил приглашение ваше и с радостью приехал ...</td>\n",
              "      <td>Tolstoy</td>\n",
              "    </tr>\n",
              "    <tr>\n",
              "      <th>4</th>\n",
              "      <td>Лев Толстой. О НАУКЕ\\n\\n  \\n                  ...</td>\n",
              "      <td>Tolstoy</td>\n",
              "    </tr>\n",
              "    <tr>\n",
              "      <th>5</th>\n",
              "      <td>В христианском мире идут в настоящее время две...</td>\n",
              "      <td>Tolstoy</td>\n",
              "    </tr>\n",
              "    <tr>\n",
              "      <th>6</th>\n",
              "      <td>Милостивая государыня!\\n   Получил письмо ваше...</td>\n",
              "      <td>Tolstoy</td>\n",
              "    </tr>\n",
              "    <tr>\n",
              "      <th>7</th>\n",
              "      <td>1\\n\\n   Мне уже несколько раз приходилось выск...</td>\n",
              "      <td>Tolstoy</td>\n",
              "    </tr>\n",
              "    <tr>\n",
              "      <th>8</th>\n",
              "      <td>В нынешнем 1896 году молодой человек Ван-дер-В...</td>\n",
              "      <td>Tolstoy</td>\n",
              "    </tr>\n",
              "    <tr>\n",
              "      <th>9</th>\n",
              "      <td>I\\n\\n  \\n   В России существуют миссионеры, об...</td>\n",
              "      <td>Tolstoy</td>\n",
              "    </tr>\n",
              "  </tbody>\n",
              "</table>\n",
              "</div>\n",
              "    <div class=\"colab-df-buttons\">\n",
              "\n",
              "  <div class=\"colab-df-container\">\n",
              "    <button class=\"colab-df-convert\" onclick=\"convertToInteractive('df-c593e532-f0b2-4f0e-9040-a15347b680d3')\"\n",
              "            title=\"Convert this dataframe to an interactive table.\"\n",
              "            style=\"display:none;\">\n",
              "\n",
              "  <svg xmlns=\"http://www.w3.org/2000/svg\" height=\"24px\" viewBox=\"0 -960 960 960\">\n",
              "    <path d=\"M120-120v-720h720v720H120Zm60-500h600v-160H180v160Zm220 220h160v-160H400v160Zm0 220h160v-160H400v160ZM180-400h160v-160H180v160Zm440 0h160v-160H620v160ZM180-180h160v-160H180v160Zm440 0h160v-160H620v160Z\"/>\n",
              "  </svg>\n",
              "    </button>\n",
              "\n",
              "  <style>\n",
              "    .colab-df-container {\n",
              "      display:flex;\n",
              "      gap: 12px;\n",
              "    }\n",
              "\n",
              "    .colab-df-convert {\n",
              "      background-color: #E8F0FE;\n",
              "      border: none;\n",
              "      border-radius: 50%;\n",
              "      cursor: pointer;\n",
              "      display: none;\n",
              "      fill: #1967D2;\n",
              "      height: 32px;\n",
              "      padding: 0 0 0 0;\n",
              "      width: 32px;\n",
              "    }\n",
              "\n",
              "    .colab-df-convert:hover {\n",
              "      background-color: #E2EBFA;\n",
              "      box-shadow: 0px 1px 2px rgba(60, 64, 67, 0.3), 0px 1px 3px 1px rgba(60, 64, 67, 0.15);\n",
              "      fill: #174EA6;\n",
              "    }\n",
              "\n",
              "    .colab-df-buttons div {\n",
              "      margin-bottom: 4px;\n",
              "    }\n",
              "\n",
              "    [theme=dark] .colab-df-convert {\n",
              "      background-color: #3B4455;\n",
              "      fill: #D2E3FC;\n",
              "    }\n",
              "\n",
              "    [theme=dark] .colab-df-convert:hover {\n",
              "      background-color: #434B5C;\n",
              "      box-shadow: 0px 1px 3px 1px rgba(0, 0, 0, 0.15);\n",
              "      filter: drop-shadow(0px 1px 2px rgba(0, 0, 0, 0.3));\n",
              "      fill: #FFFFFF;\n",
              "    }\n",
              "  </style>\n",
              "\n",
              "    <script>\n",
              "      const buttonEl =\n",
              "        document.querySelector('#df-c593e532-f0b2-4f0e-9040-a15347b680d3 button.colab-df-convert');\n",
              "      buttonEl.style.display =\n",
              "        google.colab.kernel.accessAllowed ? 'block' : 'none';\n",
              "\n",
              "      async function convertToInteractive(key) {\n",
              "        const element = document.querySelector('#df-c593e532-f0b2-4f0e-9040-a15347b680d3');\n",
              "        const dataTable =\n",
              "          await google.colab.kernel.invokeFunction('convertToInteractive',\n",
              "                                                    [key], {});\n",
              "        if (!dataTable) return;\n",
              "\n",
              "        const docLinkHtml = 'Like what you see? Visit the ' +\n",
              "          '<a target=\"_blank\" href=https://colab.research.google.com/notebooks/data_table.ipynb>data table notebook</a>'\n",
              "          + ' to learn more about interactive tables.';\n",
              "        element.innerHTML = '';\n",
              "        dataTable['output_type'] = 'display_data';\n",
              "        await google.colab.output.renderOutput(dataTable, element);\n",
              "        const docLink = document.createElement('div');\n",
              "        docLink.innerHTML = docLinkHtml;\n",
              "        element.appendChild(docLink);\n",
              "      }\n",
              "    </script>\n",
              "  </div>\n",
              "\n",
              "\n",
              "<div id=\"df-6a36bc91-ef8e-4941-8cfd-140139911ec1\">\n",
              "  <button class=\"colab-df-quickchart\" onclick=\"quickchart('df-6a36bc91-ef8e-4941-8cfd-140139911ec1')\"\n",
              "            title=\"Suggest charts\"\n",
              "            style=\"display:none;\">\n",
              "\n",
              "<svg xmlns=\"http://www.w3.org/2000/svg\" height=\"24px\"viewBox=\"0 0 24 24\"\n",
              "     width=\"24px\">\n",
              "    <g>\n",
              "        <path d=\"M19 3H5c-1.1 0-2 .9-2 2v14c0 1.1.9 2 2 2h14c1.1 0 2-.9 2-2V5c0-1.1-.9-2-2-2zM9 17H7v-7h2v7zm4 0h-2V7h2v10zm4 0h-2v-4h2v4z\"/>\n",
              "    </g>\n",
              "</svg>\n",
              "  </button>\n",
              "\n",
              "<style>\n",
              "  .colab-df-quickchart {\n",
              "      --bg-color: #E8F0FE;\n",
              "      --fill-color: #1967D2;\n",
              "      --hover-bg-color: #E2EBFA;\n",
              "      --hover-fill-color: #174EA6;\n",
              "      --disabled-fill-color: #AAA;\n",
              "      --disabled-bg-color: #DDD;\n",
              "  }\n",
              "\n",
              "  [theme=dark] .colab-df-quickchart {\n",
              "      --bg-color: #3B4455;\n",
              "      --fill-color: #D2E3FC;\n",
              "      --hover-bg-color: #434B5C;\n",
              "      --hover-fill-color: #FFFFFF;\n",
              "      --disabled-bg-color: #3B4455;\n",
              "      --disabled-fill-color: #666;\n",
              "  }\n",
              "\n",
              "  .colab-df-quickchart {\n",
              "    background-color: var(--bg-color);\n",
              "    border: none;\n",
              "    border-radius: 50%;\n",
              "    cursor: pointer;\n",
              "    display: none;\n",
              "    fill: var(--fill-color);\n",
              "    height: 32px;\n",
              "    padding: 0;\n",
              "    width: 32px;\n",
              "  }\n",
              "\n",
              "  .colab-df-quickchart:hover {\n",
              "    background-color: var(--hover-bg-color);\n",
              "    box-shadow: 0 1px 2px rgba(60, 64, 67, 0.3), 0 1px 3px 1px rgba(60, 64, 67, 0.15);\n",
              "    fill: var(--button-hover-fill-color);\n",
              "  }\n",
              "\n",
              "  .colab-df-quickchart-complete:disabled,\n",
              "  .colab-df-quickchart-complete:disabled:hover {\n",
              "    background-color: var(--disabled-bg-color);\n",
              "    fill: var(--disabled-fill-color);\n",
              "    box-shadow: none;\n",
              "  }\n",
              "\n",
              "  .colab-df-spinner {\n",
              "    border: 2px solid var(--fill-color);\n",
              "    border-color: transparent;\n",
              "    border-bottom-color: var(--fill-color);\n",
              "    animation:\n",
              "      spin 1s steps(1) infinite;\n",
              "  }\n",
              "\n",
              "  @keyframes spin {\n",
              "    0% {\n",
              "      border-color: transparent;\n",
              "      border-bottom-color: var(--fill-color);\n",
              "      border-left-color: var(--fill-color);\n",
              "    }\n",
              "    20% {\n",
              "      border-color: transparent;\n",
              "      border-left-color: var(--fill-color);\n",
              "      border-top-color: var(--fill-color);\n",
              "    }\n",
              "    30% {\n",
              "      border-color: transparent;\n",
              "      border-left-color: var(--fill-color);\n",
              "      border-top-color: var(--fill-color);\n",
              "      border-right-color: var(--fill-color);\n",
              "    }\n",
              "    40% {\n",
              "      border-color: transparent;\n",
              "      border-right-color: var(--fill-color);\n",
              "      border-top-color: var(--fill-color);\n",
              "    }\n",
              "    60% {\n",
              "      border-color: transparent;\n",
              "      border-right-color: var(--fill-color);\n",
              "    }\n",
              "    80% {\n",
              "      border-color: transparent;\n",
              "      border-right-color: var(--fill-color);\n",
              "      border-bottom-color: var(--fill-color);\n",
              "    }\n",
              "    90% {\n",
              "      border-color: transparent;\n",
              "      border-bottom-color: var(--fill-color);\n",
              "    }\n",
              "  }\n",
              "</style>\n",
              "\n",
              "  <script>\n",
              "    async function quickchart(key) {\n",
              "      const quickchartButtonEl =\n",
              "        document.querySelector('#' + key + ' button');\n",
              "      quickchartButtonEl.disabled = true;  // To prevent multiple clicks.\n",
              "      quickchartButtonEl.classList.add('colab-df-spinner');\n",
              "      try {\n",
              "        const charts = await google.colab.kernel.invokeFunction(\n",
              "            'suggestCharts', [key], {});\n",
              "      } catch (error) {\n",
              "        console.error('Error during call to suggestCharts:', error);\n",
              "      }\n",
              "      quickchartButtonEl.classList.remove('colab-df-spinner');\n",
              "      quickchartButtonEl.classList.add('colab-df-quickchart-complete');\n",
              "    }\n",
              "    (() => {\n",
              "      let quickchartButtonEl =\n",
              "        document.querySelector('#df-6a36bc91-ef8e-4941-8cfd-140139911ec1 button');\n",
              "      quickchartButtonEl.style.display =\n",
              "        google.colab.kernel.accessAllowed ? 'block' : 'none';\n",
              "    })();\n",
              "  </script>\n",
              "</div>\n",
              "    </div>\n",
              "  </div>\n"
            ],
            "application/vnd.google.colaboratory.intrinsic+json": {
              "type": "dataframe",
              "variable_name": "rl",
              "summary": "{\n  \"name\": \"rl\",\n  \"rows\": 324,\n  \"fields\": [\n    {\n      \"column\": \"text\",\n      \"properties\": {\n        \"dtype\": \"string\",\n        \"num_unique_values\": 324,\n        \"samples\": [\n          \"\\n\\u0425\\u0438\\u0440\\u0443\\u0440\\u0433\\u0438\\u044f\\n\\n\\u0417\\u0435\\u043c\\u0441\\u043a\\u0430\\u044f \\u0431\\u043e\\u043b\\u044c\\u043d\\u0438\\u0446\\u0430. \\u0417\\u0430 \\u043e\\u0442\\u0441\\u0443\\u0442\\u0441\\u0442\\u0432\\u0438\\u0435\\u043c \\u0434\\u043e\\u043a\\u0442\\u043e\\u0440\\u0430, \\u0443\\u0435\\u0445\\u0430\\u0432\\u0448\\u0435\\u0433\\u043e \\u0436\\u0435\\u043d\\u0438\\u0442\\u044c\\u0441\\u044f, \\u0431\\u043e\\u043b\\u044c\\u043d\\u044b\\u0445 \\u043f\\u0440\\u0438\\u043d\\u0438\\u043c\\u0430\\u0435\\u0442 \\u0444\\u0435\\u043b\\u044c\\u0434\\u0448\\u0435\\u0440 \\u041a\\u0443\\u0440\\u044f\\u0442\\u0438\\u043d, \\u0442\\u043e\\u043b\\u0441\\u0442\\u044b\\u0439 \\u0447\\u0435\\u043b\\u043e\\u0432\\u0435\\u043a \\u043b\\u0435\\u0442 \\u0441\\u043e\\u0440\\u043e\\u043a\\u0430, \\u0432 \\u043f\\u043e\\u043d\\u043e\\u0448\\u0435\\u043d\\u043d\\u043e\\u0439 \\u0447\\u0435\\u0447\\u0443\\u043d\\u0447\\u043e\\u0432\\u043e\\u0439 \\u0436\\u0430\\u043a\\u0435\\u0442\\u043a\\u0435 \\u0438 \\u0432 \\u0438\\u0441\\u0442\\u0440\\u0435\\u043f\\u0430\\u043d\\u043d\\u044b\\u0445 \\u0442\\u0440\\u0438\\u043a\\u043e\\u0432\\u044b\\u0445 \\u0431\\u0440\\u044e\\u043a\\u0430\\u0445. \\u041d\\u0430 \\u043b\\u0438\\u0446\\u0435 \\u0432\\u044b\\u0440\\u0430\\u0436\\u0435\\u043d\\u0438\\u0435 \\u0447\\u0443\\u0432\\u0441\\u0442\\u0432\\u0430 \\u0434\\u043e\\u043b\\u0433\\u0430 \\u0438 \\u043f\\u0440\\u0438\\u044f\\u0442\\u043d\\u043e\\u0441\\u0442\\u0438. \\u041c\\u0435\\u0436\\u0434\\u0443 \\u0443\\u043a\\u0430\\u0437\\u0430\\u0442\\u0435\\u043b\\u044c\\u043d\\u044b\\u043c \\u0438 \\u0441\\u0440\\u0435\\u0434\\u043d\\u0438\\u043c \\u043f\\u0430\\u043b\\u044c\\u0446\\u0430\\u043c\\u0438 \\u043b\\u0435\\u0432\\u043e\\u0439 \\u0440\\u0443\\u043a\\u0438 \\u2013 \\u0441\\u0438\\u0433\\u0430\\u0440\\u0430, \\u0440\\u0430\\u0441\\u043f\\u0440\\u043e\\u0441\\u0442\\u0440\\u0430\\u043d\\u044f\\u044e\\u0449\\u0430\\u044f \\u0437\\u043b\\u043e\\u0432\\u043e\\u043d\\u0438\\u0435.\\n\\u0412 \\u043f\\u0440\\u0438\\u0435\\u043c\\u043d\\u0443\\u044e \\u0432\\u0445\\u043e\\u0434\\u0438\\u0442 \\u0434\\u044c\\u044f\\u0447\\u043e\\u043a \\u0412\\u043e\\u043d\\u043c\\u0438\\u0433\\u043b\\u0430\\u0441\\u043e\\u0432, \\u0432\\u044b\\u0441\\u043e\\u043a\\u0438\\u0439, \\u043a\\u043e\\u0440\\u0435\\u043d\\u0430\\u0441\\u0442\\u044b\\u0439 \\u0441\\u0442\\u0430\\u0440\\u0438\\u043a \\u0432 \\u043a\\u043e\\u0440\\u0438\\u0447\\u043d\\u0435\\u0432\\u043e\\u0439 \\u0440\\u044f\\u0441\\u0435 \\u0438 \\u0441 \\u0448\\u0438\\u0440\\u043e\\u043a\\u0438\\u043c \\u043a\\u043e\\u0436\\u0430\\u043d\\u044b\\u043c \\u043f\\u043e\\u044f\\u0441\\u043e\\u043c. \\u041f\\u0440\\u0430\\u0432\\u044b\\u0439 \\u0433\\u043b\\u0430\\u0437 \\u0441 \\u0431\\u0435\\u043b\\u044c\\u043c\\u043e\\u043c \\u0438 \\u043f\\u043e\\u043b\\u0443\\u0437\\u0430\\u043a\\u0440\\u044b\\u0442, \\u043d\\u0430 \\u043d\\u043e\\u0441\\u0443 \\u0431\\u043e\\u0440\\u043e\\u0434\\u0430\\u0432\\u043a\\u0430, \\u043f\\u043e\\u0445\\u043e\\u0436\\u0430\\u044f \\u0438\\u0437\\u0434\\u0430\\u043b\\u0438 \\u043d\\u0430 \\u0431\\u043e\\u043b\\u044c\\u0448\\u0443\\u044e \\u043c\\u0443\\u0445\\u0443. \\u0421\\u0435\\u043a\\u0443\\u043d\\u0434\\u0443 \\u0434\\u044c\\u044f\\u0447\\u043e\\u043a \\u0438\\u0449\\u0435\\u0442 \\u0433\\u043b\\u0430\\u0437\\u0430\\u043c\\u0438 \\u0438\\u043a\\u043e\\u043d\\u0443 \\u0438, \\u043d\\u0435 \\u043d\\u0430\\u0439\\u0434\\u044f \\u0442\\u0430\\u043a\\u043e\\u0432\\u043e\\u0439, \\u043a\\u0440\\u0435\\u0441\\u0442\\u0438\\u0442\\u0441\\u044f \\u043d\\u0430 \\u0431\\u0443\\u0442\\u044b\\u043b\\u044c \\u0441 \\u043a\\u0430\\u0440\\u0431\\u043e\\u043b\\u043e\\u0432\\u044b\\u043c \\u0440\\u0430\\u0441\\u0442\\u0432\\u043e\\u0440\\u043e\\u043c, \\u043f\\u043e\\u0442\\u043e\\u043c \\u0432\\u044b\\u043d\\u0438\\u043c\\u0430\\u0435\\u0442 \\u0438\\u0437 \\u043a\\u0440\\u0430\\u0441\\u043d\\u043e\\u0433\\u043e \\u043f\\u043b\\u0430\\u0442\\u043e\\u0447\\u043a\\u0430 \\u043f\\u0440\\u043e\\u0441\\u0444\\u043e\\u0440\\u0443 \\u0438 \\u0441 \\u043f\\u043e\\u043a\\u043b\\u043e\\u043d\\u043e\\u043c \\u043a\\u043b\\u0430\\u0434\\u0435\\u0442 \\u0435\\u0435 \\u043f\\u0435\\u0440\\u0435\\u0434 \\u0444\\u0435\\u043b\\u044c\\u0434\\u0448\\u0435\\u0440\\u043e\\u043c.\\n\\u2013\\u00a0\\u0410\\u0430\\u0430\\u2026 \\u043c\\u043e\\u0435 \\u0432\\u0430\\u043c!\\u00a0\\u2013 \\u0437\\u0435\\u0432\\u0430\\u0435\\u0442 \\u0444\\u0435\\u043b\\u044c\\u0434\\u0448\\u0435\\u0440.\\u00a0\\u2013 \\u0421 \\u0447\\u0435\\u043c \\u043f\\u043e\\u0436\\u0430\\u043b\\u043e\\u0432\\u0430\\u043b\\u0438?\\n\\u2013\\u00a0\\u0421 \\u0432\\u043e\\u0441\\u043a\\u0440\\u0435\\u0441\\u043d\\u044b\\u043c \\u0434\\u043d\\u0435\\u043c \\u0432\\u0430\\u0441, \\u0421\\u0435\\u0440\\u0433\\u0435\\u0439 \\u041a\\u0443\\u0437\\u044c\\u043c\\u0438\\u0447\\u2026 \\u041a \\u0432\\u0430\\u0448\\u0435\\u0439 \\u043c\\u0438\\u043b\\u043e\\u0441\\u0442\\u0438\\u2026 \\u0418\\u0441\\u0442\\u0438\\u043d\\u043d\\u043e \\u0438 \\u043f\\u0440\\u0430\\u0432\\u0434\\u0438\\u0432\\u043e \\u0432 \\u043f\\u0441\\u0430\\u043b\\u0442\\u044b\\u0440\\u0438 \\u0441\\u043a\\u0430\\u0437\\u0430\\u043d\\u043e, \\u0438\\u0437\\u0432\\u0438\\u043d\\u0438\\u0442\\u0435: \\u00ab\\u041f\\u0438\\u0442\\u0438\\u0435 \\u043c\\u043e\\u0435 \\u0441 \\u043f\\u043b\\u0430\\u0447\\u0435\\u043c \\u0440\\u0430\\u0441\\u0442\\u0432\\u043e\\u0440\\u044f\\u0445\\u00bb. \\u0421\\u0435\\u043b \\u043d\\u0430\\u043c\\u0435\\u0434\\u043d\\u0438 \\u0441\\u043e \\u0441\\u0442\\u0430\\u0440\\u0443\\u0445\\u043e\\u0439 \\u0447\\u0430\\u0439 \\u043f\\u0438\\u0442\\u044c \\u0438 \\u2013 \\u043d\\u0438 \\u0431\\u043e\\u0436\\u0435 \\u043c\\u043e\\u0439, \\u043d\\u0438 \\u043a\\u0430\\u043f\\u0435\\u043b\\u044c\\u043a\\u0438, \\u043d\\u0438 \\u0441\\u0438\\u043d\\u044c-\\u043f\\u043e\\u0440\\u043e\\u0445, \\u0445\\u043e\\u0442\\u044c \\u043b\\u043e\\u0436\\u0438\\u0441\\u044c \\u0434\\u0430 \\u043f\\u043e\\u043c\\u0438\\u0440\\u0430\\u0439\\u2026 \\u0425\\u043b\\u0435\\u0431\\u043d\\u0435\\u0448\\u044c \\u0447\\u0443\\u0442\\u043e\\u0447\\u043a\\u0443 \\u2013 \\u0438 \\u0441\\u0438\\u043b\\u044b \\u043c\\u043e\\u0435\\u0439 \\u043d\\u0435\\u0442\\u0443! \\u0410 \\u043a\\u0440\\u043e\\u043c\\u0435 \\u0442\\u043e\\u0433\\u043e, \\u0447\\u0442\\u043e \\u0432 \\u0441\\u0430\\u043c\\u043e\\u043c \\u0437\\u0443\\u0431\\u0435, \\u043d\\u043e \\u0438 \\u0432\\u0441\\u044e \\u044d\\u0442\\u0443 \\u0441\\u0442\\u043e\\u0440\\u043e\\u043d\\u0443\\u2026 \\u0422\\u0430\\u043a \\u0438 \\u043b\\u043e\\u043c\\u0438\\u0442, \\u0442\\u0430\\u043a \\u0438 \\u043b\\u043e\\u043c\\u0438\\u0442! \\u0412 \\u0443\\u0445\\u043e \\u043e\\u0442\\u0434\\u0430\\u0435\\u0442, \\u0438\\u0437\\u0432\\u0438\\u043d\\u0438\\u0442\\u0435, \\u0441\\u043b\\u043e\\u0432\\u043d\\u043e \\u0432 \\u043d\\u0435\\u043c \\u0433\\u0432\\u043e\\u0437\\u0434\\u0438\\u043a \\u0438\\u043b\\u0438 \\u0434\\u0440\\u0443\\u0433\\u043e\\u0439 \\u043a\\u0430\\u043a\\u043e\\u0439 \\u043f\\u0440\\u0435\\u0434\\u043c\\u0435\\u0442: \\u0442\\u0430\\u043a \\u0438 \\u0441\\u0442\\u0440\\u0435\\u043b\\u044f\\u0435\\u0442, \\u0442\\u0430\\u043a \\u0438 \\u0441\\u0442\\u0440\\u0435\\u043b\\u044f\\u0435\\u0442! \\u0421\\u043e\\u0433\\u0440\\u0435\\u0448\\u0438\\u0445\\u043e\\u043c \\u0438 \\u0431\\u0435\\u0437\\u0437\\u0430\\u043a\\u043e\\u043d\\u043d\\u043e\\u0432\\u0430\\u0445\\u043e\\u043c\\u2026 \\u0421\\u0442\\u0443\\u0434\\u043d\\u044b\\u043c\\u0438 \\u0431\\u043e \\u043e\\u043a\\u0430\\u043b\\u044f\\u0445 \\u0434\\u0443\\u0448\\u0443 \\u0433\\u0440\\u0435\\u0445\\u043c\\u0438 \\u0438 \\u0432 \\u043b\\u0435\\u043d\\u043e\\u0441\\u0442\\u0438 \\u0436\\u0438\\u0442\\u0438\\u0435 \\u043c\\u043e\\u0435 \\u0438\\u0436\\u0434\\u0438\\u0445\\u2026 \\u0417\\u0430 \\u0433\\u0440\\u0435\\u0445\\u0438, \\u0421\\u0435\\u0440\\u0433\\u0435\\u0439 \\u041a\\u0443\\u0437\\u044c\\u043c\\u0438\\u0447, \\u0437\\u0430 \\u0433\\u0440\\u0435\\u0445\\u0438! \\u041e\\u0442\\u0435\\u0446 \\u0438\\u0435\\u0440\\u0435\\u0439 \\u043f\\u043e\\u0441\\u043b\\u0435 \\u043b\\u0438\\u0442\\u0443\\u0440\\u0433\\u0438\\u0438 \\u0443\\u043f\\u0440\\u0435\\u043a\\u0430\\u0435\\u0442: \\u00ab\\u041a\\u043e\\u0441\\u043d\\u043e\\u044f\\u0437\\u044b\\u0447\\u0435\\u043d \\u0442\\u044b, \\u0415\\u0444\\u0438\\u043c, \\u0438 \\u0433\\u0443\\u0433\\u043d\\u0438\\u0432 \\u0441\\u0442\\u0430\\u043b. \\u041f\\u043e\\u0451\\u0448\\u044c, \\u0438 \\u043d\\u0438\\u0447\\u0435\\u0433\\u043e \\u0443 \\u0442\\u0435\\u0431\\u044f \\u043d\\u0435 \\u0440\\u0430\\u0437\\u0431\\u0435\\u0440\\u0435\\u0448\\u044c\\u00bb. \\u0410 \\u043a\\u0430\\u043a\\u043e\\u0435, \\u0441\\u0443\\u0434\\u0438\\u0442\\u0435, \\u0442\\u0443\\u0442 \\u043f\\u0435\\u043d\\u0438\\u0435, \\u0435\\u0436\\u0435\\u043b\\u0438 \\u0440\\u0442\\u0430 \\u0440\\u0430\\u0441\\u043a\\u0440\\u044b\\u0442\\u044c \\u043d\\u0435\\u043b\\u044c\\u0437\\u044f, \\u0432\\u0441\\u0435 \\u0440\\u0430\\u0441\\u043f\\u0443\\u0445\\u0448\\u0438, \\u0438\\u0437\\u0432\\u0438\\u043d\\u0438\\u0442\\u0435, \\u0438 \\u043d\\u043e\\u0447\\u044c \\u043d\\u0435 \\u0441\\u043f\\u0430\\u0432\\u0448\\u0438\\u2026\\n\\u2013\\u00a0\\u041c\\u0434\\u0430\\u2026 \\u0421\\u0430\\u0434\\u0438\\u0442\\u0435\\u0441\\u044c\\u2026 \\u0420\\u0430\\u0441\\u043a\\u0440\\u043e\\u0439\\u0442\\u0435 \\u0440\\u043e\\u0442!\\n\\u0412\\u043e\\u043d\\u043c\\u0438\\u0433\\u043b\\u0430\\u0441\\u043e\\u0432 \\u0441\\u0430\\u0434\\u0438\\u0442\\u0441\\u044f \\u0438 \\u0440\\u0430\\u0441\\u043a\\u0440\\u044b\\u0432\\u0430\\u0435\\u0442 \\u0440\\u043e\\u0442.\\n\\u041a\\u0443\\u0440\\u044f\\u0442\\u0438\\u043d \\u0445\\u043c\\u0443\\u0440\\u0438\\u0442\\u0441\\u044f, \\u0433\\u043b\\u044f\\u0434\\u0438\\u0442 \\u0432 \\u0440\\u043e\\u0442 \\u0438 \\u0441\\u0440\\u0435\\u0434\\u0438 \\u043f\\u043e\\u0436\\u0435\\u043b\\u0442\\u0435\\u0432\\u0448\\u0438\\u0445 \\u043e\\u0442 \\u0432\\u0440\\u0435\\u043c\\u0435\\u043d\\u0438 \\u0438 \\u0442\\u0430\\u0431\\u0430\\u043a\\u0443 \\u0437\\u0443\\u0431\\u043e\\u0432 \\u0443\\u0441\\u043c\\u0430\\u0442\\u0440\\u0438\\u0432\\u0430\\u0435\\u0442 \\u043e\\u0434\\u0438\\u043d \\u0437\\u0443\\u0431, \\u0443\\u043a\\u0440\\u0430\\u0448\\u0435\\u043d\\u043d\\u044b\\u0439 \\u0437\\u0438\\u044f\\u044e\\u0449\\u0438\\u043c \\u0434\\u0443\\u043f\\u043b\\u043e\\u043c.\\n\\u2013\\u00a0\\u041e\\u0442\\u0435\\u0446 \\u0434\\u0438\\u0430\\u043a\\u043e\\u043d \\u0432\\u0435\\u043b\\u0435\\u043b\\u0438 \\u0432\\u043e\\u0434\\u043a\\u0443 \\u0441 \\u0445\\u0440\\u0435\\u043d\\u043e\\u043c \\u043f\\u0440\\u0438\\u043a\\u043b\\u0430\\u0434\\u044b\\u0432\\u0430\\u0442\\u044c \\u2013 \\u043d\\u0435 \\u043f\\u043e\\u043c\\u043e\\u0433\\u043b\\u043e. \\u0413\\u043b\\u0438\\u043a\\u0435\\u0440\\u0438\\u044f \\u0410\\u043d\\u0438\\u0441\\u0438\\u043c\\u043e\\u0432\\u043d\\u0430, \\u0434\\u0430\\u0439 \\u0431\\u043e\\u0433 \\u0438\\u043c \\u0437\\u0434\\u043e\\u0440\\u043e\\u0432\\u044c\\u044f, \\u0434\\u0430\\u043b\\u0438 \\u043d\\u0430 \\u0440\\u0443\\u043a\\u0443 \\u043d\\u0438\\u0442\\u043e\\u0447\\u043a\\u0443 \\u043d\\u043e\\u0441\\u0438\\u0442\\u044c \\u0441 \\u0410\\u0444\\u043e\\u043d\\u0441\\u043a\\u043e\\u0439 \\u0433\\u043e\\u0440\\u044b \\u0434\\u0430 \\u0432\\u0435\\u043b\\u0435\\u043b\\u0438 \\u0442\\u0435\\u043f\\u043b\\u044b\\u043c \\u043c\\u043e\\u043b\\u043e\\u043a\\u043e\\u043c \\u0437\\u0443\\u0431 \\u043f\\u043e\\u043b\\u043e\\u0441\\u043a\\u0430\\u0442\\u044c, \\u0430 \\u044f, \\u043f\\u0440\\u0438\\u0437\\u043d\\u0430\\u0442\\u044c\\u0441\\u044f, \\u043d\\u0438\\u0442\\u043e\\u0447\\u043a\\u0443-\\u0442\\u043e \\u043d\\u0430\\u0434\\u0435\\u043b, \\u0430 \\u0432 \\u043e\\u0442\\u043d\\u043e\\u0448\\u0435\\u043d\\u0438\\u0438 \\u043c\\u043e\\u043b\\u043e\\u043a\\u0430 \\u043d\\u0435 \\u0441\\u043e\\u0431\\u043b\\u044e\\u043b: \\u0411\\u043e\\u0433\\u0430 \\u0431\\u043e\\u044e\\u0441\\u044c, \\u043f\\u043e\\u0441\\u0442\\u2026\\n\\u2013\\u00a0\\u041f\\u0440\\u0435\\u0434\\u0440\\u0430\\u0441\\u0441\\u0443\\u0434\\u043e\\u043a\\u2026 (\\u041f\\u0430\\u0443\\u0437\\u0430.) \\u0412\\u044b\\u0440\\u0432\\u0430\\u0442\\u044c \\u0435\\u0433\\u043e \\u043d\\u0443\\u0436\\u043d\\u043e, \\u0415\\u0444\\u0438\\u043c \\u041c\\u0438\\u0445\\u0435\\u0438\\u0447!\\n\\u2013\\u00a0\\u0412\\u0430\\u043c \\u043b\\u0443\\u0447\\u0448\\u0435 \\u0437\\u043d\\u0430\\u0442\\u044c, \\u0421\\u0435\\u0440\\u0433\\u0435\\u0439 \\u041a\\u0443\\u0437\\u044c\\u043c\\u0438\\u0447, \\u043d\\u0430 \\u0442\\u043e \\u0432\\u044b \\u0438 \\u043e\\u0431\\u0443\\u0447\\u0435\\u043d\\u044b, \\u0447\\u0442\\u043e\\u0431 \\u044d\\u0442\\u043e \\u0434\\u0435\\u043b\\u043e \\u043f\\u043e\\u043d\\u0438\\u043c\\u0430\\u0442\\u044c \\u043a\\u0430\\u043a \\u043e\\u043d\\u043e \\u0435\\u0441\\u0442\\u044c, \\u0447\\u0442\\u043e \\u0432\\u044b\\u0440\\u0432\\u0430\\u0442\\u044c, \\u0430 \\u0447\\u0442\\u043e \\u043a\\u0430\\u043f\\u043b\\u044f\\u043c\\u0438 \\u0438\\u043b\\u0438 \\u043f\\u0440\\u043e\\u0447\\u0438\\u043c \\u0447\\u0435\\u043c\\u2026 \\u041d\\u0430 \\u0442\\u043e \\u0432\\u044b, \\u0431\\u043b\\u0430\\u0433\\u043e\\u0434\\u0435\\u0442\\u0435\\u043b\\u0438, \\u0438 \\u043f\\u043e\\u0441\\u0442\\u0430\\u0432\\u043b\\u0435\\u043d\\u044b, \\u0434\\u0430\\u0439 \\u0431\\u043e\\u0433 \\u0432\\u0430\\u043c \\u0437\\u0434\\u043e\\u0440\\u043e\\u0432\\u044c\\u044f, \\u0447\\u0442\\u043e\\u0431 \\u043c\\u044b \\u0437\\u0430 \\u0432\\u0430\\u0441 \\u0434\\u0435\\u043d\\u043d\\u043e \\u0438 \\u043d\\u043e\\u0449\\u043d\\u043e, \\u043e\\u0442\\u0446\\u044b \\u0440\\u043e\\u0434\\u043d\\u044b\\u0435\\u2026 \\u043f\\u043e \\u0433\\u0440\\u043e\\u0431 \\u0436\\u0438\\u0437\\u043d\\u0438\\u2026\\n\\u2013\\u00a0\\u041f\\u0443\\u0441\\u0442\\u044f\\u043a\\u0438\\u2026\\u00a0\\u2013 \\u0441\\u043a\\u0440\\u043e\\u043c\\u043d\\u0438\\u0447\\u0430\\u0435\\u0442 \\u0444\\u0435\\u043b\\u044c\\u0434\\u0448\\u0435\\u0440, \\u043f\\u043e\\u0434\\u0445\\u043e\\u0434\\u044f \\u043a \\u0448\\u043a\\u0430\\u043f\\u0443 \\u0438 \\u0440\\u043e\\u044f\\u0441\\u044c \\u0432 \\u0438\\u043d\\u0441\\u0442\\u0440\\u0443\\u043c\\u0435\\u043d\\u0442\\u0430\\u0445.\\u00a0\\u2013 \\u0425\\u0438\\u0440\\u0443\\u0440\\u0433\\u0438\\u044f \\u2013 \\u043f\\u0443\\u0441\\u0442\\u044f\\u043a\\u0438\\u2026 \\u0422\\u0443\\u0442 \\u0432\\u043e \\u0432\\u0441\\u0435\\u043c \\u043f\\u0440\\u0438\\u0432\\u044b\\u0447\\u043a\\u0430, \\u0442\\u0432\\u0435\\u0440\\u0434\\u043e\\u0441\\u0442\\u044c \\u0440\\u0443\\u043a\\u0438\\u2026 \\u0420\\u0430\\u0437 \\u043f\\u043b\\u044e\\u043d\\u0443\\u0442\\u044c\\u2026 \\u041d\\u0430\\u043c\\u0435\\u0434\\u043d\\u0438 \\u0442\\u043e\\u0436\\u0435, \\u0432\\u043e\\u0442 \\u043a\\u0430\\u043a \\u0438 \\u0432\\u044b, \\u043f\\u0440\\u0438\\u0435\\u0437\\u0436\\u0430\\u0435\\u0442 \\u0432 \\u0431\\u043e\\u043b\\u044c\\u043d\\u0438\\u0446\\u0443 \\u043f\\u043e\\u043c\\u0435\\u0449\\u0438\\u043a \\u0410\\u043b\\u0435\\u043a\\u0441\\u0430\\u043d\\u0434\\u0440 \\u0418\\u0432\\u0430\\u043d\\u044b\\u0447 \\u0415\\u0433\\u0438\\u043f\\u0435\\u0442\\u0441\\u043a\\u0438\\u0439\\u2026 \\u0422\\u043e\\u0436\\u0435 \\u0441 \\u0437\\u0443\\u0431\\u043e\\u043c\\u2026 \\u0427\\u0435\\u043b\\u043e\\u0432\\u0435\\u043a \\u043e\\u0431\\u0440\\u0430\\u0437\\u043e\\u0432\\u0430\\u043d\\u043d\\u044b\\u0439, \\u043e\\u0431\\u043e \\u0432\\u0441\\u0435\\u043c \\u0440\\u0430\\u0441\\u0441\\u043f\\u0440\\u0430\\u0448\\u0438\\u0432\\u0430\\u0435\\u0442, \\u0432\\u043e \\u0432\\u0441\\u0435 \\u0432\\u0445\\u043e\\u0434\\u0438\\u0442, \\u043a\\u0430\\u043a \\u0438 \\u0447\\u0442\\u043e. \\u0420\\u0443\\u043a\\u0443 \\u043f\\u043e\\u0436\\u0438\\u043c\\u0430\\u0435\\u0442, \\u043f\\u043e \\u0438\\u043c\\u0435\\u043d\\u0438 \\u0438 \\u043e\\u0442\\u0447\\u0435\\u0441\\u0442\\u0432\\u0443\\u2026 \\u0412 \\u041f\\u0435\\u0442\\u0435\\u0440\\u0431\\u0443\\u0440\\u0433\\u0435 \\u0441\\u0435\\u043c\\u044c \\u043b\\u0435\\u0442 \\u0436\\u0438\\u043b, \\u0432\\u0441\\u0435\\u0445 \\u043f\\u0440\\u043e\\u0444\\u0435\\u0441\\u0441\\u043e\\u0440\\u043e\\u0432 \\u043f\\u0435\\u0440\\u0435\\u043d\\u044e\\u0445\\u0430\\u043b\\u2026 \\u0414\\u043e\\u043b\\u0433\\u043e \\u043c\\u044b \\u0441 \\u043d\\u0438\\u043c \\u0442\\u0443\\u0442\\u2026 \\u0425\\u0440\\u0438\\u0441\\u0442\\u043e\\u043c-\\u0431\\u043e\\u0433\\u043e\\u043c \\u043c\\u043e\\u043b\\u0438\\u0442: \\u0432\\u044b\\u0440\\u0432\\u0438\\u0442\\u0435 \\u0432\\u044b \\u043c\\u043d\\u0435 \\u0435\\u0433\\u043e, \\u0421\\u0435\\u0440\\u0433\\u0435\\u0439 \\u041a\\u0443\\u0437\\u044c\\u043c\\u0438\\u0447! \\u041e\\u0442\\u0447\\u0435\\u0433\\u043e \\u0436\\u0435 \\u043d\\u0435 \\u0432\\u044b\\u0440\\u0432\\u0430\\u0442\\u044c? \\u0412\\u044b\\u0440\\u0432\\u0430\\u0442\\u044c \\u043c\\u043e\\u0436\\u043d\\u043e. \\u0422\\u043e\\u043b\\u044c\\u043a\\u043e \\u0442\\u0443\\u0442 \\u043f\\u043e\\u043d\\u0438\\u043c\\u0430\\u0442\\u044c \\u043d\\u0430\\u0434\\u043e, \\u0431\\u0435\\u0437 \\u043f\\u043e\\u043d\\u044f\\u0442\\u0438\\u044f \\u043d\\u0435\\u043b\\u044c\\u0437\\u044f\\u2026 \\u0417\\u0443\\u0431\\u044b \\u0440\\u0430\\u0437\\u043d\\u044b\\u0435 \\u0431\\u044b\\u0432\\u0430\\u044e\\u0442. \\u041e\\u0434\\u0438\\u043d \\u0440\\u0432\\u0435\\u0448\\u044c \\u0449\\u0438\\u043f\\u0446\\u0430\\u043c\\u0438, \\u0434\\u0440\\u0443\\u0433\\u043e\\u0439 \\u043a\\u043e\\u0437\\u044c\\u0435\\u0439 \\u043d\\u043e\\u0436\\u043a\\u043e\\u0439, \\u0442\\u0440\\u0435\\u0442\\u0438\\u0439 \\u043a\\u043b\\u044e\\u0447\\u043e\\u043c\\u2026 \\u041a\\u043e\\u043c\\u0443 \\u043a\\u0430\\u043a.\\n\\u0424\\u0435\\u043b\\u044c\\u0434\\u0448\\u0435\\u0440 \\u0431\\u0435\\u0440\\u0435\\u0442 \\u043a\\u043e\\u0437\\u044c\\u044e \\u043d\\u043e\\u0436\\u043a\\u0443, \\u043c\\u0438\\u043d\\u0443\\u0442\\u0443 \\u0441\\u043c\\u043e\\u0442\\u0440\\u0438\\u0442 \\u043d\\u0430 \\u043d\\u0435\\u0435 \\u0432\\u043e\\u043f\\u0440\\u043e\\u0441\\u0438\\u0442\\u0435\\u043b\\u044c\\u043d\\u043e, \\u043f\\u043e\\u0442\\u043e\\u043c \\u043a\\u043b\\u0430\\u0434\\u0435\\u0442 \\u0438 \\u0431\\u0435\\u0440\\u0435\\u0442 \\u0449\\u0438\\u043f\\u0446\\u044b.\\n\\u2013\\u00a0\\u041d\\u0443-\\u0441, \\u0440\\u0430\\u0441\\u043a\\u0440\\u043e\\u0439\\u0442\\u0435 \\u0440\\u043e\\u0442 \\u043f\\u043e\\u0448\\u0438\\u0440\\u0435\\u2026\\u00a0\\u2013 \\u0433\\u043e\\u0432\\u043e\\u0440\\u0438\\u0442 \\u043e\\u043d, \\u043f\\u043e\\u0434\\u0445\\u043e\\u0434\\u044f \\u0441 \\u0449\\u0438\\u043f\\u0446\\u0430\\u043c\\u0438 \\u043a \\u0434\\u044c\\u044f\\u0447\\u043a\\u0443.\\u00a0\\u2013 \\u0421\\u0435\\u0439\\u0447\\u0430\\u0441 \\u043c\\u044b \\u0435\\u0433\\u043e\\u2026 \\u0442\\u043e\\u0432\\u043e\\u2026 \\u0420\\u0430\\u0437 \\u043f\\u043b\\u044e\\u043d\\u0443\\u0442\\u044c\\u2026 \\u0414\\u0435\\u0441\\u043d\\u0443 \\u043f\\u043e\\u0434\\u0440\\u0435\\u0437\\u0430\\u0442\\u044c \\u0442\\u043e\\u043b\\u044c\\u043a\\u043e\\u2026 \\u0442\\u0440\\u0430\\u043a\\u0446\\u0438\\u044e \\u0441\\u0434\\u0435\\u043b\\u0430\\u0442\\u044c \\u043f\\u043e \\u0432\\u0435\\u0440\\u0442\\u0438\\u043a\\u0430\\u043b\\u044c\\u043d\\u043e\\u0439 \\u043e\\u0441\\u0438\\u2026 \\u0438 \\u0432\\u0441\\u0435\\u2026 (\\u043f\\u043e\\u0434\\u0440\\u0435\\u0437\\u044b\\u0432\\u0430\\u0435\\u0442 \\u0434\\u0435\\u0441\\u043d\\u0443) \\u0438 \\u0432\\u0441\\u0435\\u2026\\n\\u2013\\u00a0\\u0411\\u043b\\u0430\\u0433\\u043e\\u0434\\u0435\\u0442\\u0435\\u043b\\u0438 \\u0432\\u044b \\u043d\\u0430\\u0448\\u0438\\u2026 \\u041d\\u0430\\u043c, \\u0434\\u0443\\u0440\\u0430\\u043a\\u0430\\u043c, \\u0438 \\u043d\\u0435\\u0432\\u0434\\u043e\\u043c\\u0435\\u043a, \\u0430 \\u0432\\u0430\\u0441 \\u0413\\u043e\\u0441\\u043f\\u043e\\u0434\\u044c \\u043f\\u0440\\u043e\\u0441\\u0432\\u0435\\u0442\\u0438\\u043b\\u2026\\n\\u2013\\u00a0\\u041d\\u0435 \\u0440\\u0430\\u0441\\u0441\\u0443\\u0436\\u0434\\u0430\\u0439\\u0442\\u0435, \\u0435\\u0436\\u0435\\u043b\\u0438 \\u0443 \\u0432\\u0430\\u0441 \\u0440\\u043e\\u0442 \\u0440\\u0430\\u0441\\u043a\\u0440\\u044b\\u0442\\u2026 \\u042d\\u0442\\u043e\\u0442 \\u043b\\u0435\\u0433\\u043a\\u043e \\u0440\\u0432\\u0430\\u0442\\u044c, \\u0430 \\u0431\\u044b\\u0432\\u0430\\u0435\\u0442 \\u0442\\u0430\\u043a, \\u0447\\u0442\\u043e \\u043e\\u0434\\u043d\\u0438 \\u0442\\u043e\\u043b\\u044c\\u043a\\u043e \\u043a\\u043e\\u0440\\u0435\\u0448\\u043a\\u0438\\u2026 \\u042d\\u0442\\u043e\\u0442 \\u2013 \\u0440\\u0430\\u0437 \\u043f\\u043b\\u044e\\u043d\\u0443\\u0442\\u044c\\u2026 (\\u041d\\u0430\\u043a\\u043b\\u0430\\u0434\\u044b\\u0432\\u0430\\u0435\\u0442 \\u0449\\u0438\\u043f\\u0446\\u044b.) \\u041f\\u043e\\u0441\\u0442\\u043e\\u0439\\u0442\\u0435, \\u043d\\u0435 \\u0434\\u0435\\u0440\\u0433\\u0430\\u0439\\u0442\\u0435\\u0441\\u044c\\u2026 \\u0421\\u0438\\u0434\\u0438\\u0442\\u0435 \\u043d\\u0435\\u043f\\u043e\\u0434\\u0432\\u0438\\u0436\\u043d\\u043e\\u2026 \\u0412 \\u043c\\u0433\\u043d\\u043e\\u0432\\u0435\\u043d\\u0438\\u0435 \\u043e\\u043a\\u0430\\u2026 (\\u0414\\u0435\\u043b\\u0430\\u0435\\u0442 \\u0442\\u0440\\u0430\\u043a\\u0446\\u0438\\u044e.) \\u0413\\u043b\\u0430\\u0432\\u043d\\u043e\\u0435, \\u0447\\u0442\\u043e\\u0431 \\u043f\\u043e\\u0433\\u043b\\u0443\\u0431\\u0436\\u0435 \\u0432\\u0437\\u044f\\u0442\\u044c (\\u0442\\u044f\\u043d\\u0435\\u0442)\\u2026 \\u0447\\u0442\\u043e\\u0431 \\u043a\\u043e\\u0440\\u043e\\u043d\\u043a\\u0430 \\u043d\\u0435 \\u0441\\u043b\\u043e\\u043c\\u0430\\u043b\\u0430\\u0441\\u044c\\u2026\\n\\u2013\\u00a0\\u041e\\u0442\\u0446\\u044b \\u043d\\u0430\\u0448\\u0438\\u2026 \\u041c\\u0430\\u0442\\u044c \\u043f\\u0440\\u0435\\u0441\\u0432\\u044f\\u0442\\u0430\\u044f\\u2026 \\u0412\\u0432\\u0432\\u2026\\n\\u2013\\u00a0\\u041d\\u0435 \\u0442\\u043e\\u0432\\u043e\\u2026 \\u043d\\u0435 \\u0442\\u043e\\u0432\\u043e\\u2026 \\u043a\\u0430\\u043a \\u0435\\u0433\\u043e? \\u041d\\u0435 \\u0445\\u0432\\u0430\\u0442\\u0430\\u0439\\u0442\\u0435 \\u0440\\u0443\\u043a\\u0430\\u043c\\u0438! \\u041f\\u0443\\u0441\\u0442\\u0438\\u0442\\u0435 \\u0440\\u0443\\u043a\\u0438! (\\u0422\\u044f\\u043d\\u0435\\u0442.) \\u0421\\u0435\\u0439\\u0447\\u0430\\u0441\\u2026 \\u0412\\u043e\\u0442, \\u0432\\u043e\\u0442\\u2026 \\u0414\\u0435\\u043b\\u043e-\\u0442\\u043e \\u0432\\u0435\\u0434\\u044c \\u043d\\u0435\\u043b\\u0435\\u0433\\u043a\\u043e\\u0435\\u2026\\n\\u2013\\u00a0\\u041e\\u0442\\u0446\\u044b\\u2026 \\u0440\\u0430\\u0434\\u0435\\u0442\\u0435\\u043b\\u0438\\u2026 (\\u041a\\u0440\\u0438\\u0447\\u0438\\u0442.) \\u0410\\u043d\\u0433\\u0435\\u043b\\u044b! \\u041e\\u0433\\u043e-\\u0433\\u043e\\u2026 \\u0414\\u0430 \\u0434\\u0435\\u0440\\u0433\\u0430\\u0439 \\u0436\\u0435, \\u0434\\u0435\\u0440\\u0433\\u0430\\u0439! \\u0427\\u0435\\u0433\\u043e \\u043f\\u044f\\u0442\\u044c \\u043b\\u0435\\u0442 \\u0442\\u044f\\u043d\\u0435\\u0448\\u044c!\\n\\u2013\\u00a0\\u0414\\u0435\\u043b\\u043e-\\u0442\\u043e \\u0432\\u0435\\u0434\\u044c\\u2026 \\u0445\\u0438\\u0440\\u0443\\u0440\\u0433\\u0438\\u044f\\u2026 \\u0421\\u0440\\u0430\\u0437\\u0443 \\u043d\\u0435\\u043b\\u044c\\u0437\\u044f\\u2026 \\u0412\\u043e\\u0442, \\u0432\\u043e\\u0442\\u2026\\n\\u0412\\u043e\\u043d\\u043c\\u0438\\u0433\\u043b\\u0430\\u0441\\u043e\\u0432 \\u043f\\u043e\\u0434\\u043d\\u0438\\u043c\\u0430\\u0435\\u0442 \\u043a\\u043e\\u043b\\u0435\\u043d\\u0438 \\u0434\\u043e \\u043b\\u043e\\u043a\\u0442\\u0435\\u0439, \\u0448\\u0435\\u0432\\u0435\\u043b\\u0438\\u0442 \\u043f\\u0430\\u043b\\u044c\\u0446\\u0430\\u043c\\u0438, \\u0432\\u044b\\u043f\\u0443\\u0447\\u0438\\u0432\\u0430\\u0435\\u0442 \\u0433\\u043b\\u0430\\u0437\\u0430, \\u043f\\u0440\\u0435\\u0440\\u044b\\u0432\\u0438\\u0441\\u0442\\u043e \\u0434\\u044b\\u0448\\u0438\\u0442\\u2026 \\u041d\\u0430 \\u0431\\u0430\\u0433\\u0440\\u043e\\u0432\\u043e\\u043c \\u043b\\u0438\\u0446\\u0435 \\u0435\\u0433\\u043e \\u0432\\u044b\\u0441\\u0442\\u0443\\u043f\\u0430\\u0435\\u0442 \\u043f\\u043e\\u0442, \\u043d\\u0430 \\u0433\\u043b\\u0430\\u0437\\u0430\\u0445 \\u0441\\u043b\\u0435\\u0437\\u044b. \\u041a\\u0443\\u0440\\u044f\\u0442\\u0438\\u043d \\u0441\\u043e\\u043f\\u0438\\u0442, \\u0442\\u043e\\u043f\\u0447\\u0435\\u0442\\u0441\\u044f \\u043f\\u0435\\u0440\\u0435\\u0434 \\u0434\\u044c\\u044f\\u0447\\u043a\\u043e\\u043c \\u0438 \\u0442\\u044f\\u043d\\u0435\\u0442. \\u041f\\u0440\\u043e\\u0445\\u043e\\u0434\\u044f\\u0442 \\u043c\\u0443\\u0447\\u0438\\u0442\\u0435\\u043b\\u044c\\u043d\\u0435\\u0439\\u0448\\u0438\\u0435 \\u043f\\u043e\\u043b\\u043c\\u0438\\u043d\\u0443\\u0442\\u044b \\u2013 \\u0438 \\u0449\\u0438\\u043f\\u0446\\u044b \\u0441\\u0440\\u044b\\u0432\\u0430\\u044e\\u0442\\u0441\\u044f \\u0441 \\u0437\\u0443\\u0431\\u0430. \\u0414\\u044c\\u044f\\u0447\\u043e\\u043a \\u0432\\u0441\\u043a\\u0430\\u043a\\u0438\\u0432\\u0430\\u0435\\u0442 \\u0438 \\u043b\\u0435\\u0437\\u0435\\u0442 \\u043f\\u0430\\u043b\\u044c\\u0446\\u0430\\u043c\\u0438 \\u0432 \\u0440\\u043e\\u0442. \\u0412\\u043e \\u0440\\u0442\\u0443 \\u043d\\u0430\\u0449\\u0443\\u043f\\u044b\\u0432\\u0430\\u0435\\u0442 \\u043e\\u043d \\u0437\\u0443\\u0431 \\u043d\\u0430 \\u0441\\u0442\\u0430\\u0440\\u043e\\u043c \\u043c\\u0435\\u0441\\u0442\\u0435.\\n\\u2013\\u00a0\\u0422\\u044f\\u043d\\u0443\\u043b!\\u00a0\\u2013 \\u0433\\u043e\\u0432\\u043e\\u0440\\u0438\\u0442 \\u043e\\u043d \\u043f\\u043b\\u0430\\u0447\\u0443\\u0449\\u0438\\u043c \\u0438 \\u0432 \\u0442\\u043e \\u0436\\u0435 \\u0432\\u0440\\u0435\\u043c\\u044f \\u043d\\u0430\\u0441\\u043c\\u0435\\u0448\\u043b\\u0438\\u0432\\u044b\\u043c \\u0433\\u043e\\u043b\\u043e\\u0441\\u043e\\u043c.\\u00a0\\u2013 \\u0427\\u0442\\u043e\\u0431 \\u0442\\u0435\\u0431\\u044f \\u0442\\u0430\\u043a \\u043d\\u0430 \\u0442\\u043e\\u043c \\u0441\\u0432\\u0435\\u0442\\u0435 \\u043f\\u043e\\u0442\\u044f\\u043d\\u0443\\u043b\\u043e! \\u0411\\u043b\\u0430\\u0433\\u043e\\u0434\\u0430\\u0440\\u0438\\u043c \\u043f\\u043e\\u043a\\u043e\\u0440\\u043d\\u043e! \\u041a\\u043e\\u043b\\u0438 \\u043d\\u0435 \\u0443\\u043c\\u0435\\u0435\\u0448\\u044c \\u0440\\u0432\\u0430\\u0442\\u044c, \\u0442\\u0430\\u043a \\u043d\\u0435 \\u0431\\u0435\\u0440\\u0438\\u0441\\u044c! \\u0421\\u0432\\u0435\\u0442\\u0430 \\u0431\\u043e\\u0436\\u044c\\u0435\\u0433\\u043e \\u043d\\u0435 \\u0432\\u0438\\u0436\\u0443\\u2026\\n\\u2013\\u00a0\\u0410 \\u0442\\u044b \\u0437\\u0430\\u0447\\u0435\\u043c \\u0440\\u0443\\u043a\\u0430\\u043c\\u0438 \\u0445\\u0432\\u0430\\u0442\\u0430\\u0435\\u0448\\u044c?\\u00a0\\u2013 \\u0441\\u0435\\u0440\\u0434\\u0438\\u0442\\u0441\\u044f \\u0444\\u0435\\u043b\\u044c\\u0434\\u0448\\u0435\\u0440.\\u00a0\\u2013 \\u042f \\u0442\\u044f\\u043d\\u0443, \\u0430 \\u0442\\u044b \\u043c\\u043d\\u0435 \\u043f\\u043e\\u0434 \\u0440\\u0443\\u043a\\u0443 \\u0442\\u043e\\u043b\\u043a\\u0430\\u0435\\u0448\\u044c \\u0438 \\u0440\\u0430\\u0437\\u043d\\u044b\\u0435 \\u0433\\u043b\\u0443\\u043f\\u044b\\u0435 \\u0441\\u043b\\u043e\\u0432\\u0430\\u2026 \\u0414\\u0443\\u0440\\u0430!\\n\\u2013\\u00a0\\u0421\\u0430\\u043c \\u0442\\u044b \\u0434\\u0443\\u0440\\u0430!\\n\\u2013\\u00a0\\u0422\\u044b \\u0434\\u0443\\u043c\\u0430\\u0435\\u0448\\u044c, \\u043c\\u0443\\u0436\\u0438\\u043a, \\u043b\\u0435\\u0433\\u043a\\u043e \\u0437\\u0443\\u0431-\\u0442\\u043e \\u0440\\u0432\\u0430\\u0442\\u044c? \\u0412\\u043e\\u0437\\u044c\\u043c\\u0438\\u0441\\u044c-\\u043a\\u0430! \\u042d\\u0442\\u043e \\u043d\\u0435 \\u0442\\u043e, \\u0447\\u0442\\u043e \\u043d\\u0430 \\u043a\\u043e\\u043b\\u043e\\u043a\\u043e\\u043b\\u044c\\u043d\\u044e \\u043f\\u043e\\u043b\\u0435\\u0437 \\u0434\\u0430 \\u0432 \\u043a\\u043e\\u043b\\u043e\\u043a\\u043e\\u043b\\u0430 \\u043e\\u0442\\u0431\\u0430\\u0440\\u0430\\u0431\\u0430\\u043d\\u0438\\u043b! (\\u0414\\u0440\\u0430\\u0437\\u043d\\u0438\\u0442.) \\u00ab\\u041d\\u0435 \\u0443\\u043c\\u0435\\u0435\\u0448\\u044c, \\u043d\\u0435 \\u0443\\u043c\\u0435\\u0435\\u0448\\u044c!\\u00bb \\u0421\\u043a\\u0430\\u0436\\u0438, \\u043a\\u0430\\u043a\\u043e\\u0439 \\u0443\\u043a\\u0430\\u0437\\u0447\\u0438\\u043a \\u043d\\u0430\\u0448\\u0435\\u043b\\u0441\\u044f! \\u0418\\u0448\\u044c \\u0442\\u044b\\u2026 \\u0413\\u043e\\u0441\\u043f\\u043e\\u0434\\u0438\\u043d\\u0443 \\u0415\\u0433\\u0438\\u043f\\u0435\\u0442\\u0441\\u043a\\u043e\\u043c\\u0443, \\u0410\\u043b\\u0435\\u043a\\u0441\\u0430\\u043d\\u0434\\u0440\\u0443 \\u0418\\u0432\\u0430\\u043d\\u044b\\u0447\\u0443, \\u0440\\u0432\\u0430\\u043b, \\u0434\\u0430 \\u0438 \\u0442\\u043e\\u0442 \\u043d\\u0438\\u0447\\u0435\\u0433\\u043e, \\u043d\\u0438\\u043a\\u0430\\u043a\\u0438\\u0445 \\u0441\\u043b\\u043e\\u0432\\u2026 \\u0427\\u0435\\u043b\\u043e\\u0432\\u0435\\u043a \\u043f\\u043e\\u0447\\u0438\\u0449\\u0435 \\u0442\\u0435\\u0431\\u044f, \\u0430 \\u043d\\u0435 \\u0445\\u0432\\u0430\\u0442\\u0430\\u043b \\u0440\\u0443\\u043a\\u0430\\u043c\\u0438\\u2026 \\u0421\\u0430\\u0434\\u0438\\u0441\\u044c! \\u0421\\u0430\\u0434\\u0438\\u0441\\u044c, \\u0442\\u0435\\u0431\\u0435 \\u0433\\u043e\\u0432\\u043e\\u0440\\u044e!\\n\\u2013\\u00a0\\u0421\\u0432\\u0435\\u0442\\u0430 \\u043d\\u0435 \\u0432\\u0438\\u0436\\u0443\\u2026 \\u0414\\u0430\\u0439 \\u0434\\u0443\\u0445 \\u043f\\u0435\\u0440\\u0435\\u0432\\u0435\\u0441\\u0442\\u0438\\u2026 \\u041e\\u0445! (\\u0421\\u0430\\u0434\\u0438\\u0442\\u0441\\u044f.) \\u041d\\u0435 \\u0442\\u044f\\u043d\\u0438 \\u0442\\u043e\\u043b\\u044c\\u043a\\u043e \\u0434\\u043e\\u043b\\u0433\\u043e, \\u0430 \\u0434\\u0435\\u0440\\u0433\\u0430\\u0439. \\u0422\\u044b \\u043d\\u0435 \\u0442\\u044f\\u043d\\u0438, \\u0430 \\u0434\\u0435\\u0440\\u0433\\u0430\\u0439\\u2026 \\u0421\\u0440\\u0430\\u0437\\u0443!\\n\\u2013\\u00a0\\u0423\\u0447\\u0438 \\u0443\\u0447\\u0435\\u043d\\u043e\\u0433\\u043e! \\u042d\\u043a\\u0438\\u0439, \\u0433\\u043e\\u0441\\u043f\\u043e\\u0434\\u0438, \\u043d\\u0430\\u0440\\u043e\\u0434 \\u043d\\u0435\\u043e\\u0431\\u0440\\u0430\\u0437\\u043e\\u0432\\u0430\\u043d\\u043d\\u044b\\u0439! \\u0416\\u0438\\u0432\\u0438 \\u0432\\u043e\\u0442 \\u0441 \\u044d\\u0442\\u0430\\u043a\\u0438\\u043c\\u0438\\u2026 \\u043e\\u0447\\u0443\\u043c\\u0435\\u0435\\u0448\\u044c! \\u0420\\u0430\\u0441\\u043a\\u0440\\u043e\\u0439 \\u0440\\u043e\\u0442\\u2026 (\\u041d\\u0430\\u043a\\u043b\\u0430\\u0434\\u044b\\u0432\\u0430\\u0435\\u0442 \\u0449\\u0438\\u043f\\u0446\\u044b.) \\u0425\\u0438\\u0440\\u0443\\u0440\\u0433\\u0438\\u044f, \\u0431\\u0440\\u0430\\u0442, \\u043d\\u0435 \\u0448\\u0443\\u0442\\u043a\\u0430\\u2026 \\u042d\\u0442\\u043e \\u043d\\u0435 \\u043d\\u0430 \\u043a\\u043b\\u0438\\u0440\\u043e\\u0441\\u0435 \\u0447\\u0438\\u0442\\u0430\\u0442\\u044c\\u2026 (\\u0414\\u0435\\u043b\\u0430\\u0435\\u0442 \\u0442\\u0440\\u0430\\u043a\\u0446\\u0438\\u044e.) \\u041d\\u0435 \\u0434\\u0435\\u0440\\u0433\\u0430\\u0439\\u0441\\u044f\\u2026 \\u0417\\u0443\\u0431, \\u0432\\u044b\\u0445\\u043e\\u0434\\u0438\\u0442, \\u0437\\u0430\\u0441\\u0442\\u0430\\u0440\\u0435\\u043b\\u044b\\u0439, \\u0433\\u043b\\u0443\\u0431\\u043e\\u043a\\u043e \\u043a\\u043e\\u0440\\u043d\\u0438 \\u043f\\u0443\\u0441\\u0442\\u0438\\u043b\\u2026 (\\u0422\\u044f\\u043d\\u0435\\u0442.) \\u041d\\u0435 \\u0448\\u0435\\u0432\\u0435\\u043b\\u0438\\u0441\\u044c\\u2026 \\u0422\\u0430\\u043a\\u2026 \\u0442\\u0430\\u043a\\u2026 \\u041d\\u0435 \\u0448\\u0435\\u0432\\u0435\\u043b\\u0438\\u0441\\u044c\\u2026 \\u041d\\u0443, \\u043d\\u0443\\u2026 (\\u0421\\u043b\\u044b\\u0448\\u0435\\u043d \\u0445\\u0440\\u0443\\u0441\\u0442\\u044f\\u0449\\u0438\\u0439 \\u0437\\u0432\\u0443\\u043a.) \\u0422\\u0430\\u043a \\u0438 \\u0437\\u043d\\u0430\\u043b!\\n\\u0412\\u043e\\u043d\\u043c\\u0438\\u0433\\u043b\\u0430\\u0441\\u043e\\u0432 \\u0441\\u0438\\u0434\\u0438\\u0442 \\u043c\\u0438\\u043d\\u0443\\u0442\\u0443 \\u043d\\u0435\\u043f\\u043e\\u0434\\u0432\\u0438\\u0436\\u043d\\u043e, \\u0441\\u043b\\u043e\\u0432\\u043d\\u043e \\u0431\\u0435\\u0437 \\u0447\\u0443\\u0432\\u0441\\u0442\\u0432. \\u041e\\u043d \\u043e\\u0448\\u0435\\u043b\\u043e\\u043c\\u043b\\u0435\\u043d\\u2026 \\u0413\\u043b\\u0430\\u0437\\u0430 \\u0435\\u0433\\u043e \\u0442\\u0443\\u043f\\u043e \\u0433\\u043b\\u044f\\u0434\\u044f\\u0442 \\u0432 \\u043f\\u0440\\u043e\\u0441\\u0442\\u0440\\u0430\\u043d\\u0441\\u0442\\u0432\\u043e, \\u043d\\u0430 \\u0431\\u043b\\u0435\\u0434\\u043d\\u043e\\u043c \\u043b\\u0438\\u0446\\u0435 \\u043f\\u043e\\u0442.\\n\\u2013\\u00a0\\u0411\\u044b\\u043b\\u043e \\u0431 \\u043c\\u043d\\u0435 \\u043a\\u043e\\u0437\\u044c\\u0435\\u0439 \\u043d\\u043e\\u0436\\u043a\\u043e\\u0439\\u2026\\u00a0\\u2013 \\u0431\\u043e\\u0440\\u043c\\u043e\\u0447\\u0435\\u0442 \\u0444\\u0435\\u043b\\u044c\\u0434\\u0448\\u0435\\u0440.\\u00a0\\u2013 \\u042d\\u0442\\u0430\\u043a\\u0430\\u044f \\u043e\\u043a\\u0430\\u0437\\u0438\\u044f!\\n\\u041f\\u0440\\u0438\\u0434\\u044f \\u0432 \\u0441\\u0435\\u0431\\u044f, \\u0434\\u044c\\u044f\\u0447\\u043e\\u043a \\u0441\\u0443\\u0435\\u0442 \\u0432 \\u0440\\u043e\\u0442 \\u043f\\u0430\\u043b\\u044c\\u0446\\u044b \\u0438 \\u043d\\u0430 \\u043c\\u0435\\u0441\\u0442\\u0435 \\u0431\\u043e\\u043b\\u044c\\u043d\\u043e\\u0433\\u043e \\u0437\\u0443\\u0431\\u0430 \\u043d\\u0430\\u0445\\u043e\\u0434\\u0438\\u0442 \\u0434\\u0432\\u0430 \\u0442\\u043e\\u0440\\u0447\\u0430\\u0449\\u0438\\u0445 \\u0432\\u044b\\u0441\\u0442\\u0443\\u043f\\u0430.\\n\\u2013\\u00a0\\u041f\\u0430\\u0440\\u0440\\u0448\\u0438\\u0432\\u044b\\u0439 \\u0447\\u0435\\u0440\\u0442\\u2026\\u00a0\\u2013 \\u0432\\u044b\\u0433\\u043e\\u0432\\u0430\\u0440\\u0438\\u0432\\u0430\\u0435\\u0442 \\u043e\\u043d.\\u00a0\\u2013 \\u041d\\u0430\\u0441\\u0430\\u0436\\u0430\\u043b\\u0438 \\u0432\\u0430\\u0441 \\u0437\\u0434\\u0435\\u0441\\u044c, \\u0438\\u0440\\u043e\\u0434\\u043e\\u0432, \\u043d\\u0430 \\u043d\\u0430\\u0448\\u0443 \\u043f\\u043e\\u0433\\u0438\\u0431\\u0435\\u043b\\u044c!\\n\\u2013\\u00a0\\u041f\\u043e\\u0440\\u0443\\u0433\\u0430\\u0439\\u0441\\u044f \\u043c\\u043d\\u0435 \\u0435\\u0449\\u0435 \\u0442\\u0443\\u0442\\u2026\\u00a0\\u2013 \\u0431\\u043e\\u0440\\u043c\\u043e\\u0447\\u0435\\u0442 \\u0444\\u0435\\u043b\\u044c\\u0434\\u0448\\u0435\\u0440, \\u043a\\u043b\\u0430\\u0434\\u044f \\u0432 \\u0448\\u043a\\u0430\\u0444 \\u0449\\u0438\\u043f\\u0446\\u044b.\\u00a0\\u2013 \\u041d\\u0435\\u0432\\u0435\\u0436\\u0430\\u2026 \\u041c\\u0430\\u043b\\u043e \\u0442\\u0435\\u0431\\u044f \\u0432 \\u0431\\u0443\\u0440\\u0441\\u0435 \\u0431\\u0435\\u0440\\u0435\\u0437\\u043e\\u0439 \\u043f\\u043e\\u0442\\u0447\\u0435\\u0432\\u0430\\u043b\\u0438\\u2026 \\u0413\\u043e\\u0441\\u043f\\u043e\\u0434\\u0438\\u043d \\u0415\\u0433\\u0438\\u043f\\u0435\\u0442\\u0441\\u043a\\u0438\\u0439, \\u0410\\u043b\\u0435\\u043a\\u0441\\u0430\\u043d\\u0434\\u0440 \\u0418\\u0432\\u0430\\u043d\\u044b\\u0447, \\u0432 \\u041f\\u0435\\u0442\\u0435\\u0440\\u0431\\u0443\\u0440\\u0433\\u0435 \\u043b\\u0435\\u0442 \\u0441\\u0435\\u043c\\u044c \\u0436\\u0438\\u043b\\u2026 \\u043e\\u0431\\u0440\\u0430\\u0437\\u043e\\u0432\\u0430\\u043d\\u043d\\u043e\\u0441\\u0442\\u044c\\u2026 \\u043e\\u0434\\u0438\\u043d \\u043a\\u043e\\u0441\\u0442\\u044e\\u043c \\u0440\\u0443\\u0431\\u043b\\u0435\\u0439 \\u0441\\u0442\\u043e \\u0441\\u0442\\u043e\\u0438\\u0442\\u2026 \\u0434\\u0430 \\u0438 \\u0442\\u043e \\u043d\\u0435 \\u0440\\u0443\\u0433\\u0430\\u043b\\u0441\\u044f\\u2026\\n\\u0410 \\u0442\\u044b \\u0447\\u0442\\u043e \\u0437\\u0430 \\u043f\\u0430\\u0432\\u0430 \\u0442\\u0430\\u043a\\u0430\\u044f? \\u041d\\u0438\\u0448\\u0442\\u043e \\u0442\\u0435\\u0431\\u0435, \\u043d\\u0435 \\u043e\\u043a\\u043e\\u043b\\u0435\\u0435\\u0448\\u044c!\\n\\u0414\\u044c\\u044f\\u0447\\u043e\\u043a \\u0431\\u0435\\u0440\\u0435\\u0442 \\u0441\\u043e \\u0441\\u0442\\u043e\\u043b\\u0430 \\u0441\\u0432\\u043e\\u044e \\u043f\\u0440\\u043e\\u0441\\u0444\\u043e\\u0440\\u0443 \\u0438, \\u043f\\u0440\\u0438\\u0434\\u0435\\u0440\\u0436\\u0438\\u0432\\u0430\\u044f \\u0449\\u0435\\u043a\\u0443 \\u0440\\u0443\\u043a\\u043e\\u0439, \\u0443\\u0445\\u043e\\u0434\\u0438\\u0442 \\u0432\\u043e\\u0441\\u0432\\u043e\\u044f\\u0441\\u0438\\u2026\\n1884\",\n          \"\\u0410\\u043d\\u0442\\u043e\\u043d \\u0427\\u0435\\u0445\\u043e\\u0432\\n\\u041b\\u041e\\u0428\\u0410\\u0414\\u0418\\u041d\\u0410\\u042f \\u0424\\u0410\\u041c\\u0418\\u041b\\u0418\\u042f\\n\\u0423 \\u043e\\u0442\\u0441\\u0442\\u0430\\u0432\\u043d\\u043e\\u0433\\u043e \\u0433\\u0435\\u043d\\u0435\\u0440\\u0430\\u043b-\\u043c\\u0430\\u0439\\u043e\\u0440\\u0430 \\u0411\\u0443\\u043b\\u0434\\u0435\\u0435\\u0432\\u0430 \\u0440\\u0430\\u0437\\u0431\\u043e\\u043b\\u0435\\u043b\\u0438\\u0441\\u044c \\u0437\\u0443\\u0431\\u044b. \\u041e\\u043d \\u043f\\u043e\\u043b\\u043e\\u0441\\u043a\\u0430\\u043b \\u0440\\u043e\\u0442 \\u0432\\u043e\\u0434\\u043a\\u043e\\u0439, \\u043a\\u043e\\u043d\\u044c\\u044f\\u043a\\u043e\\u043c, \\u043f\\u0440\\u0438\\u043a\\u043b\\u0430\\u0434\\u044b\\u0432\\u0430\\u043b \\u043a \\u0431\\u043e\\u043b\\u044c\\u043d\\u043e\\u043c\\u0443 \\u0437\\u0443\\u0431\\u0443 \\u0442\\u0430\\u0431\\u0430\\u0447\\u043d\\u0443\\u044e \\u043a\\u043e\\u043f\\u043e\\u0442\\u044c, \\u043e\\u043f\\u0438\\u0439, \\u0441\\u043a\\u0438\\u043f\\u0438\\u0434\\u0430\\u0440, \\u043a\\u0435\\u0440\\u043e\\u0441\\u0438\\u043d, \\u043c\\u0430\\u0437\\u0430\\u043b \\u0449\\u0435\\u043a\\u0443 \\u0439\\u043e\\u0434\\u043e\\u043c, \\u0432 \\u0443\\u0448\\u0430\\u0445 \\u0443 \\u043d\\u0435\\u0433\\u043e \\u0431\\u044b\\u043b\\u0430 \\u0432\\u0430\\u0442\\u0430, \\u0441\\u043c\\u043e\\u0447\\u0435\\u043d\\u043d\\u0430\\u044f \\u0432 \\u0441\\u043f\\u0438\\u0440\\u0442\\u0443, \\u043d\\u043e \\u0432\\u0441\\u0451 \\u044d\\u0442\\u043e \\u0438\\u043b\\u0438 \\u043d\\u0435 \\u043f\\u043e\\u043c\\u043e\\u0433\\u0430\\u043b\\u043e, \\u0438\\u043b\\u0438 \\u0432\\u044b\\u0437\\u044b\\u0432\\u0430\\u043b\\u043e \\u0442\\u043e\\u0448\\u043d\\u043e\\u0442\\u0443. \\u041f\\u0440\\u0438\\u0435\\u0437\\u0436\\u0430\\u043b \\u0434\\u043e\\u043a\\u0442\\u043e\\u0440. \\u041e\\u043d \\u043f\\u043e\\u043a\\u043e\\u0432\\u044b\\u0440\\u044f\\u043b \\u0432 \\u0437\\u0443\\u0431\\u0435, \\u043f\\u0440\\u043e\\u043f\\u0438\\u0441\\u0430\\u043b \\u0445\\u0438\\u043d\\u0443, \\u043d\\u043e \\u0438 \\u044d\\u0442\\u043e \\u043d\\u0435 \\u043f\\u043e\\u043c\\u043e\\u0433\\u043b\\u043e. \\u041d\\u0430 \\u043f\\u0440\\u0435\\u0434\\u043b\\u043e\\u0436\\u0435\\u043d\\u0438\\u0435 \\u0432\\u044b\\u0440\\u0432\\u0430\\u0442\\u044c \\u0431\\u043e\\u043b\\u044c\\u043d\\u043e\\u0439 \\u0437\\u0443\\u0431 \\u0433\\u0435\\u043d\\u0435\\u0440\\u0430\\u043b \\u043e\\u0442\\u0432\\u0435\\u0442\\u0438\\u043b \\u043e\\u0442\\u043a\\u0430\\u0437\\u043e\\u043c. \\u0412\\u0441\\u0435 \\u0434\\u043e\\u043c\\u0430\\u0448\\u043d\\u0438\\u0435 \\u2014 \\u0436\\u0435\\u043d\\u0430, \\u0434\\u0435\\u0442\\u0438, \\u043f\\u0440\\u0438\\u0441\\u043b\\u0443\\u0433\\u0430, \\u0434\\u0430\\u0436\\u0435 \\u043f\\u043e\\u0432\\u0430\\u0440\\u0435\\u043d\\u043e\\u043a \\u041f\\u0435\\u0442\\u044c\\u043a\\u0430 \\u043f\\u0440\\u0435\\u0434\\u043b\\u0430\\u0433\\u0430\\u043b\\u0438 \\u043a\\u0430\\u0436\\u0434\\u044b\\u0439 \\u0441\\u0432\\u043e\\u0435 \\u0441\\u0440\\u0435\\u0434\\u0441\\u0442\\u0432\\u043e. \\u041c\\u0435\\u0436\\u0434\\u0443 \\u043f\\u0440\\u043e\\u0447\\u0438\\u043c \\u0438 \\u043f\\u0440\\u0438\\u043a\\u0430\\u0437\\u0447\\u0438\\u043a \\u0411\\u0443\\u043b\\u0434\\u0435\\u0435\\u0432\\u0430 \\u0418\\u0432\\u0430\\u043d \\u0415\\u0432\\u0441\\u0435\\u0438\\u0447 \\u043f\\u0440\\u0438\\u0448\\u0435\\u043b \\u043a \\u043d\\u0435\\u043c\\u0443 \\u0438 \\u043f\\u043e\\u0441\\u043e\\u0432\\u0435\\u0442\\u043e\\u0432\\u0430\\u043b \\u043f\\u043e\\u043b\\u0435\\u0447\\u0438\\u0442\\u044c\\u0441\\u044f \\u0437\\u0430\\u0433\\u043e\\u0432\\u043e\\u0440\\u043e\\u043c.\\n\\u2014 \\u0422\\u0443\\u0442, \\u0432 \\u043d\\u0430\\u0448\\u0435\\u043c \\u0443\\u0435\\u0437\\u0434\\u0435, \\u0432\\u0430\\u0448\\u0435 \\u043f\\u0440\\u0435\\u0432\\u043e\\u0441\\u0445\\u043e\\u0434\\u0438\\u0442\\u0435\\u043b\\u044c\\u0441\\u0442\\u0432\\u043e, \\u2014 \\u0441\\u043a\\u0430\\u0437\\u0430\\u043b \\u043e\\u043d, \\u2014 \\u043b\\u0435\\u0442 \\u0434\\u0435\\u0441\\u044f\\u0442\\u044c \\u043d\\u0430\\u0437\\u0430\\u0434 \\u0441\\u043b\\u0443\\u0436\\u0438\\u043b \\u0430\\u043a\\u0446\\u0438\\u0437\\u043d\\u044b\\u0439 \\u042f\\u043a\\u043e\\u0432 \\u0412\\u0430\\u0441\\u0438\\u043b\\u044c\\u0438\\u0447. \\u0417\\u0430\\u0433\\u043e\\u0432\\u0430\\u0440\\u0438\\u0432\\u0430\\u043b \\u0437\\u0443\\u0431\\u044b \\u2014 \\u043f\\u0435\\u0440\\u0432\\u044b\\u0439 \\u0441\\u043e\\u0440\\u0442. \\u0411\\u044b\\u0432\\u0430\\u043b\\u043e, \\u043e\\u0442\\u0432\\u0435\\u0440\\u043d\\u0435\\u0442\\u0441\\u044f \\u043a \\u043e\\u043a\\u043e\\u0448\\u043a\\u0443, \\u043f\\u043e\\u0448\\u0435\\u043f\\u0447\\u0435\\u0442, \\u043f\\u043e\\u043f\\u043b\\u044e\\u0435\\u0442 \\u2014 \\u0438 \\u043a\\u0430\\u043a \\u0440\\u0443\\u043a\\u043e\\u0439! \\u0421\\u0438\\u043b\\u0430 \\u0435\\u043c\\u0443 \\u0442\\u0430\\u043a\\u0430\\u044f \\u0434\\u0430\\u0434\\u0435\\u043d\\u0430...\\n\\u2014 \\u0413\\u0434\\u0435 \\u0436\\u0435 \\u043e\\u043d \\u0442\\u0435\\u043f\\u0435\\u0440\\u044c?\\n\\u2014 \\u0410 \\u043f\\u043e\\u0441\\u043b\\u0435 \\u0442\\u043e\\u0433\\u043e, \\u043a\\u0430\\u043a \\u0435\\u0433\\u043e \\u0438\\u0437 \\u0430\\u043a\\u0446\\u0438\\u0437\\u043d\\u044b\\u0445 \\u0443\\u0432\\u043e\\u043b\\u044c\\u043d\\u0438\\u043b\\u0438, \\u0432 \\u0421\\u0430\\u0440\\u0430\\u0442\\u043e\\u0432\\u0435 \\u0443 \\u0442\\u0435\\u0449\\u0438 \\u0436\\u0438\\u0432\\u0435\\u0442. \\u0422\\u0435\\u043f\\u0435\\u0440\\u044c \\u0442\\u043e\\u043b\\u044c\\u043a\\u043e \\u0437\\u0443\\u0431\\u0430\\u043c\\u0438 \\u0438 \\u043a\\u043e\\u0440\\u043c\\u0438\\u0442\\u0441\\u044f. \\u0415\\u0436\\u0435\\u043b\\u0438 \\u0443 \\u043a\\u043e\\u0442\\u043e\\u0440\\u043e\\u0433\\u043e \\u0447\\u0435\\u043b\\u043e\\u0432\\u0435\\u043a\\u0430 \\u0437\\u0430\\u0431\\u043e\\u043b\\u0438\\u0442 \\u0437\\u0443\\u0431, \\u0442\\u043e \\u0438 \\u0438\\u0434\\u0443\\u0442 \\u043a \\u043d\\u0435\\u043c\\u0443, \\u043f\\u043e\\u043c\\u043e\\u0433\\u0430\\u0435\\u0442... \\u0422\\u0430\\u043c\\u043e\\u0448\\u043d\\u0438\\u0445, \\u0441\\u0430\\u0440\\u0430\\u0442\\u043e\\u0432\\u0441\\u043a\\u0438\\u0445 \\u043d\\u0430 \\u0434\\u043e\\u043c\\u0443 \\u0443 \\u0441\\u0435\\u0431\\u044f \\u043f\\u043e\\u043b\\u044c\\u0437\\u0443\\u0435\\u0442, \\u0430 \\u0435\\u0436\\u0435\\u043b\\u0438 \\u043a\\u043e\\u0442\\u043e\\u0440\\u044b\\u0435 \\u0438\\u0437 \\u0434\\u0440\\u0443\\u0433\\u0438\\u0445 \\u0433\\u043e\\u0440\\u043e\\u0434\\u043e\\u0432, \\u0442\\u043e \\u043f\\u043e \\u0442\\u0435\\u043b\\u0435\\u0433\\u0440\\u0430\\u0444\\u0443. \\u041f\\u043e\\u0448\\u043b\\u0438\\u0442\\u0435 \\u0435\\u043c\\u0443, \\u0432\\u0430\\u0448\\u0435 \\u043f\\u0440\\u0435\\u0432\\u043e\\u0441\\u0445\\u043e\\u0434\\u0438\\u0442\\u0435\\u043b\\u044c\\u0441\\u0442\\u0432\\u043e, \\u0434\\u0435\\u043f\\u0435\\u0448\\u0443, \\u0447\\u0442\\u043e \\u0442\\u0430\\u043a, \\u043c\\u043e\\u043b, \\u0432\\u043e\\u0442 \\u0438 \\u0442\\u0430\\u043a... \\u0443 \\u0440\\u0430\\u0431\\u0430 \\u0431\\u043e\\u0436\\u044c\\u0435\\u0433\\u043e \\u0410\\u043b\\u0435\\u043a\\u0441\\u0438\\u044f \\u0437\\u0443\\u0431\\u044b \\u0431\\u043e\\u043b\\u044f\\u0442, \\u043f\\u0440\\u043e\\u0448\\u0443 \\u0432\\u044b\\u043f\\u043e\\u043b\\u044c\\u0437\\u043e\\u0432\\u0430\\u0442\\u044c. \\u0410 \\u0434\\u0435\\u043d\\u044c\\u0433\\u0438 \\u0437\\u0430 \\u043b\\u0435\\u0447\\u0435\\u043d\\u0438\\u0435 \\u043f\\u043e\\u0447\\u0442\\u043e\\u0439 \\u043f\\u043e\\u0448\\u043b\\u0435\\u0442\\u0435.\\n\\u2014 \\u0415\\u0440\\u0443\\u043d\\u0434\\u0430! \\u0428\\u0430\\u0440\\u043b\\u0430\\u0442\\u0430\\u043d\\u0441\\u0442\\u0432\\u043e!\\n\\u2014 \\u0410 \\u0432\\u044b \\u043f\\u043e\\u043f\\u044b\\u0442\\u0430\\u0439\\u0442\\u0435, \\u0432\\u0430\\u0448\\u0435 \\u043f\\u0440\\u0435\\u0432\\u043e\\u0441\\u0445\\u043e\\u0434\\u0438\\u0442\\u0435\\u043b\\u044c\\u0441\\u0442\\u0432\\u043e. \\u0414\\u043e \\u0432\\u043e\\u0434\\u043a\\u0438 \\u043e\\u0447\\u0435\\u043d\\u044c \\u043e\\u0445\\u043e\\u0442\\u043d\\u0438\\u043a, \\u0436\\u0438\\u0432\\u0435\\u0442 \\u043d\\u0435 \\u0441 \\u0436\\u0435\\u043d\\u043e\\u0439, \\u0430 \\u0441 \\u043d\\u0435\\u043c\\u043a\\u043e\\u0439, \\u0440\\u0443\\u0433\\u0430\\u0442\\u0435\\u043b\\u044c, \\u043d\\u043e, \\u043c\\u043e\\u0436\\u043d\\u043e \\u0441\\u043a\\u0430\\u0437\\u0430\\u0442\\u044c, \\u0447\\u0443\\u0434\\u043e\\u0434\\u0435\\u0439\\u0441\\u0442\\u0432\\u0435\\u043d\\u043d\\u044b\\u0439 \\u0433\\u043e\\u0441\\u043f\\u043e\\u0434\\u0438\\u043d!\\n\\u2014 \\u041f\\u043e\\u0448\\u043b\\u0438, \\u0410\\u043b\\u0435\\u0448\\u0430! \\u2014 \\u0432\\u0437\\u043c\\u043e\\u043b\\u0438\\u043b\\u0430\\u0441\\u044c \\u0433\\u0435\\u043d\\u0435\\u0440\\u0430\\u043b\\u044c\\u0448\\u0430. \\u2014 \\u0422\\u044b \\u0432\\u043e\\u0442 \\u043d\\u0435 \\u0432\\u0435\\u0440\\u0438\\u0448\\u044c \\u0432 \\u0437\\u0430\\u0433\\u043e\\u0432\\u043e\\u0440\\u044b, \\u0430 \\u044f \\u043d\\u0430 \\u0441\\u0435\\u0431\\u0435 \\u0438\\u0441\\u043f\\u044b\\u0442\\u0430\\u043b\\u0430. \\u0425\\u043e\\u0442\\u044f \\u0442\\u044b \\u0438 \\u043d\\u0435 \\u0432\\u0435\\u0440\\u0438\\u0448\\u044c, \\u043d\\u043e \\u043e\\u0442\\u0447\\u0435\\u0433\\u043e \\u043d\\u0435 \\u043f\\u043e\\u0441\\u043b\\u0430\\u0442\\u044c? \\u0420\\u0443\\u043a\\u0438 \\u0432\\u0435\\u0434\\u044c \\u043d\\u0435 \\u043e\\u0442\\u0432\\u0430\\u043b\\u044f\\u0442\\u0441\\u044f \\u043e\\u0442 \\u044d\\u0442\\u043e\\u0433\\u043e.\\n\\u2014 \\u041d\\u0443, \\u043b\\u0430\\u0434\\u043d\\u043e, \\u2014 \\u0441\\u043e\\u0433\\u043b\\u0430\\u0441\\u0438\\u043b\\u0441\\u044f \\u0411\\u0443\\u043b\\u0434\\u0435\\u0435\\u0432. \\u2014 \\u0422\\u0443\\u0442 \\u043d\\u0435 \\u0442\\u043e\\u043b\\u044c\\u043a\\u043e \\u0447\\u0442\\u043e \\u043a \\u0430\\u043a\\u0446\\u0438\\u0437\\u043d\\u043e\\u043c\\u0443, \\u043d\\u043e \\u0438 \\u043a \\u0447\\u0451\\u0440\\u0442\\u0443 \\u0434\\u0435\\u043f\\u0435\\u0448\\u0443 \\u043f\\u043e\\u0448\\u043b\\u0435\\u0448\\u044c... \\u041e\\u0445! \\u041c\\u043e\\u0447\\u0438 \\u043d\\u0435\\u0442! \\u041d\\u0443, \\u0433\\u0434\\u0435 \\u0442\\u0432\\u043e\\u0439 \\u0430\\u043a\\u0446\\u0438\\u0437\\u043d\\u044b\\u0439 \\u0436\\u0438\\u0432\\u0435\\u0442? \\u041a\\u0430\\u043a \\u043a \\u043d\\u0435\\u043c\\u0443 \\u043f\\u0438\\u0441\\u0430\\u0442\\u044c?\\n\\u0413\\u0435\\u043d\\u0435\\u0440\\u0430\\u043b \\u0441\\u0435\\u043b \\u0437\\u0430 \\u0441\\u0442\\u043e\\u043b \\u0438 \\u0432\\u0437\\u044f\\u043b \\u043f\\u0435\\u0440\\u043e \\u0432 \\u0440\\u0443\\u043a\\u0438.\\n\\u2014 \\u0415\\u0433\\u043e \\u0432 \\u0421\\u0430\\u0440\\u0430\\u0442\\u043e\\u0432\\u0435 \\u043a\\u0430\\u0436\\u0434\\u0430\\u044f \\u0441\\u043e\\u0431\\u0430\\u043a\\u0430 \\u0437\\u043d\\u0430\\u0435\\u0442, \\u2014 \\u0441\\u043a\\u0430\\u0437\\u0430\\u043b \\u043f\\u0440\\u0438\\u043a\\u0430\\u0437\\u0447\\u0438\\u043a. \\u2014 \\u0418\\u0437\\u0432\\u043e\\u043b\\u044c\\u0442\\u0435 \\u043f\\u0438\\u0441\\u0430\\u0442\\u044c, \\u0432\\u0430\\u0448\\u0435 \\u043f\\u0440\\u0435\\u0432\\u043e\\u0441\\u0445\\u043e\\u0434\\u0438\\u0442\\u0435\\u043b\\u044c\\u0441\\u0442\\u0432\\u043e, \\u0432 \\u0433\\u043e\\u0440\\u043e\\u0434 \\u0421\\u0430\\u0440\\u0430\\u0442\\u043e\\u0432, \\u0441\\u0442\\u0430\\u043b\\u043e \\u0431\\u044b\\u0442\\u044c... \\u0415\\u0433\\u043e \\u0431\\u043b\\u0430\\u0433\\u043e\\u0440\\u043e\\u0434\\u0438\\u044e \\u0433\\u043e\\u0441\\u043f\\u043e\\u0434\\u0438\\u043d\\u0443 \\u042f\\u043a\\u043e\\u0432\\u0443 \\u0412\\u0430\\u0441\\u0438\\u043b\\u044c\\u0438\\u0447\\u0443... \\u0412\\u0430\\u0441\\u0438\\u043b\\u044c\\u0438\\u0447\\u0443...\\n\\u2014 \\u041d\\u0443?\\n\\u2014 \\u0412\\u0430\\u0441\\u0438\\u043b\\u044c\\u0438\\u0447\\u0443... \\u042f\\u043a\\u043e\\u0432\\u0443 \\u0412\\u0430\\u0441\\u0438\\u043b\\u044c\\u0438\\u0447\\u0443... \\u0430 \\u043f\\u043e \\u0444\\u0430\\u043c\\u0438\\u043b\\u0438\\u0438... \\u0410 \\u0444\\u0430\\u043c\\u0438\\u043b\\u0438\\u044e \\u0432\\u043e\\u0442 \\u0438 \\u0437\\u0430\\u0431\\u044b\\u043b!.. \\u0412\\u0430\\u0441\\u0438\\u043b\\u044c\\u0438\\u0447\\u0443... \\u0427\\u0451\\u0440\\u0442... \\u041a\\u0430\\u043a \\u0436\\u0435 \\u0435\\u0433\\u043e \\u0444\\u0430\\u043c\\u0438\\u043b\\u0438\\u044f? \\u0414\\u0430\\u0432\\u0435\\u0447\\u0430, \\u043a\\u0430\\u043a \\u0441\\u044e\\u0434\\u0430 \\u0448\\u0435\\u043b, \\u043f\\u043e\\u043c\\u043d\\u0438\\u043b... \\u041f\\u043e\\u0437\\u0432\\u043e\\u043b\\u044c\\u0442\\u0435-\\u0441...\\n\\u0418\\u0432\\u0430\\u043d \\u0415\\u0432\\u0441\\u0435\\u0438\\u0447 \\u043f\\u043e\\u0434\\u043d\\u044f\\u043b \\u0433\\u043b\\u0430\\u0437\\u0430 \\u043a \\u043f\\u043e\\u0442\\u043e\\u043b\\u043a\\u0443 \\u0438 \\u0437\\u0430\\u0448\\u0435\\u0432\\u0435\\u043b\\u0438\\u043b \\u0433\\u0443\\u0431\\u0430\\u043c\\u0438. \\u0411\\u0443\\u043b\\u0434\\u0435\\u0435\\u0432 \\u0438 \\u0433\\u0435\\u043d\\u0435\\u0440\\u0430\\u043b\\u044c\\u0448\\u0430 \\u043e\\u0436\\u0438\\u0434\\u0430\\u043b\\u0438 \\u043d\\u0435\\u0442\\u0435\\u0440\\u043f\\u0435\\u043b\\u0438\\u0432\\u043e.\\n\\u2014 \\u041d\\u0443, \\u0447\\u0442\\u043e \\u0436\\u0435? \\u0421\\u043a\\u043e\\u0440\\u0435\\u0439 \\u0434\\u0443\\u043c\\u0430\\u0439!\\n\\u2014 \\u0421\\u0435\\u0439\\u0447\\u0430\\u0441... \\u0412\\u0430\\u0441\\u0438\\u043b\\u044c\\u0438\\u0447\\u0443... \\u042f\\u043a\\u043e\\u0432\\u0443 \\u0412\\u0430\\u0441\\u0438\\u043b\\u044c\\u0438\\u0447\\u0443... \\u0417\\u0430\\u0431\\u044b\\u043b! \\u0422\\u0430\\u043a\\u0430\\u044f \\u0435\\u0449\\u0435 \\u043f\\u0440\\u043e\\u0441\\u0442\\u0430\\u044f \\u0444\\u0430\\u043c\\u0438\\u043b\\u0438\\u044f... \\u0441\\u043b\\u043e\\u0432\\u043d\\u043e \\u043a\\u0430\\u043a \\u0431\\u044b \\u043b\\u043e\\u0448\\u0430\\u0434\\u0438\\u043d\\u0430\\u044f... \\u041a\\u043e\\u0431\\u044b\\u043b\\u0438\\u043d? \\u041d\\u0435\\u0442, \\u043d\\u0435 \\u041a\\u043e\\u0431\\u044b\\u043b\\u0438\\u043d. \\u041f\\u043e\\u0441\\u0442\\u043e\\u0439\\u0442\\u0435... \\u0416\\u0435\\u0440\\u0435\\u0431\\u0446\\u043e\\u0432 \\u043d\\u0435\\u0448\\u0442\\u043e? \\u041d\\u0435\\u0442, \\u0438 \\u043d\\u0435 \\u0416\\u0435\\u0440\\u0435\\u0431\\u0446\\u043e\\u0432. \\u041f\\u043e\\u043c\\u043d\\u044e, \\u0444\\u0430\\u043c\\u0438\\u043b\\u0438\\u044f \\u043b\\u043e\\u0448\\u0430\\u0434\\u0438\\u043d\\u0430\\u044f, \\u0430 \\u043a\\u0430\\u043a\\u0430\\u044f \\u2014 \\u0438\\u0437 \\u0433\\u043e\\u043b\\u043e\\u0432\\u044b \\u0432\\u044b\\u0448\\u0438\\u0431\\u043b\\u043e...\\n\\u2014 \\u0416\\u0435\\u0440\\u0435\\u0431\\u044f\\u0442\\u043d\\u0438\\u043a\\u043e\\u0432?\\n\\u2014 \\u041d\\u0438\\u043a\\u0430\\u043a \\u043d\\u0435\\u0442. \\u041f\\u043e\\u0441\\u0442\\u043e\\u0439\\u0442\\u0435... \\u041a\\u043e\\u0431\\u044b\\u043b\\u0438\\u0446\\u044b\\u043d... \\u041a\\u043e\\u0431\\u044b\\u043b\\u044f\\u0442\\u043d\\u0438\\u043a\\u043e\\u0432... \\u041a\\u043e\\u0431\\u0435\\u043b\\u0435\\u0432...\\n\\u2014 \\u042d\\u0442\\u043e \\u0443\\u0436 \\u0441\\u043e\\u0431\\u0430\\u0447\\u044c\\u044f, \\u0430 \\u043d\\u0435 \\u043b\\u043e\\u0448\\u0430\\u0434\\u0438\\u043d\\u0430\\u044f. \\u0416\\u0435\\u0440\\u0435\\u0431\\u0447\\u0438\\u043a\\u043e\\u0432?\\n\\u2014 \\u041d\\u0435\\u0442, \\u0438 \\u043d\\u0435 \\u0416\\u0435\\u0440\\u0435\\u0431\\u0447\\u0438\\u043a\\u043e\\u0432... \\u041b\\u043e\\u0448\\u0430\\u0434\\u0438\\u043d\\u0438\\u043d... \\u041b\\u043e\\u0448\\u0430\\u043a\\u043e\\u0432... \\u0416\\u0435\\u0440\\u0435\\u0431\\u043a\\u043f\\u043d... \\u0412\\u0441\\u0451 \\u043d\\u0435 \\u0442\\u043e!\\n\\u2014 \\u041d\\u0443, \\u0442\\u0430\\u043a \\u043a\\u0430\\u043a \\u0436\\u0435 \\u044f \\u0431\\u0443\\u0434\\u0443 \\u0435\\u043c\\u0443 \\u043f\\u0438\\u0441\\u0430\\u0442\\u044c? \\u0422\\u044b \\u043f\\u043e\\u0434\\u0443\\u043c\\u0430\\u0439!\\n\\u2014 \\u0421\\u0435\\u0439\\u0447\\u0430\\u0441. \\u041b\\u043e\\u0448\\u0430\\u0434\\u043a\\u0438\\u043d... \\u041a\\u043e\\u0431\\u044b\\u043b\\u043a\\u0438\\u043d... \\u041a\\u043e\\u0440\\u0435\\u043d\\u043d\\u043e\\u0439...\\n\\u2014 \\u041a\\u043e\\u0440\\u0435\\u043d\\u043d\\u0438\\u043a\\u043e\\u0432? \\u2014 \\u0441\\u043f\\u0440\\u043e\\u0441\\u0438\\u043b\\u0430 \\u0433\\u0435\\u043d\\u0435\\u0440\\u0430\\u043b\\u044c\\u0448\\u0430.\\n\\u2014 \\u041d\\u0438\\u043a\\u0430\\u043a \\u043d\\u0435\\u0442. \\u041f\\u0440\\u0438\\u0441\\u0442\\u044f\\u0436\\u043a\\u0438\\u043d... \\u041d\\u0435\\u0442, \\u043d\\u0435 \\u0442\\u043e! \\u0417\\u0430\\u0431\\u044b\\u043b!\\n\\u2014 \\u0422\\u0430\\u043a \\u0437\\u0430\\u0447\\u0435\\u043c \\u0436\\u0435, \\u0447\\u0451\\u0440\\u0442 \\u0442\\u0435\\u0431\\u044f \\u0432\\u043e\\u0437\\u044c\\u043c\\u0438, \\u0441 \\u0441\\u043e\\u0432\\u0435\\u0442\\u0430\\u043c\\u0438 \\u043b\\u0435\\u0437\\u0435\\u0448\\u044c, \\u0435\\u0436\\u0435\\u043b\\u0438 \\u0437\\u0430\\u0431\\u044b\\u043b? \\u2014 \\u0440\\u0430\\u0441\\u0441\\u0435\\u0440\\u0434\\u0438\\u043b\\u0441\\u044f \\u0433\\u0435\\u043d\\u0435\\u0440\\u0430\\u043b. \\u2014 \\u0421\\u0442\\u0443\\u043f\\u0430\\u0439 \\u043e\\u0442\\u0441\\u044e\\u0434\\u0430 \\u0432\\u043e\\u043d!\\n\\u0418\\u0432\\u0430\\u043d \\u0415\\u0432\\u0441\\u0435\\u0438\\u0447 \\u043c\\u0435\\u0434\\u043b\\u0435\\u043d\\u043d\\u043e \\u0432\\u044b\\u0448\\u0435\\u043b, \\u0430 \\u0433\\u0435\\u043d\\u0435\\u0440\\u0430\\u043b \\u0441\\u0445\\u0432\\u0430\\u0442\\u0438\\u043b \\u0441\\u0435\\u0431\\u044f \\u0437\\u0430 \\u0449\\u0435\\u043a\\u0443 \\u0438 \\u0437\\u0430\\u0445\\u043e\\u0434\\u0438\\u043b \\u043f\\u043e \\u043a\\u043e\\u043c\\u043d\\u0430\\u0442\\u0430\\u043c.\\n\\u2014 \\u041e\\u0439, \\u0431\\u0430\\u0442\\u044e\\u0448\\u043a\\u0438! \\u2014 \\u0432\\u043e\\u043f\\u0438\\u043b \\u043e\\u043d. \\u2014 \\u041e\\u0439, \\u043c\\u0430\\u0442\\u0443\\u0448\\u043a\\u0438! \\u041e\\u0445, \\u0441\\u0432\\u0435\\u0442\\u0430 \\u0431\\u0435\\u043b\\u043e\\u0433\\u043e \\u043d\\u0435 \\u0432\\u0438\\u0436\\u0443!\\n\\u041f\\u0440\\u0438\\u043a\\u0430\\u0437\\u0447\\u0438\\u043a \\u0432\\u044b\\u0448\\u0435\\u043b \\u0432 \\u0441\\u0430\\u0434 \\u0438, \\u043f\\u043e\\u0434\\u043d\\u044f\\u0432 \\u043a \\u043d\\u0435\\u0431\\u0443 \\u0433\\u043b\\u0430\\u0437\\u0430, \\u0441\\u0442\\u0430\\u043b \\u043f\\u0440\\u0438\\u043f\\u043e\\u043c\\u0438\\u043d\\u0430\\u0442\\u044c \\u0444\\u0430\\u043c\\u0438\\u043b\\u0438\\u044e \\u0430\\u043a\\u0446\\u0438\\u0437\\u043d\\u043e\\u0433\\u043e:\\n\\u2014 \\u0416\\u0435\\u0440\\u0435\\u0431\\u0447\\u0438\\u043a\\u043e\\u0432... \\u0416\\u0435\\u0440\\u0435\\u0431\\u043a\\u043e\\u0432\\u0441\\u043a\\u0438\\u0439... \\u0416\\u0435\\u0440\\u0435\\u0431\\u0435\\u043d\\u043a\\u043e... \\u041d\\u0435\\u0442, \\u043d\\u0435 \\u0442\\u043e! \\u041b\\u043e\\u0448\\u0430\\u0434\\u0438\\u043d\\u0441\\u043a\\u0438\\u0439... \\u041b\\u043e\\u0448\\u0430\\u0434\\u0435\\u0432\\u0438\\u0447... \\u0416\\u0435\\u0440\\u0435\\u0431\\u043a\\u043e\\u0432\\u0438\\u0447... \\u041a\\u043e\\u0431\\u044b\\u043b\\u044f\\u043d\\u0441\\u043a\\u0438\\u0439...\\n\\u041d\\u0435\\u043c\\u043d\\u043e\\u0433\\u043e \\u043f\\u043e\\u0433\\u043e\\u0434\\u044f \\u0435\\u0433\\u043e \\u043f\\u043e\\u0437\\u0432\\u0430\\u043b\\u0438 \\u043a \\u0433\\u043e\\u0441\\u043f\\u043e\\u0434\\u0430\\u043c.\\n\\u2014 \\u0412\\u0441\\u043f\\u043e\\u043c\\u043d\\u0438\\u043b? \\u2014 \\u0441\\u043f\\u0440\\u043e\\u0441\\u0438\\u043b \\u0433\\u0435\\u043d\\u0435\\u0440\\u0430\\u043b.\\n\\u2014 \\u041d\\u0438\\u043a\\u0430\\u043a \\u043d\\u0435\\u0442, \\u0432\\u0430\\u0448\\u0435 \\u043f\\u0440\\u0435\\u0432\\u043e\\u0441\\u0445\\u043e\\u0434\\u0438\\u0442\\u0435\\u043b\\u044c\\u0441\\u0442\\u0432\\u043e.\\n\\u2014 \\u041c\\u043e\\u0436\\u0435\\u0442 \\u0431\\u044b\\u0442\\u044c, \\u041a\\u043e\\u043d\\u044f\\u0432\\u0441\\u043a\\u0438\\u0439? \\u041b\\u043e\\u0448\\u0430\\u0434\\u043d\\u0438\\u043a\\u043e\\u0432? \\u041d\\u0435\\u0442?\\n\\u0418 \\u0432 \\u0434\\u043e\\u043c\\u0435, \\u0432\\u0441\\u0435 \\u043d\\u0430\\u043f\\u0435\\u0440\\u0435\\u0440\\u044b\\u0432, \\u0441\\u0442\\u0430\\u043b\\u0438 \\u0438\\u0437\\u043e\\u0431\\u0440\\u0435\\u0442\\u0430\\u0442\\u044c \\u0444\\u0430\\u043c\\u0438\\u043b\\u0438\\u0438. \\u041f\\u0435\\u0440\\u0435\\u0431\\u0440\\u0430\\u043b\\u0438 \\u0432\\u0441\\u0435 \\u0432\\u043e\\u0437\\u0440\\u0430\\u0441\\u0442\\u044b, \\u043f\\u043e\\u043b\\u044b \\u0438 \\u043f\\u043e\\u0440\\u043e\\u0434\\u044b \\u043b\\u043e\\u0448\\u0430\\u0434\\u0435\\u0439, \\u0432\\u0441\\u043f\\u043e\\u043c\\u043d\\u0438\\u043b\\u0438 \\u0433\\u0440\\u0438\\u0432\\u0443, \\u043a\\u043e\\u043f\\u044b\\u0442\\u0430, \\u0441\\u0431\\u0440\\u0443\\u044e... \\u0412 \\u0434\\u043e\\u043c\\u0435, \\u0432 \\u0441\\u0430\\u0434\\u0443, \\u0432 \\u043b\\u044e\\u0434\\u0441\\u043a\\u043e\\u0439 \\u0438 \\u043a\\u0443\\u0445\\u043d\\u0435 \\u043b\\u044e\\u0434\\u0438 \\u0445\\u043e\\u0434\\u0438\\u043b\\u0438 \\u0438\\u0437 \\u0443\\u0433\\u043b\\u0430 \\u0432 \\u0443\\u0433\\u043e\\u043b \\u0438, \\u043f\\u043e\\u0447\\u0435\\u0441\\u044b\\u0432\\u0430\\u044f \\u043b\\u0431\\u044b, \\u0438\\u0441\\u043a\\u0430\\u043b\\u0438 \\u0444\\u0430\\u043c\\u0438\\u043b\\u0438\\u044e...\\n\\u041f\\u0440\\u0438\\u043a\\u0430\\u0437\\u0447\\u0438\\u043a\\u0430 \\u0442\\u043e \\u0438 \\u0434\\u0435\\u043b\\u043e \\u0442\\u0440\\u0435\\u0431\\u043e\\u0432\\u0430\\u043b\\u0438 \\u0432 \\u0434\\u043e\\u043c.\\n\\u2014 \\u0422\\u0430\\u0431\\u0443\\u043d\\u043e\\u0432? \\u2014 \\u0441\\u043f\\u0440\\u0430\\u0448\\u0438\\u0432\\u0430\\u043b\\u0438 \\u0443 \\u043d\\u0435\\u0433\\u043e. \\u2014 \\u041a\\u043e\\u043f\\u044b\\u0442\\u0438\\u043d? \\u0416\\u0435\\u0440\\u0435\\u0431\\u043e\\u0432\\u0441\\u043a\\u0438\\u0439?\\n\\u2014 \\u041d\\u0438\\u043a\\u0430\\u043a \\u043d\\u0435\\u0442, \\u2014 \\u043e\\u0442\\u0432\\u0435\\u0447\\u0430\\u043b \\u0418\\u0432\\u0430\\u043d \\u0415\\u0432\\u0441\\u0435\\u0438\\u0447 \\u0438, \\u043f\\u043e\\u0434\\u043d\\u044f\\u0432 \\u0432\\u0432\\u0435\\u0440\\u0445 \\u0433\\u043b\\u0430\\u0437\\u0430, \\u043f\\u0440\\u043e\\u0434\\u043e\\u043b\\u0436\\u0430\\u043b \\u0434\\u0443\\u043c\\u0430\\u0442\\u044c \\u0432\\u0441\\u043b\\u0443\\u0445. \\u2014 \\u041a\\u043e\\u043d\\u0435\\u043d\\u043a\\u043e... \\u041a\\u043e\\u043d\\u0447\\u0435\\u043d\\u043a\\u043e... \\u0416\\u0435\\u0440\\u0435\\u0431\\u0435\\u0435\\u0432... \\u041a\\u043e\\u0431\\u044b\\u043b\\u0435\\u0435\\u0432...\\n\\u2014 \\u041f\\u0430\\u043f\\u0430! \\u2014 \\u043a\\u0440\\u0438\\u0447\\u0430\\u043b\\u0438 \\u0438\\u0437 \\u0434\\u0435\\u0442\\u0441\\u043a\\u043e\\u0439. \\u2014 \\u0422\\u0440\\u043e\\u0439\\u043a\\u0438\\u043d! \\u0423\\u0437\\u0434\\u0435\\u0447\\u043a\\u0438\\u043d!\\n\\u0412\\u0437\\u0431\\u0443\\u0434\\u043e\\u0440\\u0430\\u0436\\u0438\\u043b\\u0430\\u0441\\u044c \\u0432\\u0441\\u044f \\u0443\\u0441\\u0430\\u0434\\u044c\\u0431\\u0430. \\u041d\\u0435\\u0442\\u0435\\u0440\\u043f\\u0435\\u043b\\u0438\\u0432\\u044b\\u0439, \\u0437\\u0430\\u043c\\u0443\\u0447\\u0435\\u043d\\u043d\\u044b\\u0439 \\u0433\\u0435\\u043d\\u0435\\u0440\\u0430\\u043b \\u043f\\u043e\\u043e\\u0431\\u0435\\u0449\\u0430\\u043b \\u0434\\u0430\\u0442\\u044c \\u043f\\u044f\\u0442\\u044c \\u0440\\u0443\\u0431\\u043b\\u0435\\u0439 \\u0442\\u043e\\u043c\\u0443, \\u043a\\u0442\\u043e \\u0432\\u0441\\u043f\\u043e\\u043c\\u043d\\u0438\\u0442 \\u043d\\u0430\\u0441\\u0442\\u043e\\u044f\\u0449\\u0443\\u044e \\u0444\\u0430\\u043c\\u0438\\u043b\\u0438\\u044e, \\u0438 \\u0437\\u0430 \\u0418\\u0432\\u0430\\u043d\\u043e\\u043c \\u0415\\u0432\\u0441\\u0435\\u0438\\u0447\\u0435\\u043c \\u0441\\u0442\\u0430\\u043b\\u0438 \\u0445\\u043e\\u0434\\u0438\\u0442\\u044c \\u0446\\u0435\\u043b\\u044b\\u043c\\u0438 \\u0442\\u043e\\u043b\\u043f\\u0430\\u043c\\u0438...\\n\\u2014 \\u0413\\u043d\\u0435\\u0434\\u043e\\u0432! \\u2014 \\u0433\\u043e\\u0432\\u043e\\u0440\\u0438\\u043b\\u0438 \\u0435\\u043c\\u0443. \\u2014 \\u0420\\u044b\\u0441\\u0438\\u0441\\u0442\\u044b\\u0439! \\u041b\\u043e\\u0448\\u0430\\u0434\\u0438\\u0446\\u043a\\u0438\\u0439!\\n\\u041d\\u043e \\u043d\\u0430\\u0441\\u0442\\u0443\\u043f\\u0438\\u043b \\u0432\\u0435\\u0447\\u0435\\u0440, \\u0430 \\u0444\\u0430\\u043c\\u0438\\u043b\\u0438\\u044f \\u0432\\u0441\\u0451 \\u0435\\u0449\\u0435 \\u043d\\u0435 \\u0431\\u044b\\u043b\\u0430 \\u043d\\u0430\\u0439\\u0434\\u0435\\u043d\\u0430. \\u0422\\u0430\\u043a \\u0438 \\u0441\\u043f\\u0430\\u0442\\u044c \\u043b\\u0435\\u0433\\u043b\\u0438, \\u043d\\u0435 \\u043f\\u043e\\u0441\\u043b\\u0430\\u0432 \\u0442\\u0435\\u043b\\u0435\\u0433\\u0440\\u0430\\u043c\\u043c\\u044b.\\n\\u0413\\u0435\\u043d\\u0435\\u0440\\u0430\\u043b \\u043d\\u0435 \\u0441\\u043f\\u0430\\u043b \\u0432\\u0441\\u044e \\u043d\\u043e\\u0447\\u044c, \\u0445\\u043e\\u0434\\u0438\\u043b \\u0438\\u0437 \\u0443\\u0433\\u043b\\u0430 \\u0432 \\u0443\\u0433\\u043e\\u043b \\u0438 \\u0441\\u0442\\u043e\\u043d\\u0430\\u043b... \\u0412 \\u0442\\u0440\\u0435\\u0442\\u044c\\u0435\\u043c \\u0447\\u0430\\u0441\\u0443 \\u0443\\u0442\\u0440\\u0430 \\u043e\\u043d \\u0432\\u044b\\u0448\\u0435\\u043b \\u0438\\u0437 \\u0434\\u043e\\u043c\\u0443 \\u0438 \\u043f\\u043e\\u0441\\u0442\\u0443\\u0447\\u0430\\u043b\\u0441\\u044f \\u0432 \\u043e\\u043a\\u043d\\u043e \\u043a \\u043f\\u0440\\u0438\\u043a\\u0430\\u0437\\u0447\\u0438\\u043a\\u0443.\\n\\u2014 \\u041d\\u0435 \\u041c\\u0435\\u0440\\u0438\\u043d\\u043e\\u0432 \\u043b\\u0438? \\u2014 \\u0441\\u043f\\u0440\\u043e\\u0441\\u0438\\u043b \\u043e\\u043d \\u043f\\u043b\\u0430\\u0447\\u0443\\u0449\\u0438\\u043c \\u0433\\u043e\\u043b\\u043e\\u0441\\u043e\\u043c.\\n\\u2014 \\u041d\\u0435\\u0442, \\u043d\\u0435 \\u041c\\u0435\\u0440\\u0438\\u043d\\u043e\\u0432, \\u0432\\u0430\\u0448\\u0435 \\u043f\\u0440\\u0435\\u0432\\u043e\\u0441\\u0445\\u043e\\u0434\\u0438\\u0442\\u0435\\u043b\\u044c\\u0441\\u0442\\u0432\\u043e, \\u2014 \\u043e\\u0442\\u0432\\u0435\\u0442\\u0438\\u043b \\u0418\\u0432\\u0430\\u043d \\u0415\\u0432\\u0441\\u0435\\u0438\\u0447 \\u0438 \\u0432\\u0438\\u043d\\u043e\\u0432\\u0430\\u0442\\u043e \\u0432\\u0437\\u0434\\u043e\\u0445\\u043d\\u0443\\u043b.\\n\\u2014 \\u0414\\u0430 \\u043c\\u043e\\u0436\\u0435\\u0442 \\u0431\\u044b\\u0442\\u044c, \\u0444\\u0430\\u043c\\u0438\\u043b\\u0438\\u044f \\u043d\\u0435 \\u043b\\u043e\\u0448\\u0430\\u0434\\u0438\\u043d\\u0430\\u044f, \\u0430 \\u043a\\u0430\\u043a\\u0430\\u044f-\\u043d\\u0438\\u0431\\u0443\\u0434\\u044c \\u0434\\u0440\\u0443\\u0433\\u0430\\u044f!\\n\\u2014 \\u0418\\u0441\\u0442\\u0438\\u043d\\u043d\\u043e \\u0441\\u043b\\u043e\\u0432\\u043e, \\u0432\\u0430\\u0448\\u0435 \\u043f\\u0440\\u0435\\u0432\\u043e\\u0441\\u0445\\u043e\\u0434\\u0438\\u0442\\u0435\\u043b\\u044c\\u0441\\u0442\\u0432\\u043e, \\u043b\\u043e\\u0448\\u0430\\u0434\\u0438\\u043d\\u0430\\u044f... \\u042d\\u0442\\u043e \\u043e\\u0447\\u0435\\u043d\\u044c \\u0434\\u0430\\u0436\\u0435 \\u043e\\u0442\\u043b\\u0438\\u0447\\u043d\\u043e \\u043f\\u043e\\u043c\\u043d\\u044e.\\n\\u2014 \\u042d\\u043a\\u0438\\u0439 \\u0442\\u044b \\u043a\\u0430\\u043a\\u043e\\u0439, \\u0431\\u0440\\u0430\\u0442\\u0435\\u0446, \\u0431\\u0435\\u0441\\u043f\\u0430\\u043c\\u044f\\u0442\\u043d\\u044b\\u0439... \\u0414\\u043b\\u044f \\u043c\\u0435\\u043d\\u044f \\u0442\\u0435\\u043f\\u0435\\u0440\\u044c \\u044d\\u0442\\u0430 \\u0444\\u0430\\u043c\\u0438\\u043b\\u0438\\u044f \\u0434\\u043e\\u0440\\u043e\\u0436\\u0435, \\u043a\\u0430\\u0436\\u0435\\u0442\\u0441\\u044f, \\u0432\\u0441\\u0435\\u0433\\u043e \\u043d\\u0430 \\u0441\\u0432\\u0435\\u0442\\u0435. \\u0417\\u0430\\u043c\\u0443\\u0447\\u0438\\u043b\\u0441\\u044f!\\n\\u0423\\u0442\\u0440\\u043e\\u043c \\u0433\\u0435\\u043d\\u0435\\u0440\\u0430\\u043b \\u043e\\u043f\\u044f\\u0442\\u044c \\u043f\\u043e\\u0441\\u043b\\u0430\\u043b \\u0437\\u0430 \\u0434\\u043e\\u043a\\u0442\\u043e\\u0440\\u043e\\u043c.\\n\\u2014 \\u041f\\u0443\\u0441\\u043a\\u0430\\u0439 \\u0440\\u0432\\u0435\\u0442! \\u2014 \\u0440\\u0435\\u0448\\u0438\\u043b \\u043e\\u043d. \\u2014 \\u041d\\u0435\\u0442 \\u0431\\u043e\\u043b\\u044c\\u0448\\u0435 \\u0441\\u0438\\u043b \\u0442\\u0435\\u0440\\u043f\\u0435\\u0442\\u044c...\\n\\u041f\\u0440\\u0438\\u0435\\u0445\\u0430\\u043b \\u0434\\u043e\\u043a\\u0442\\u043e\\u0440 \\u0438 \\u0432\\u044b\\u0440\\u0432\\u0430\\u043b \\u0431\\u043e\\u043b\\u044c\\u043d\\u043e\\u0439 \\u0437\\u0443\\u0431. \\u0411\\u043e\\u043b\\u044c \\u0443\\u0442\\u0438\\u0445\\u043b\\u0430 \\u0442\\u043e\\u0442\\u0447\\u0430\\u0441 \\u0436\\u0435, \\u0438 \\u0433\\u0435\\u043d\\u0435\\u0440\\u0430\\u043b \\u0443\\u0441\\u043f\\u043e\\u043a\\u043e\\u0438\\u043b\\u0441\\u044f. \\u0421\\u0434\\u0435\\u043b\\u0430\\u0432 \\u0441\\u0432\\u043e\\u0435 \\u0434\\u0435\\u043b\\u043e \\u0438 \\u043f\\u043e\\u043b\\u0443\\u0447\\u0438\\u0432, \\u0447\\u0442\\u043e \\u0441\\u043b\\u0435\\u0434\\u0443\\u0435\\u0442, \\u0437\\u0430 \\u0442\\u0440\\u0443\\u0434, \\u0434\\u043e\\u043a\\u0442\\u043e\\u0440 \\u0441\\u0435\\u043b \\u0432 \\u0441\\u0432\\u043e\\u044e \\u0431\\u0440\\u0438\\u0447\\u043a\\u0443 \\u0438 \\u043f\\u043e\\u0435\\u0445\\u0430\\u043b \\u0434\\u043e\\u043c\\u043e\\u0439. \\u0417\\u0430 \\u0432\\u043e\\u0440\\u043e\\u0442\\u0430\\u043c\\u0438 \\u0432 \\u043f\\u043e\\u043b\\u0435 \\u043e\\u043d \\u0432\\u0441\\u0442\\u0440\\u0435\\u0442\\u0438\\u043b \\u0418\\u0432\\u0430\\u043d\\u0430 \\u0415\\u0432\\u0441\\u0435\\u0438\\u0447\\u0430... \\u041f\\u0440\\u0438\\u043a\\u0430\\u0437\\u0447\\u0438\\u043a \\u0441\\u0442\\u043e\\u044f\\u043b \\u043d\\u0430 \\u043a\\u0440\\u0430\\u044e \\u0434\\u043e\\u0440\\u043e\\u0433\\u0438 \\u0438, \\u0433\\u043b\\u044f\\u0434\\u044f \\u0441\\u043e\\u0441\\u0440\\u0435\\u0434\\u043e\\u0442\\u043e\\u0447\\u0435\\u043d\\u043d\\u043e \\u0441\\u0435\\u0431\\u0435 \\u043f\\u043e\\u0434 \\u043d\\u043e\\u0433\\u0438, \\u043e \\u0447\\u0435\\u043c-\\u0442\\u043e \\u0434\\u0443\\u043c\\u0430\\u043b. \\u0421\\u0443\\u0434\\u044f \\u043f\\u043e \\u043c\\u043e\\u0440\\u0449\\u0438\\u043d\\u0430\\u043c, \\u0431\\u043e\\u0440\\u043e\\u0437\\u0434\\u0438\\u0432\\u0448\\u0438\\u043c \\u0435\\u0433\\u043e \\u043b\\u043e\\u0431, \\u0438 \\u043f\\u043e \\u0432\\u044b\\u0440\\u0430\\u0436\\u0435\\u043d\\u0438\\u044e \\u0433\\u043b\\u0430\\u0437, \\u0434\\u0443\\u043c\\u044b \\u0435\\u0433\\u043e \\u0431\\u044b\\u043b\\u0438 \\u043d\\u0430\\u043f\\u0440\\u044f\\u0436\\u0435\\u043d\\u043d\\u044b, \\u043c\\u0443\\u0447\\u0438\\u0442\\u0435\\u043b\\u044c\\u043d\\u044b...\\n\\u2014 \\u0411\\u0443\\u043b\\u0430\\u043d\\u043e\\u0432... \\u0427\\u0435\\u0440\\u0435\\u0441\\u0441\\u0435\\u0434\\u0435\\u043b\\u044c\\u043d\\u0438\\u043a\\u043e\\u0432... \\u2014 \\u0431\\u043e\\u0440\\u043c\\u043e\\u0442\\u0430\\u043b \\u043e\\u043d. \\u2014 \\u0417\\u0430\\u0441\\u0443\\u043f\\u043e\\u043d\\u0438\\u043d... \\u041b\\u043e\\u0448\\u0430\\u0434\\u0441\\u043a\\u0438\\u0439...\\n\\u2014 \\u0418\\u0432\\u0430\\u043d \\u0415\\u0432\\u0441\\u0435\\u0438\\u0447! \\u2014 \\u043e\\u0431\\u0440\\u0430\\u0442\\u0438\\u043b\\u0441\\u044f \\u043a \\u043d\\u0435\\u043c\\u0443 \\u0434\\u043e\\u043a\\u0442\\u043e\\u0440. \\u2014 \\u041d\\u0435 \\u043c\\u043e\\u0433\\u0443 \\u043b\\u0438 \\u044f, \\u0433\\u043e\\u043b\\u0443\\u0431\\u0447\\u0438\\u043a, \\u043a\\u0443\\u043f\\u0438\\u0442\\u044c \\u0443 \\u0432\\u0430\\u0441 \\u0447\\u0435\\u0442\\u0432\\u0435\\u0440\\u0442\\u0435\\u0439 \\u043f\\u044f\\u0442\\u044c \\u043e\\u0432\\u0441\\u0430? \\u041c\\u043d\\u0435 \\u043f\\u0440\\u043e\\u0434\\u0430\\u044e\\u0442 \\u043d\\u0430\\u0448\\u0438 \\u043c\\u0443\\u0436\\u0438\\u0447\\u043a\\u0438 \\u043e\\u0432\\u0435\\u0441, \\u0434\\u0430 \\u0443\\u0436 \\u0431\\u043e\\u043b\\u044c\\u043d\\u043e \\u043f\\u043b\\u043e\\u0445\\u043e\\u0439...\\n\\u0418\\u0432\\u0430\\u043d \\u0415\\u0432\\u0441\\u0435\\u0438\\u0447 \\u0442\\u0443\\u043f\\u043e \\u043f\\u043e\\u0433\\u043b\\u044f\\u0434\\u0435\\u043b \\u043d\\u0430 \\u0434\\u043e\\u043a\\u0442\\u043e\\u0440\\u0430, \\u043a\\u0430\\u043a-\\u0442\\u043e \\u0434\\u0438\\u043a\\u043e \\u0443\\u043b\\u044b\\u0431\\u043d\\u0443\\u043b\\u0441\\u044f \\u0438, \\u043d\\u0435 \\u0441\\u043a\\u0430\\u0437\\u0430\\u0432 \\u0432 \\u043e\\u0442\\u0432\\u0435\\u0442 \\u043d\\u0438 \\u043e\\u0434\\u043d\\u043e\\u0433\\u043e \\u0441\\u043b\\u043e\\u0432\\u0430, \\u0432\\u0441\\u043f\\u043b\\u0435\\u0441\\u043d\\u0443\\u0432 \\u0440\\u0443\\u043a\\u0430\\u043c\\u0438, \\u043f\\u043e\\u0431\\u0435\\u0436\\u0430\\u043b \\u043a \\u0443\\u0441\\u0430\\u0434\\u044c\\u0431\\u0435 \\u0441 \\u0442\\u0430\\u043a\\u043e\\u0439 \\u0431\\u044b\\u0441\\u0442\\u0440\\u043e\\u0442\\u043e\\u0439, \\u0442\\u043e\\u0447\\u043d\\u043e \\u0437\\u0430 \\u043d\\u0438\\u043c \\u0433\\u043d\\u0430\\u043b\\u0430\\u0441\\u044c \\u0431\\u0435\\u0448\\u0435\\u043d\\u0430\\u044f \\u0441\\u043e\\u0431\\u0430\\u043a\\u0430.\\n\\u2014 \\u041d\\u0430\\u0434\\u0443\\u043c\\u0430\\u043b, \\u0432\\u0430\\u0448\\u0435 \\u043f\\u0440\\u0435\\u0432\\u043e\\u0441\\u0445\\u043e\\u0434\\u0438\\u0442\\u0435\\u043b\\u044c\\u0441\\u0442\\u0432\\u043e! \\u2014 \\u0437\\u0430\\u043a\\u0440\\u0438\\u0447\\u0430\\u043b \\u043e\\u043d \\u0440\\u0430\\u0434\\u043e\\u0441\\u0442\\u043d\\u043e, \\u043d\\u0435 \\u0441\\u0432\\u043e\\u0438\\u043c \\u0433\\u043e\\u043b\\u043e\\u0441\\u043e\\u043c, \\u0432\\u043b\\u0435\\u0442\\u0430\\u044f \\u0432 \\u043a\\u0430\\u0431\\u0438\\u043d\\u0435\\u0442 \\u043a \\u0433\\u0435\\u043d\\u0435\\u0440\\u0430\\u043b\\u0443. \\u2014 \\u041d\\u0430\\u0434\\u0443\\u043c\\u0430\\u043b, \\u0434\\u0430\\u0439 \\u0431\\u043e\\u0433 \\u0437\\u0434\\u043e\\u0440\\u043e\\u0432\\u044c\\u044f \\u0434\\u043e\\u043a\\u0442\\u043e\\u0440\\u0443! \\u041e\\u0432\\u0441\\u043e\\u0432! \\u041e\\u0432\\u0441\\u043e\\u0432 \\u0444\\u0430\\u043c\\u0438\\u043b\\u0438\\u044f \\u0430\\u043a\\u0446\\u0438\\u0437\\u043d\\u043e\\u0433\\u043e! \\u041e\\u0432\\u0441\\u043e\\u0432, \\u0432\\u0430\\u0448\\u0435 \\u043f\\u0440\\u0435\\u0432\\u043e\\u0441\\u0445\\u043e\\u0434\\u0438\\u0442\\u0435\\u043b\\u044c\\u0441\\u0442\\u0432\\u043e! \\u041f\\u043e\\u0441\\u044b\\u043b\\u0430\\u0439\\u0442\\u0435 \\u0434\\u0435\\u043f\\u0435\\u0448\\u0443 \\u041e\\u0432\\u0441\\u043e\\u0432\\u0443!\\n\\u2014 \\u041d\\u0430-\\u043a\\u043e\\u0441\\u044f! \\u2014 \\u0441\\u043a\\u0430\\u0437\\u0430\\u043b \\u0433\\u0435\\u043d\\u0435\\u0440\\u0430\\u043b \\u0441 \\u043f\\u0440\\u0435\\u0437\\u0440\\u0435\\u043d\\u0438\\u0435\\u043c \\u0438 \\u043f\\u043e\\u0434\\u043d\\u0435\\u0441 \\u043a \\u043b\\u0438\\u0446\\u0443 \\u0435\\u0433\\u043e \\u0434\\u0432\\u0430 \\u043a\\u0443\\u043a\\u0438\\u0448\\u0430. \\u2014 \\u041d\\u0435 \\u043d\\u0443\\u0436\\u043d\\u043e \\u043c\\u043d\\u0435 \\u0442\\u0435\\u043f\\u0435\\u0440\\u044c \\u0442\\u0432\\u043e\\u0435\\u0439 \\u043b\\u043e\\u0448\\u0430\\u0434\\u0438\\u043d\\u043e\\u0439 \\u0444\\u0430\\u043c\\u0438\\u043b\\u0438\\u0438! \\u041d\\u0430-\\u043a\\u043e\\u0441\\u044f!\",\n          \"\\u0410\\u043d\\u0442\\u043e\\u043d \\u0427\\u0435\\u0445\\u043e\\u0432\\n\\u0411\\u0415\\u0414\\u0410\\n\\u0414\\u0438\\u0440\\u0435\\u043a\\u0442\\u043e\\u0440\\u0430 \\u0433\\u043e\\u0440\\u043e\\u0434\\u0441\\u043a\\u043e\\u0433\\u043e \\u0431\\u0430\\u043d\\u043a\\u0430 \\u041f\\u0435\\u0442\\u0440\\u0430 \\u0421\\u0435\\u043c\\u0435\\u043d\\u044b\\u0447\\u0430, \\u0431\\u0443\\u0445\\u0433\\u0430\\u043b\\u0442\\u0435\\u0440\\u0430, \\u0435\\u0433\\u043e \\u043f\\u043e\\u043c\\u043e\\u0449\\u043d\\u0438\\u043a\\u0430 \\u0438 \\u0434\\u0432\\u0443\\u0445 \\u0447\\u043b\\u0435\\u043d\\u043e\\u0432 \\u043e\\u0442\\u043f\\u0440\\u0430\\u0432\\u0438\\u043b\\u0438 \\u043d\\u043e\\u0447\\u044c\\u044e \\u0432 \\u0442\\u044e\\u0440\\u044c\\u043c\\u0443. \\u041d\\u0430 \\u0434\\u0440\\u0443\\u0433\\u043e\\u0439 \\u0434\\u0435\\u043d\\u044c \\u043f\\u043e\\u0441\\u043b\\u0435 \\u043f\\u0435\\u0440\\u0435\\u043f\\u043e\\u043b\\u043e\\u0445\\u0430 \\u043a\\u0443\\u043f\\u0435\\u0446 \\u0410\\u0432\\u0434\\u0435\\u0435\\u0432, \\u0447\\u043b\\u0435\\u043d \\u0440\\u0435\\u0432\\u0438\\u0437\\u0438\\u043e\\u043d\\u043d\\u043e\\u0439 \\u043a\\u043e\\u043c\\u0438\\u0441\\u0441\\u0438\\u0438 \\u0431\\u0430\\u043d\\u043a\\u0430, \\u0441\\u0438\\u0434\\u0435\\u043b \\u0441 \\u043f\\u0440\\u0438\\u044f\\u0442\\u0435\\u043b\\u044f\\u043c\\u0438 \\u0443 \\u0441\\u0435\\u0431\\u044f \\u0432 \\u043b\\u0430\\u0432\\u043a\\u0435 \\u0438 \\u0433\\u043e\\u0432\\u043e\\u0440\\u0438\\u043b:\\n\\u2014 \\u0422\\u0430\\u043a, \\u0437\\u043d\\u0430\\u0447\\u0438\\u0442, \\u0431\\u043e\\u0433\\u0443 \\u0443\\u0433\\u043e\\u0434\\u043d\\u043e. \\u041e\\u0442 \\u0441\\u0443\\u0434\\u044c\\u0431\\u044b \\u043d\\u0435 \\u0443\\u0439\\u0434\\u0435\\u0448\\u044c. \\u0421\\u0435\\u0439\\u0447\\u0430\\u0441 \\u0432\\u043e\\u0442 \\u043c\\u044b \\u0438\\u043a\\u0440\\u043e\\u0439 \\u0437\\u0430\\u043a\\u0443\\u0441\\u044b\\u0432\\u0430\\u0435\\u043c, \\u0430 \\u0437\\u0430\\u0432\\u0442\\u0440\\u0430, \\u0433\\u043b\\u044f\\u0434\\u0438, \\u2014 \\u0442\\u044e\\u0440\\u044c\\u043c\\u0430, \\u0441\\u0443\\u043c\\u0430, \\u0430 \\u0442\\u043e \\u0438 \\u0441\\u043c\\u0435\\u0440\\u0442\\u044c. \\u0412\\u0441\\u044f\\u043a\\u043e\\u0435 \\u0431\\u044b\\u0432\\u0430\\u0435\\u0442. \\u0422\\u0435\\u043f\\u0435\\u0440\\u044c \\u0432\\u0437\\u044f\\u0442\\u044c \\u043a \\u043f\\u0440\\u0438\\u043c\\u0435\\u0440\\u0443 \\u0445\\u043e\\u0442\\u044c \\u041f\\u0435\\u0442\\u0440\\u0430 \\u0421\\u0435\\u043c\\u0435\\u043d\\u044b\\u0447\\u0430...\\n\\u041e\\u043d \\u0433\\u043e\\u0432\\u043e\\u0440\\u0438\\u043b \\u0438 \\u0436\\u043c\\u0443\\u0440\\u0438\\u043b \\u0441\\u0432\\u043e\\u0438 \\u043f\\u044c\\u044f\\u043d\\u044b\\u0435 \\u0433\\u043b\\u0430\\u0437\\u043a\\u0438, \\u0430 \\u043f\\u0440\\u0438\\u044f\\u0442\\u0435\\u043b\\u0438 \\u0432\\u044b\\u043f\\u0438\\u0432\\u0430\\u043b\\u0438, \\u0437\\u0430\\u043a\\u0443\\u0441\\u044b\\u0432\\u0430\\u043b\\u0438 \\u0438\\u043a\\u0440\\u043e\\u0439 \\u0438 \\u0441\\u043b\\u0443\\u0448\\u0430\\u043b\\u0438. \\u041e\\u043f\\u0438\\u0441\\u0430\\u0432 \\u043f\\u043e\\u0437\\u043e\\u0440 \\u0438 \\u0431\\u0435\\u0441\\u043f\\u043e\\u043c\\u043e\\u0449\\u043d\\u043e\\u0441\\u0442\\u044c \\u041f\\u0435\\u0442\\u0440\\u0430 \\u0421\\u0435\\u043c\\u0435\\u043d\\u044b\\u0447\\u0430, \\u043a\\u043e\\u0442\\u043e\\u0440\\u044b\\u0439 \\u0435\\u0449\\u0435 \\u0432\\u0447\\u0435\\u0440\\u0430 \\u0431\\u044b\\u043b \\u0441\\u0438\\u043b\\u0435\\u043d \\u0438 \\u0432\\u0441\\u0435\\u043c\\u0438 \\u0443\\u0432\\u0430\\u0436\\u0430\\u0435\\u043c, \\u0410\\u0432\\u0434\\u0435\\u0435\\u0432 \\u043f\\u0440\\u043e\\u0434\\u043e\\u043b\\u0436\\u0430\\u043b \\u0441\\u043e \\u0432\\u0437\\u0434\\u043e\\u0445\\u043e\\u043c:\\n\\u2014 \\u041e\\u0442\\u0437\\u044b\\u0432\\u0430\\u044e\\u0442\\u0441\\u044f \\u043a\\u043e\\u0448\\u043a\\u0435 \\u041c\\u044b\\u0448\\u043a\\u0438\\u043d\\u044b \\u0441\\u043b\\u0435\\u0437\\u043a\\u0438. \\u0422\\u0430\\u043a \\u0438\\u043c, \\u043c\\u043e\\u0448\\u0435\\u043d\\u043d\\u0438\\u043a\\u0430\\u043c, \\u0438 \\u043d\\u0430\\u0434\\u043e! \\u0423\\u043c\\u0435\\u043b\\u0438, \\u043a\\u0443\\u0440\\u0438\\u0446\\u044b\\u043d\\u044b \\u0434\\u0435\\u0442\\u0438, \\u0433\\u0440\\u0430\\u0431\\u0438\\u0442\\u044c, \\u0442\\u0430\\u043a \\u043f\\u0443\\u0449\\u0430\\u0439 \\u0436\\u0435 \\u0442\\u0435\\u043f\\u0435\\u0440\\u044c \\u043e\\u0442\\u0432\\u0435\\u0442 \\u0434\\u0430\\u0434\\u0443\\u0442.\\n\\u2014 \\u0413\\u043b\\u044f\\u0434\\u0438, \\u0418\\u0432\\u0430\\u043d \\u0414\\u0430\\u043d\\u0438\\u043b\\u044b\\u0447, \\u043a\\u0430\\u043a \\u0431\\u044b \\u0438 \\u0442\\u0435\\u0431\\u0435 \\u043d\\u0435 \\u0434\\u043e\\u0441\\u0442\\u0430\\u043b\\u043e\\u0441\\u044c! \\u2014 \\u0437\\u0430\\u043c\\u0435\\u0442\\u0438\\u043b \\u043e\\u0434\\u0438\\u043d \\u0438\\u0437 \\u043f\\u0440\\u0438\\u044f\\u0442\\u0435\\u043b\\u0435\\u0439.\\n\\u2014 \\u0410 \\u043c\\u043d\\u0435 \\u0437\\u0430 \\u0447\\u0442\\u043e?\\n\\u2014 \\u0410 \\u0437\\u0430 \\u0442\\u043e. \\u0422\\u0435 \\u0433\\u0440\\u0430\\u0431\\u0438\\u043b\\u0438, \\u0430 \\u0440\\u0435\\u0432\\u0438\\u0437\\u0438\\u043e\\u043d\\u043d\\u0430\\u044f \\u043a\\u043e\\u043c\\u0438\\u0441\\u0441\\u0438\\u044f \\u0447\\u0442\\u043e \\u0433\\u043b\\u044f\\u0434\\u0435\\u043b\\u0430? \\u041d\\u0435\\u0431\\u043e\\u0441\\u044c \\u0432\\u0435\\u0434\\u044c \\u0442\\u044b \\u043f\\u043e\\u0434\\u043f\\u0438\\u0441\\u044b\\u0432\\u0430\\u043b \\u043e\\u0442\\u0447\\u0435\\u0442\\u044b?\\n\\u2014 \\u042d\\u043a\\u043e\\u0441\\u044c, \\u043b\\u0435\\u0433\\u043a\\u043e \\u043b\\u0438 \\u0434\\u0435\\u043b\\u043e! \\u2014 \\u0443\\u0441\\u043c\\u0435\\u0445\\u043d\\u0443\\u043b\\u0441\\u044f \\u0410\\u0432\\u0434\\u0435\\u0435\\u0432. \\u2014 \\u041f\\u043e\\u0434\\u043f\\u0438\\u0441\\u044b\\u0432\\u0430\\u043b! \\u041d\\u043e\\u0441\\u0438\\u043b\\u0438 \\u043a\\u043e \\u043c\\u043d\\u0435 \\u0432 \\u043b\\u0430\\u0432\\u043a\\u0443 \\u043e\\u0442\\u0447\\u0435\\u0442\\u044b, \\u043d\\u0443 \\u0438 \\u043f\\u043e\\u0434\\u043f\\u0438\\u0441\\u044b\\u0432\\u0430\\u043b. \\u041d\\u0435\\u0448\\u0442\\u043e \\u044f \\u043f\\u043e\\u043d\\u0438\\u043c\\u0430\\u044e? \\u041c\\u043d\\u0435 \\u0447\\u0442\\u043e \\u043d\\u0438 \\u0434\\u0430\\u0439, \\u044f \\u0432\\u0441\\u0451 \\u043f\\u043e\\u0434\\u043c\\u0430\\u0445\\u043d\\u0443. \\u041d\\u0430\\u043f\\u0438\\u0448\\u0438 \\u0442\\u044b \\u0441\\u0435\\u0439\\u0447\\u0430\\u0441, \\u0447\\u0442\\u043e \\u044f \\u0447\\u0435\\u043b\\u043e\\u0432\\u0435\\u043a\\u0430 \\u0437\\u0430\\u0440\\u0435\\u0437\\u0430\\u043b, \\u0442\\u0430\\u043a \\u044f \\u0438 \\u0442\\u043e \\u043f\\u043e\\u0434\\u043f\\u0438\\u0448\\u0443. \\u041d\\u0435 \\u0432\\u0440\\u0435\\u043c\\u044f \\u043c\\u043d\\u0435 \\u0440\\u0430\\u0437\\u0431\\u0438\\u0440\\u0430\\u0442\\u044c, \\u0434\\u0430 \\u0438 \\u043d\\u0435 \\u0432\\u0438\\u0436\\u0443 \\u0431\\u0435\\u0437 \\u043e\\u0447\\u043a\\u043e\\u0432.\\n\\u041f\\u043e\\u0442\\u043e\\u043b\\u043a\\u043e\\u0432\\u0430\\u0432 \\u043e \\u043a\\u0440\\u0430\\u0445\\u0435 \\u0431\\u0430\\u043d\\u043a\\u0430 \\u0438 \\u043e \\u0441\\u0443\\u0434\\u044c\\u0431\\u0435 \\u041f\\u0435\\u0442\\u0440\\u0430 \\u0421\\u0435\\u043c\\u0435\\u043d\\u044b\\u0447\\u0430, \\u0410\\u0432\\u0434\\u0435\\u0435\\u0432 \\u0438 \\u0435\\u0433\\u043e \\u043f\\u0440\\u0438\\u044f\\u0442\\u0435\\u043b\\u0438 \\u043e\\u0442\\u043f\\u0440\\u0430\\u0432\\u0438\\u043b\\u0438\\u0441\\u044c \\u043d\\u0430 \\u043f\\u0438\\u0440\\u043e\\u0433 \\u043a \\u0437\\u043d\\u0430\\u043a\\u043e\\u043c\\u043e\\u043c\\u0443, \\u0443 \\u043a\\u043e\\u0442\\u043e\\u0440\\u043e\\u0433\\u043e \\u0432 \\u044d\\u0442\\u043e\\u0442 \\u0434\\u0435\\u043d\\u044c \\u0431\\u044b\\u043b\\u0430 \\u0438\\u043c\\u0435\\u043d\\u0438\\u043d\\u043d\\u0438\\u0446\\u0430 \\u0436\\u0435\\u043d\\u0430. \\u041d\\u0430 \\u0438\\u043c\\u0435\\u043d\\u0438\\u043d\\u0430\\u0445 \\u0432\\u0441\\u0435 \\u0433\\u043e\\u0441\\u0442\\u0438 \\u0433\\u043e\\u0432\\u043e\\u0440\\u0438\\u043b\\u0438 \\u0442\\u043e\\u043b\\u044c\\u043a\\u043e \\u043e \\u043a\\u0440\\u0430\\u0445\\u0435 \\u0431\\u0430\\u043d\\u043a\\u0430. \\u0410\\u0432\\u0434\\u0435\\u0435\\u0432 \\u0433\\u043e\\u0440\\u044f\\u0447\\u0438\\u043b\\u0441\\u044f \\u0431\\u043e\\u043b\\u044c\\u0448\\u0435 \\u0432\\u0441\\u0435\\u0445 \\u0438 \\u0443\\u0432\\u0435\\u0440\\u044f\\u043b, \\u0447\\u0442\\u043e \\u043e\\u043d \\u0434\\u0430\\u0432\\u043d\\u043e \\u0443\\u0436\\u0435 \\u043f\\u0440\\u0435\\u0434\\u0447\\u0443\\u0432\\u0441\\u0442\\u0432\\u043e\\u0432\\u0430\\u043b \\u044d\\u0442\\u043e\\u0442 \\u043a\\u0440\\u0430\\u0445 \\u0438 \\u0435\\u0449\\u0435 \\u0434\\u0432\\u0430 \\u0433\\u043e\\u0434\\u0430 \\u0442\\u043e\\u043c\\u0443 \\u043d\\u0430\\u0437\\u0430\\u0434 \\u0437\\u043d\\u0430\\u043b, \\u0447\\u0442\\u043e \\u0432 \\u0431\\u0430\\u043d\\u043a\\u0435 \\u043d\\u0435 \\u0441\\u043e\\u0432\\u0441\\u0435\\u043c \\u0447\\u0438\\u0441\\u0442\\u043e. \\u041f\\u043e\\u043a\\u0430 \\u0435\\u043b\\u0438 \\u043f\\u0438\\u0440\\u043e\\u0433, \\u043e\\u043d \\u043e\\u043f\\u0438\\u0441\\u0430\\u043b \\u0441 \\u0434\\u0435\\u0441\\u044f\\u0442\\u043e\\u043a \\u043f\\u0440\\u043e\\u0442\\u0438\\u0432\\u043e\\u0437\\u0430\\u043a\\u043e\\u043d\\u043d\\u044b\\u0445 \\u043e\\u043f\\u0435\\u0440\\u0430\\u0446\\u0438\\u0439, \\u043a\\u043e\\u0442\\u043e\\u0440\\u044b\\u0435 \\u0435\\u043c\\u0443 \\u0431\\u044b\\u043b\\u0438 \\u0438\\u0437\\u0432\\u0435\\u0441\\u0442\\u043d\\u044b.\\n\\u2014 \\u0415\\u0441\\u043b\\u0438 \\u0432\\u044b \\u0437\\u043d\\u0430\\u043b\\u0438, \\u0442\\u043e \\u043e\\u0442\\u0447\\u0435\\u0433\\u043e \\u0436\\u0435 \\u0432\\u044b \\u043d\\u0435 \\u0434\\u043e\\u043d\\u0435\\u0441\\u043b\\u0438? \\u2014 \\u0441\\u043f\\u0440\\u043e\\u0441\\u0438\\u043b \\u0435\\u0433\\u043e \\u043e\\u0444\\u0438\\u0446\\u0435\\u0440, \\u0431\\u044b\\u0432\\u0448\\u0438\\u0439 \\u043d\\u0430 \\u0438\\u043c\\u0435\\u043d\\u0438\\u043d\\u0430\\u0445.\\n\\u2014 \\u041d\\u0435 \\u044f \\u043e\\u0434\\u0438\\u043d, \\u0432\\u0435\\u0441\\u044c \\u0433\\u043e\\u0440\\u043e\\u0434 \\u0437\\u043d\\u0430\\u043b... \\u2014 \\u0443\\u0441\\u043c\\u0435\\u0445\\u043d\\u0443\\u043b\\u0441\\u044f \\u0410\\u0432\\u0434\\u0435\\u0435\\u0432. \\u2014 \\u0414\\u0430 \\u0438 \\u043d\\u0435\\u0442 \\u0432\\u0440\\u0435\\u043c\\u0435\\u043d\\u0438 \\u043f\\u043e \\u0441\\u0443\\u0434\\u0430\\u043c \\u0445\\u043e\\u0434\\u0438\\u0442\\u044c. \\u041d\\u0443 \\u0438\\u0445!\\n\\u041e\\u0442\\u0434\\u043e\\u0445\\u043d\\u0443\\u0432 \\u043f\\u043e\\u0441\\u043b\\u0435 \\u043f\\u0438\\u0440\\u043e\\u0433\\u0430, \\u043e\\u043d \\u043f\\u043e\\u043e\\u0431\\u0435\\u0434\\u0430\\u043b \\u0438 \\u0435\\u0449\\u0435 \\u0440\\u0430\\u0437 \\u043e\\u0442\\u0434\\u043e\\u0445\\u043d\\u0443\\u043b, \\u043f\\u043e\\u0442\\u043e\\u043c \\u043e\\u0442\\u043f\\u0440\\u0430\\u0432\\u0438\\u043b\\u0441\\u044f \\u043a\\u043e \\u0432\\u0441\\u0435\\u043d\\u043e\\u0449\\u043d\\u043e\\u0439 \\u0432 \\u0441\\u0432\\u043e\\u044e \\u0446\\u0435\\u0440\\u043a\\u043e\\u0432\\u044c, \\u0433\\u0434\\u0435 \\u0431\\u044b\\u043b \\u0441\\u0442\\u0430\\u0440\\u043e\\u0441\\u0442\\u043e\\u0439; \\u043f\\u043e\\u0441\\u043b\\u0435 \\u0432\\u0441\\u0435\\u043d\\u043e\\u0449\\u043d\\u043e\\u0439 \\u043e\\u043f\\u044f\\u0442\\u044c \\u043f\\u043e\\u0448\\u0435\\u043b \\u043d\\u0430 \\u0438\\u043c\\u0435\\u043d\\u0438\\u043d\\u044b \\u0438 \\u0434\\u043e \\u0441\\u0430\\u043c\\u043e\\u0439 \\u043f\\u043e\\u043b\\u043d\\u043e\\u0447\\u0438 \\u0438\\u0433\\u0440\\u0430\\u043b \\u0432 \\u043f\\u0440\\u043e\\u0444\\u0435\\u0440\\u0430\\u043d\\u0441. \\u041f\\u043e-\\u0432\\u0438\\u0434\\u0438\\u043c\\u043e\\u043c\\u0443, \\u0432\\u0441\\u0451 \\u043e\\u0431\\u0441\\u0442\\u043e\\u044f\\u043b\\u043e \\u0431\\u043b\\u0430\\u0433\\u043e\\u043f\\u043e\\u043b\\u0443\\u0447\\u043d\\u043e.\\n\\u041a\\u043e\\u0433\\u0434\\u0430 \\u0436\\u0435 \\u043f\\u043e\\u0441\\u043b\\u0435 \\u043f\\u043e\\u043b\\u043d\\u043e\\u0447\\u0438 \\u0410\\u0432\\u0434\\u0435\\u0435\\u0432 \\u0432\\u0435\\u0440\\u043d\\u0443\\u043b\\u0441\\u044f \\u043a \\u0441\\u0435\\u0431\\u0435 \\u0434\\u043e\\u043c\\u043e\\u0439, \\u043a\\u0443\\u0445\\u0430\\u0440\\u043a\\u0430, \\u043e\\u0442\\u0432\\u043e\\u0440\\u044f\\u0432\\u0448\\u0430\\u044f \\u0435\\u043c\\u0443 \\u0434\\u0432\\u0435\\u0440\\u044c, \\u0431\\u044b\\u043b\\u0430 \\u0431\\u043b\\u0435\\u0434\\u043d\\u0430 \\u0438 \\u043e\\u0442 \\u0434\\u0440\\u043e\\u0436\\u0438 \\u043d\\u0435 \\u043c\\u043e\\u0433\\u043b\\u0430 \\u0432\\u044b\\u0433\\u043e\\u0432\\u043e\\u0440\\u0438\\u0442\\u044c \\u043d\\u0438 \\u043e\\u0434\\u043d\\u043e\\u0433\\u043e \\u0441\\u043b\\u043e\\u0432\\u0430. \\u0415\\u0433\\u043e \\u0436\\u0435\\u043d\\u0430, \\u0415\\u043b\\u0438\\u0437\\u0430\\u0432\\u0435\\u0442\\u0430 \\u0422\\u0440\\u043e\\u0444\\u0438\\u043c\\u043e\\u0432\\u043d\\u0430, \\u043e\\u0442\\u043a\\u043e\\u0440\\u043c\\u043b\\u0435\\u043d\\u043d\\u0430\\u044f, \\u0441\\u044b\\u0440\\u0430\\u044f \\u0441\\u0442\\u0430\\u0440\\u0443\\u0445\\u0430, \\u0441 \\u0440\\u0430\\u0441\\u043f\\u0443\\u0449\\u0435\\u043d\\u043d\\u044b\\u043c\\u0438 \\u0441\\u0435\\u0434\\u044b\\u043c\\u0438 \\u0432\\u043e\\u043b\\u043e\\u0441\\u0430\\u043c\\u0438, \\u0441\\u0438\\u0434\\u0435\\u043b\\u0430 \\u0432 \\u0437\\u0430\\u043b\\u0435 \\u043d\\u0430 \\u0434\\u0438\\u0432\\u0430\\u043d\\u0435, \\u0442\\u0440\\u044f\\u0441\\u043b\\u0430\\u0441\\u044c \\u0432\\u0441\\u0435\\u043c \\u0442\\u0435\\u043b\\u043e\\u043c \\u0438, \\u043a\\u0430\\u043a \\u043f\\u044c\\u044f\\u043d\\u0430\\u044f, \\u0431\\u0435\\u0441\\u0441\\u043c\\u044b\\u0441\\u043b\\u0435\\u043d\\u043d\\u043e \\u043f\\u043e\\u0432\\u043e\\u0434\\u0438\\u043b\\u0430 \\u0433\\u043b\\u0430\\u0437\\u0430\\u043c\\u0438. \\u041e\\u043a\\u043e\\u043b\\u043e \\u043d\\u0435\\u0435 \\u0441\\u043e \\u0441\\u0442\\u0430\\u043a\\u0430\\u043d\\u043e\\u043c \\u0432\\u043e\\u0434\\u044b \\u0441\\u0443\\u0435\\u0442\\u0438\\u043b\\u0441\\u044f \\u0442\\u043e\\u0436\\u0435 \\u0431\\u043b\\u0435\\u0434\\u043d\\u044b\\u0439 \\u0438 \\u043a\\u0440\\u0430\\u0439\\u043d\\u0435 \\u0432\\u0437\\u0432\\u043e\\u043b\\u043d\\u043e\\u0432\\u0430\\u043d\\u043d\\u044b\\u0439 \\u0441\\u0442\\u0430\\u0440\\u0448\\u0438\\u0439 \\u0441\\u044b\\u043d \\u0435\\u0435, \\u0433\\u0438\\u043c\\u043d\\u0430\\u0437\\u0438\\u0441\\u0442 \\u0412\\u0430\\u0441\\u0438\\u043b\\u0438\\u0439.\\n\\u2014 \\u0427\\u0442\\u043e \\u0442\\u0430\\u043a\\u043e\\u0435? \\u2014 \\u0441\\u043f\\u0440\\u043e\\u0441\\u0438\\u043b \\u0410\\u0432\\u0434\\u0435\\u0435\\u0432 \\u0438 \\u0441\\u0435\\u0440\\u0434\\u0438\\u0442\\u043e \\u043f\\u043e\\u043a\\u043e\\u0441\\u0438\\u043b\\u0441\\u044f \\u043d\\u0430 \\u043f\\u0435\\u0447\\u043a\\u0443. (\\u0415\\u0433\\u043e \\u0441\\u0435\\u043c\\u044c\\u044f \\u0447\\u0430\\u0441\\u0442\\u043e \\u0443\\u0433\\u043e\\u0440\\u0430\\u043b\\u0430.)\\n\\u2014 \\u0421\\u0435\\u0439\\u0447\\u0430\\u0441 \\u0441\\u043b\\u0435\\u0434\\u043e\\u0432\\u0430\\u0442\\u0435\\u043b\\u044c \\u0441 \\u043f\\u043e\\u043b\\u0438\\u0446\\u0438\\u0435\\u0439 \\u043f\\u0440\\u0438\\u0445\\u043e\\u0434\\u0438\\u043b... \\u2014 \\u043e\\u0442\\u0432\\u0435\\u0442\\u0438\\u043b \\u0412\\u0430\\u0441\\u0438\\u043b\\u0438\\u0439. \\u2014 \\u041e\\u0431\\u044b\\u0441\\u043a\\u0438\\u0432\\u0430\\u043b\\u0438.\\n\\u0410\\u0432\\u0434\\u0435\\u0435\\u0432 \\u043f\\u043e\\u0433\\u043b\\u044f\\u0434\\u0435\\u043b \\u0432\\u043e\\u043a\\u0440\\u0443\\u0433 \\u0441\\u0435\\u0431\\u044f. \\u0428\\u043a\\u0430\\u0444\\u044b, \\u043a\\u043e\\u043c\\u043e\\u0434\\u044b, \\u0441\\u0442\\u043e\\u043b\\u044b \\u2014 \\u0432\\u0441\\u0451 \\u043d\\u043e\\u0441\\u0438\\u043b\\u043e \\u043d\\u0430 \\u0441\\u0435\\u0431\\u0435 \\u0441\\u043b\\u0435\\u0434\\u044b \\u043d\\u0435\\u0434\\u0430\\u0432\\u043d\\u0435\\u0433\\u043e \\u043e\\u0431\\u044b\\u0441\\u043a\\u0430. \\u041c\\u0438\\u043d\\u0443\\u0442\\u0443 \\u0410\\u0432\\u0434\\u0435\\u0435\\u0432 \\u043f\\u0440\\u043e\\u0441\\u0442\\u043e\\u044f\\u043b \\u043d\\u0435\\u043f\\u043e\\u0434\\u0432\\u0438\\u0436\\u043d\\u043e, \\u043a\\u0430\\u043a \\u0432 \\u0441\\u0442\\u043e\\u043b\\u0431\\u043d\\u044f\\u043a\\u0435, \\u043d\\u0438\\u0447\\u0435\\u0433\\u043e \\u043d\\u0435 \\u043f\\u043e\\u043d\\u0438\\u043c\\u0430\\u044f, \\u043f\\u043e\\u0442\\u043e\\u043c \\u0432\\u0441\\u0435 \\u0432\\u043d\\u0443\\u0442\\u0440\\u0435\\u043d\\u043d\\u043e\\u0441\\u0442\\u0438 \\u0435\\u0433\\u043e \\u0437\\u0430\\u0434\\u0440\\u043e\\u0436\\u0430\\u043b\\u0438 \\u0438 \\u043e\\u0442\\u044f\\u0436\\u0435\\u043b\\u0435\\u043b\\u0438, \\u043b\\u0435\\u0432\\u0430\\u044f \\u043d\\u043e\\u0433\\u0430 \\u043e\\u043d\\u0435\\u043c\\u0435\\u043b\\u0430, \\u0438 \\u043e\\u043d, \\u043d\\u0435 \\u0432\\u044b\\u043d\\u043e\\u0441\\u044f \\u0434\\u0440\\u043e\\u0436\\u0438, \\u043b\\u0435\\u0433 \\u043d\\u0438\\u0447\\u043a\\u043e\\u043c \\u043d\\u0430 \\u0434\\u0438\\u0432\\u0430\\u043d; \\u0435\\u043c\\u0443 \\u0441\\u043b\\u044b\\u0448\\u043d\\u043e \\u0431\\u044b\\u043b\\u043e, \\u043a\\u0430\\u043a \\u043f\\u0435\\u0440\\u0435\\u0432\\u043e\\u0440\\u0430\\u0447\\u0438\\u0432\\u0430\\u043b\\u0438\\u0441\\u044c \\u0435\\u0433\\u043e \\u0432\\u043d\\u0443\\u0442\\u0440\\u0435\\u043d\\u043d\\u043e\\u0441\\u0442\\u0438 \\u0438 \\u043a\\u0430\\u043a \\u043d\\u0435\\u043f\\u043e\\u0441\\u043b\\u0443\\u0448\\u043d\\u0430\\u044f \\u043b\\u0435\\u0432\\u0430\\u044f \\u043d\\u043e\\u0433\\u0430 \\u0441\\u0442\\u0443\\u0447\\u0430\\u043b\\u0430 \\u043f\\u043e \\u0441\\u043f\\u0438\\u043d\\u043a\\u0435 \\u0434\\u0438\\u0432\\u0430\\u043d\\u0430.\\n\\u0412 \\u043a\\u0430\\u043a\\u0438\\u0435-\\u043d\\u0438\\u0431\\u0443\\u0434\\u044c \\u0434\\u0432\\u0435-\\u0442\\u0440\\u0438 \\u043c\\u0438\\u043d\\u0443\\u0442\\u044b \\u043e\\u043d \\u043f\\u0440\\u0438\\u043f\\u043e\\u043c\\u043d\\u0438\\u043b \\u0432\\u0441\\u0451 \\u0441\\u0432\\u043e\\u0435 \\u043f\\u0440\\u043e\\u0448\\u043b\\u043e\\u0435, \\u043d\\u043e \\u043d\\u0435 \\u043d\\u0430\\u0448\\u0435\\u043b \\u043d\\u0438 \\u043e\\u0434\\u043d\\u043e\\u0439 \\u0442\\u0430\\u043a\\u043e\\u0439 \\u0432\\u0438\\u043d\\u044b, \\u043a\\u043e\\u0442\\u043e\\u0440\\u0430\\u044f \\u0437\\u0430\\u0441\\u043b\\u0443\\u0436\\u0438\\u0432\\u0430\\u043b\\u0430 \\u0431\\u044b \\u0432\\u043d\\u0438\\u043c\\u0430\\u043d\\u0438\\u044f \\u0441\\u0443\\u0434\\u0435\\u0431\\u043d\\u043e\\u0439 \\u0432\\u043b\\u0430\\u0441\\u0442\\u0438...\\n\\u2014 \\u0412\\u0441\\u0451 \\u044d\\u0442\\u043e \\u043e\\u0434\\u043d\\u0430 \\u0447\\u0435\\u043f\\u0443\\u0445\\u0430... \\u2014 \\u0441\\u043a\\u0430\\u0437\\u0430\\u043b \\u043e\\u043d, \\u043f\\u043e\\u0434\\u043d\\u0438\\u043c\\u0430\\u044f\\u0441\\u044c. \\u2014 \\u042d\\u0442\\u043e, \\u0434\\u043e\\u043b\\u0436\\u043d\\u043e \\u0431\\u044b\\u0442\\u044c, \\u043c\\u0435\\u043d\\u044f \\u043e\\u0433\\u043e\\u0432\\u043e\\u0440\\u0438\\u043b\\u0438. \\u041d\\u0430\\u0434\\u043e \\u0431\\u0443\\u0434\\u0435\\u0442 \\u0437\\u0430\\u0432\\u0442\\u0440\\u0430 \\u0436\\u0430\\u043b\\u043e\\u0431\\u0443 \\u043f\\u043e\\u0434\\u0430\\u0442\\u044c, \\u0447\\u0442\\u043e\\u0431\\u044b \\u043e\\u043d\\u0438 \\u043d\\u0435 \\u0441\\u043c\\u0435\\u043b\\u0438 \\u044d\\u0442\\u043e \\u0441\\u0430\\u043c\\u043e\\u0435...\\n\\u041d\\u0430 \\u0434\\u0440\\u0443\\u0433\\u043e\\u0439 \\u0434\\u0435\\u043d\\u044c \\u0443\\u0442\\u0440\\u043e\\u043c, \\u043f\\u043e\\u0441\\u043b\\u0435 \\u0431\\u0435\\u0441\\u0441\\u043e\\u043d\\u043d\\u043e\\u0439 \\u043d\\u043e\\u0447\\u0438, \\u0410\\u0432\\u0434\\u0435\\u0435\\u0432, \\u043a\\u0430\\u043a \\u0432\\u0441\\u0435\\u0433\\u0434\\u0430, \\u043e\\u0442\\u043f\\u0440\\u0430\\u0432\\u0438\\u043b\\u0441\\u044f \\u043a \\u0441\\u0435\\u0431\\u0435 \\u0432 \\u043b\\u0430\\u0432\\u043a\\u0443. \\u041f\\u043e\\u043a\\u0443\\u043f\\u0430\\u0442\\u0435\\u043b\\u0438 \\u043f\\u0440\\u0438\\u043d\\u0435\\u0441\\u043b\\u0438 \\u0435\\u043c\\u0443 \\u0438\\u0437\\u0432\\u0435\\u0441\\u0442\\u0438\\u0435, \\u0447\\u0442\\u043e \\u0432 \\u0438\\u0441\\u0442\\u0435\\u043a\\u0448\\u0443\\u044e \\u043d\\u043e\\u0447\\u044c \\u043f\\u0440\\u043e\\u043a\\u0443\\u0440\\u043e\\u0440 \\u043e\\u0442\\u043f\\u0440\\u0430\\u0432\\u0438\\u043b \\u0432 \\u0442\\u044e\\u0440\\u044c\\u043c\\u0443 \\u0435\\u0449\\u0435 \\u0442\\u043e\\u0432\\u0430\\u0440\\u0438\\u0449\\u0430 \\u0434\\u0438\\u0440\\u0435\\u043a\\u0442\\u043e\\u0440\\u0430 \\u0438 \\u043f\\u0438\\u0441\\u044c\\u043c\\u043e\\u0432\\u043e\\u0434\\u0438\\u0442\\u0435\\u043b\\u044f \\u0431\\u0430\\u043d\\u043a\\u0430. \\u042d\\u0442\\u043e \\u0438\\u0437\\u0432\\u0435\\u0441\\u0442\\u0438\\u0435 \\u043d\\u0435 \\u043e\\u0431\\u0435\\u0441\\u043f\\u043e\\u043a\\u043e\\u0438\\u043b\\u043e \\u0410\\u0432\\u0434\\u0435\\u0435\\u0432\\u0430. \\u041e\\u043d \\u0431\\u044b\\u043b \\u0443\\u0432\\u0435\\u0440\\u0435\\u043d, \\u0447\\u0442\\u043e \\u0435\\u0433\\u043e \\u043e\\u0433\\u043e\\u0432\\u043e\\u0440\\u0438\\u043b\\u0438 \\u0438 \\u0447\\u0442\\u043e \\u0435\\u0441\\u043b\\u0438 \\u043e\\u043d \\u0441\\u0435\\u0433\\u043e\\u0434\\u043d\\u044f \\u043f\\u043e\\u0434\\u0430\\u0441\\u0442 \\u0436\\u0430\\u043b\\u043e\\u0431\\u0443, \\u0442\\u043e \\u0441\\u043b\\u0435\\u0434\\u043e\\u0432\\u0430\\u0442\\u0435\\u043b\\u044e \\u0434\\u043e\\u0441\\u0442\\u0430\\u043d\\u0435\\u0442\\u0441\\u044f \\u0437\\u0430 \\u0432\\u0447\\u0435\\u0440\\u0430\\u0448\\u043d\\u0438\\u0439 \\u043e\\u0431\\u044b\\u0441\\u043a.\\n\\u0412 \\u0434\\u0435\\u0441\\u044f\\u0442\\u043e\\u043c \\u0447\\u0430\\u0441\\u0443 \\u043e\\u043d \\u043f\\u043e\\u0431\\u0435\\u0436\\u0430\\u043b \\u0432 \\u0443\\u043f\\u0440\\u0430\\u0432\\u0443 \\u043a \\u0441\\u0435\\u043a\\u0440\\u0435\\u0442\\u0430\\u0440\\u044e, \\u043a\\u043e\\u0442\\u043e\\u0440\\u044b\\u0439 \\u0431\\u044b\\u043b \\u0435\\u0434\\u0438\\u043d\\u0441\\u0442\\u0432\\u0435\\u043d\\u043d\\u044b\\u043c \\u043e\\u0431\\u0440\\u0430\\u0437\\u043e\\u0432\\u0430\\u043d\\u043d\\u044b\\u043c \\u0447\\u0435\\u043b\\u043e\\u0432\\u0435\\u043a\\u043e\\u043c \\u0432\\u043e \\u0432\\u0441\\u0435\\u0439 \\u0443\\u043f\\u0440\\u0430\\u0432\\u0435.\\n\\u2014 \\u0412\\u043b\\u0430\\u0434\\u0438\\u043c\\u0438\\u0440 \\u0421\\u0442\\u0435\\u043f\\u0430\\u043d\\u044b\\u0447, \\u0447\\u0442\\u043e \\u0436\\u0435 \\u044d\\u0442\\u043e \\u0437\\u0430 \\u043c\\u043e\\u0434\\u0430? \\u2014 \\u043d\\u0430\\u0447\\u0430\\u043b \\u043e\\u043d, \\u043d\\u0430\\u043a\\u043b\\u043e\\u043d\\u044f\\u044f\\u0441\\u044c \\u043a \\u0443\\u0445\\u0443 \\u0441\\u0435\\u043a\\u0440\\u0435\\u0442\\u0430\\u0440\\u044f. \\u2014 \\u041b\\u044e\\u0434\\u0438 \\u043a\\u0440\\u0430\\u043b\\u0438, \\u0430 \\u044f-\\u0442\\u043e \\u0442\\u0443\\u0442 \\u043f\\u0440\\u0438\\u0447\\u0435\\u043c? \\u0421 \\u043a\\u0430\\u043a\\u043e\\u0439 \\u0441\\u0442\\u0430\\u0442\\u0438? \\u041c\\u0438\\u043b\\u044b\\u0439 \\u0447\\u0435\\u043b\\u043e\\u0432\\u0435\\u043a, \\u2014 \\u0437\\u0430\\u0448\\u0435\\u043f\\u0442\\u0430\\u043b \\u043e\\u043d, \\u2014 \\u043d\\u043e\\u0447\\u044c\\u044e-\\u0442\\u043e \\u0443 \\u043c\\u0435\\u043d\\u044f \\u043e\\u0431\\u044b\\u0441\\u043a \\u0431\\u044b\\u043b! \\u0415\\u0439-\\u0431\\u043e\\u0433\\u0443... \\u041e\\u0441\\u0430\\u0442\\u0430\\u043d\\u0435\\u043b\\u0438 \\u043e\\u043d\\u0438, \\u0447\\u0442\\u043e \\u043b\\u0438? \\u0417\\u0430 \\u0447\\u0442\\u043e \\u043c\\u0435\\u043d\\u044f \\u0442\\u0440\\u043e\\u0433\\u0430\\u0442\\u044c?\\n\\u2014 \\u0410 \\u0437\\u0430 \\u0442\\u043e, \\u0447\\u0442\\u043e \\u043d\\u0435 \\u043d\\u0443\\u0436\\u043d\\u043e \\u0431\\u044b\\u0442\\u044c \\u0431\\u0430\\u0440\\u0430\\u043d\\u043e\\u043c, \\u2014 \\u043f\\u043e\\u043a\\u043e\\u0439\\u043d\\u043e \\u043e\\u0442\\u0432\\u0435\\u0442\\u0438\\u043b \\u0441\\u0435\\u043a\\u0440\\u0435\\u0442\\u0430\\u0440\\u044c. \\u2014 \\u041f\\u0440\\u0435\\u0436\\u0434\\u0435 \\u0447\\u0435\\u043c \\u043f\\u043e\\u0434\\u043f\\u0438\\u0441\\u044b\\u0432\\u0430\\u0442\\u044c, \\u043d\\u0430\\u0434\\u043e \\u0431\\u044b\\u043b\\u043e \\u0433\\u043b\\u044f\\u0434\\u0435\\u0442\\u044c...\\n\\u2014 \\u0427\\u0442\\u043e \\u0433\\u043b\\u044f\\u0434\\u0435\\u0442\\u044c? \\u0414\\u0430 \\u0433\\u043b\\u044f\\u0434\\u0438 \\u044f \\u0432 \\u044d\\u0442\\u0438 \\u043e\\u0442\\u0447\\u0435\\u0442\\u044b \\u0445\\u043e\\u0442\\u044c \\u0442\\u044b\\u0441\\u044f\\u0447\\u0443 \\u043b\\u0435\\u0442, \\u044f \\u043d\\u0438\\u0447\\u0435\\u0433\\u043e \\u043d\\u0435 \\u043f\\u043e\\u0439\\u043c\\u0443! \\u0427\\u0451\\u0440\\u0442\\u0430 \\u043b\\u044b\\u0441\\u043e\\u0433\\u043e \\u044f \\u043f\\u043e\\u043d\\u0438\\u043c\\u0430\\u044e! \\u041a\\u0430\\u043a\\u043e\\u0439 \\u044f \\u0431\\u0443\\u0445\\u0433\\u0430\\u043b\\u0442\\u0435\\u0440? \\u041c\\u043d\\u0435 \\u043d\\u043e\\u0441\\u0438\\u043b\\u0438, \\u044f \\u0438 \\u043f\\u043e\\u0434\\u043f\\u0438\\u0441\\u044b\\u0432\\u0430\\u043b.\\n\\u2014 \\u041f\\u043e\\u0437\\u0432\\u043e\\u043b\\u044c\\u0442\\u0435. \\u041a\\u0440\\u043e\\u043c\\u0435 \\u0442\\u043e\\u0433\\u043e, \\u0432\\u044b, \\u043a\\u0430\\u043a \\u0438 \\u0432\\u0441\\u044f \\u0432\\u0430\\u0448\\u0430 \\u043a\\u043e\\u043c\\u0438\\u0441\\u0441\\u0438\\u044f, \\u0441\\u0438\\u043b\\u044c\\u043d\\u043e \\u0441\\u043a\\u043e\\u043c\\u043f\\u0440\\u043e\\u043c\\u0435\\u0442\\u0438\\u0440\\u043e\\u0432\\u0430\\u043d\\u044b. \\u0412\\u044b \\u0431\\u0435\\u0437 \\u0432\\u0441\\u044f\\u043a\\u043e\\u0433\\u043e \\u043e\\u0431\\u0435\\u0441\\u043f\\u0435\\u0447\\u0435\\u043d\\u0438\\u044f \\u0432\\u0437\\u044f\\u043b\\u0438 \\u0438\\u0437 \\u0431\\u0430\\u043d\\u043a\\u0430 19 \\u0442\\u044b\\u0441\\u044f\\u0447.\\n\\u2014 \\u0413\\u043e\\u0441\\u043f\\u043e\\u0434\\u0438 \\u0442\\u0432\\u043e\\u044f \\u0432\\u043e\\u043b\\u044f! \\u2014 \\u0443\\u0434\\u0438\\u0432\\u0438\\u043b\\u0441\\u044f \\u0410\\u0432\\u0434\\u0435\\u0435\\u0432. \\u2014 \\u041d\\u0435\\u0448\\u0442\\u043e \\u044f \\u043e\\u0434\\u0438\\u043d \\u0434\\u043e\\u043b\\u0436\\u0435\\u043d? \\u0412\\u0435\\u0434\\u044c \\u0432\\u0435\\u0441\\u044c \\u0433\\u043e\\u0440\\u043e\\u0434 \\u0434\\u043e\\u043b\\u0436\\u0435\\u043d! \\u042f \\u043f\\u043b\\u0430\\u0447\\u0443 \\u043f\\u0440\\u043e\\u0446\\u0435\\u043d\\u0442\\u044b \\u0438 \\u043e\\u0442\\u0434\\u0430\\u043c \\u0434\\u043e\\u043b\\u0433. \\u0413\\u043e\\u0441\\u043f\\u043e\\u0434\\u044c \\u0441 \\u0442\\u043e\\u0431\\u043e\\u0439! \\u0410 \\u043a\\u0440\\u043e\\u043c\\u0435 \\u0442\\u043e\\u0433\\u043e, \\u0435\\u0436\\u0435\\u043b\\u0438, \\u0441\\u043a\\u0430\\u0436\\u0435\\u043c, \\u0440\\u0430\\u0441\\u0441\\u0443\\u0436\\u0434\\u0430\\u0442\\u044c \\u043f\\u043e \\u0441\\u043e\\u0432\\u0435\\u0441\\u0442\\u0438, \\u043d\\u0435\\u0448\\u0442\\u043e \\u044f \\u0441\\u0430\\u043c \\u0432\\u0437\\u044f\\u043b \\u044d\\u0442\\u0438 \\u0434\\u0435\\u043d\\u044c\\u0433\\u0438? \\u041c\\u043d\\u0435 \\u041f\\u0435\\u0442\\u0440 \\u0421\\u0435\\u043c\\u0435\\u043d\\u044b\\u0447 \\u0432\\u0441\\u0443\\u0447\\u0438\\u043b. \\u0412\\u043e\\u0437\\u044c\\u043c\\u0438, \\u0433\\u043e\\u0432\\u043e\\u0440\\u0438\\u0442, \\u0438 \\u0432\\u043e\\u0437\\u044c\\u043c\\u0438. \\u0415\\u0436\\u0435\\u043b\\u0438, \\u0433\\u043e\\u0432\\u043e\\u0440\\u0438\\u0442, \\u043d\\u0435 \\u0431\\u0435\\u0440\\u0435\\u0448\\u044c, \\u0442\\u043e, \\u0437\\u043d\\u0430\\u0447\\u0438\\u0442, \\u043d\\u0430\\u043c \\u043d\\u0435 \\u0434\\u043e\\u0432\\u0435\\u0440\\u044f\\u0435\\u0448\\u044c \\u0438 \\u0441\\u0442\\u043e\\u0440\\u043e\\u043d\\u0438\\u0448\\u044c\\u0441\\u044f. \\u0422\\u044b, \\u0433\\u043e\\u0432\\u043e\\u0440\\u0438\\u0442, \\u0432\\u043e\\u0437\\u044c\\u043c\\u0438 \\u0438 \\u043e\\u0442\\u0446\\u0443 \\u043c\\u0435\\u043b\\u044c\\u043d\\u0438\\u0446\\u0443 \\u043f\\u043e\\u0441\\u0442\\u0440\\u043e\\u0439. \\u042f \\u0438 \\u0432\\u0437\\u044f\\u043b.\\n\\u2014 \\u041d\\u0443, \\u0432\\u043e\\u0442 \\u0432\\u0438\\u0434\\u0438\\u0442\\u0435: \\u0442\\u0430\\u043a \\u043c\\u043e\\u0433\\u0443\\u0442 \\u0440\\u0430\\u0441\\u0441\\u0443\\u0436\\u0434\\u0430\\u0442\\u044c \\u0442\\u043e\\u043b\\u044c\\u043a\\u043e \\u0434\\u0435\\u0442\\u0438 \\u0438 \\u0431\\u0430\\u0440\\u0430\\u043d\\u044b. \\u0412\\u043e \\u0432\\u0441\\u044f\\u043a\\u043e\\u043c \\u0441\\u043b\\u0443\\u0447\\u0430\\u0435, \\u0441\\u0435\\u043d\\u044c\\u043e\\u0440, \\u0432\\u044b \\u043d\\u0430\\u043f\\u0440\\u0430\\u0441\\u043d\\u043e \\u0432\\u043e\\u043b\\u043d\\u0443\\u0435\\u0442\\u0435\\u0441\\u044c. \\u0421\\u0443\\u0434\\u0430 \\u0432\\u0430\\u043c, \\u043a\\u043e\\u043d\\u0435\\u0447\\u043d\\u043e, \\u043d\\u0435 \\u0438\\u0437\\u0431\\u0435\\u0436\\u0430\\u0442\\u044c, \\u043d\\u043e, \\u043d\\u0430\\u0432\\u0435\\u0440\\u043d\\u043e\\u0435, \\u0432\\u0430\\u0441 \\u043e\\u043f\\u0440\\u0430\\u0432\\u0434\\u0430\\u044e\\u0442.\\n\\u0420\\u0430\\u0432\\u043d\\u043e\\u0434\\u0443\\u0448\\u0438\\u0435 \\u0438 \\u043f\\u043e\\u043a\\u043e\\u0439\\u043d\\u044b\\u0439 \\u0442\\u043e\\u043d \\u0441\\u0435\\u043a\\u0440\\u0435\\u0442\\u0430\\u0440\\u044f \\u043f\\u043e\\u0434\\u0435\\u0439\\u0441\\u0442\\u0432\\u043e\\u0432\\u0430\\u043b\\u0438 \\u043d\\u0430 \\u0410\\u0432\\u0434\\u0435\\u0435\\u0432\\u0430 \\u0443\\u0441\\u043f\\u043e\\u043a\\u0430\\u0438\\u0432\\u0430\\u044e\\u0449\\u0435. \\u0412\\u0435\\u0440\\u043d\\u0443\\u0432\\u0448\\u0438\\u0441\\u044c \\u043a \\u0441\\u0435\\u0431\\u0435 \\u0432 \\u043b\\u0430\\u0432\\u043a\\u0443 \\u0438 \\u0437\\u0430\\u0441\\u0442\\u0430\\u0432 \\u0432 \\u043d\\u0435\\u0439 \\u043f\\u0440\\u0438\\u044f\\u0442\\u0435\\u043b\\u0435\\u0439, \\u043e\\u043d \\u043e\\u043f\\u044f\\u0442\\u044c \\u0432\\u044b\\u043f\\u0438\\u0432\\u0430\\u043b, \\u0437\\u0430\\u043a\\u0443\\u0441\\u044b\\u0432\\u0430\\u043b \\u0438\\u043a\\u0440\\u043e\\u0439 \\u0438 \\u0444\\u0438\\u043b\\u043e\\u0441\\u043e\\u0444\\u0441\\u0442\\u0432\\u043e\\u0432\\u0430\\u043b. \\u041e\\u043d \\u0443\\u0436 \\u043f\\u043e\\u0447\\u0442\\u0438 \\u0437\\u0430\\u0431\\u044b\\u043b \\u043e\\u0431 \\u043e\\u0431\\u044b\\u0441\\u043a\\u0435, \\u0438 \\u0435\\u0433\\u043e \\u0431\\u0435\\u0441\\u043f\\u043e\\u043a\\u043e\\u0438\\u043b\\u043e \\u0442\\u043e\\u043b\\u044c\\u043a\\u043e \\u043e\\u0434\\u043d\\u043e \\u043e\\u0431\\u0441\\u0442\\u043e\\u044f\\u0442\\u0435\\u043b\\u044c\\u0441\\u0442\\u0432\\u043e, \\u043a\\u043e\\u0442\\u043e\\u0440\\u043e\\u0435 \\u043e\\u043d \\u043d\\u0435 \\u043c\\u043e\\u0433 \\u043d\\u0435 \\u0437\\u0430\\u043c\\u0435\\u0442\\u0438\\u0442\\u044c: \\u0443 \\u043d\\u0435\\u0433\\u043e \\u043a\\u0430\\u043a-\\u0442\\u043e \\u0441\\u0442\\u0440\\u0430\\u043d\\u043d\\u043e \\u043d\\u0435\\u043c\\u0435\\u043b\\u0430 \\u043b\\u0435\\u0432\\u0430\\u044f \\u043d\\u043e\\u0433\\u0430 \\u0438 \\u043f\\u043e\\u0447\\u0435\\u043c\\u0443-\\u0442\\u043e \\u0441\\u043e\\u0432\\u0441\\u0435\\u043c \\u043d\\u0435 \\u0432\\u0430\\u0440\\u0438\\u043b \\u0436\\u0435\\u043b\\u0443\\u0434\\u043e\\u043a.\\n\\u0412\\u0435\\u0447\\u0435\\u0440\\u043e\\u043c \\u0442\\u043e\\u0433\\u043e \\u0436\\u0435 \\u0434\\u043d\\u044f \\u0441\\u0443\\u0434\\u044c\\u0431\\u0430 \\u0441\\u0434\\u0435\\u043b\\u0430\\u043b\\u0430 \\u043f\\u043e \\u0410\\u0432\\u0434\\u0435\\u0435\\u0432\\u0435 \\u0435\\u0449\\u0435 \\u043e\\u0434\\u0438\\u043d \\u043e\\u0433\\u043b\\u0443\\u0448\\u0438\\u0442\\u0435\\u043b\\u044c\\u043d\\u044b\\u0439 \\u0432\\u044b\\u0441\\u0442\\u0440\\u0435\\u043b: \\u043d\\u0430 \\u044d\\u043a\\u0441\\u0442\\u0440\\u0435\\u043d\\u043d\\u043e\\u043c \\u0437\\u0430\\u0441\\u0435\\u0434\\u0430\\u043d\\u0438\\u0438 \\u0434\\u0443\\u043c\\u044b \\u0432\\u0441\\u0435 \\u0431\\u0430\\u043d\\u043a\\u043e\\u0432\\u0446\\u044b, \\u0432 \\u0442\\u043e\\u043c \\u0447\\u0438\\u0441\\u043b\\u0435 \\u0438 \\u0410\\u0432\\u0434\\u0435\\u0435\\u0432, \\u0431\\u044b\\u043b\\u0438 \\u0438\\u0441\\u043a\\u043b\\u044e\\u0447\\u0435\\u043d\\u044b \\u0438\\u0437 \\u0447\\u0438\\u0441\\u043b\\u0430 \\u0433\\u043b\\u0430\\u0441\\u043d\\u044b\\u0445, \\u043a\\u0430\\u043a \\u043d\\u0430\\u0445\\u043e\\u0434\\u044f\\u0449\\u0438\\u0435\\u0441\\u044f \\u043f\\u043e\\u0434 \\u0441\\u0443\\u0434\\u043e\\u043c \\u0438 \\u0441\\u043b\\u0435\\u0434\\u0441\\u0442\\u0432\\u0438\\u0435\\u043c. \\u0423\\u0442\\u0440\\u043e\\u043c \\u043e\\u043d \\u043f\\u043e\\u043b\\u0443\\u0447\\u0438\\u043b \\u0431\\u0443\\u043c\\u0430\\u0433\\u0443, \\u0432 \\u043a\\u043e\\u0442\\u043e\\u0440\\u043e\\u0439 \\u0435\\u0433\\u043e \\u043f\\u0440\\u0438\\u0433\\u043b\\u0430\\u0448\\u0430\\u043b\\u0438 \\u043d\\u0435\\u043c\\u0435\\u0434\\u043b\\u0435\\u043d\\u043d\\u043e \\u0441\\u0434\\u0430\\u0442\\u044c \\u0434\\u043e\\u043b\\u0436\\u043d\\u043e\\u0441\\u0442\\u044c \\u0446\\u0435\\u0440\\u043a\\u043e\\u0432\\u043d\\u043e\\u0433\\u043e \\u0441\\u0442\\u0430\\u0440\\u043e\\u0441\\u0442\\u044b.\\n\\u0417\\u0430\\u0442\\u0435\\u043c \\u0410\\u0432\\u0434\\u0435\\u0435\\u0432 \\u043f\\u043e\\u0442\\u0435\\u0440\\u044f\\u043b \\u0441\\u0447\\u0435\\u0442 \\u0432 \\u0432\\u044b\\u0441\\u0442\\u0440\\u0435\\u043b\\u0430\\u0445, \\u043a\\u043e\\u0442\\u043e\\u0440\\u044b\\u0435 \\u0434\\u0435\\u043b\\u0430\\u043b\\u0430 \\u043f\\u043e \\u043d\\u0435\\u043c \\u0441\\u0443\\u0434\\u044c\\u0431\\u0430, \\u0438 \\u0434\\u043b\\u044f \\u043d\\u0435\\u0433\\u043e \\u0431\\u044b\\u0441\\u0442\\u0440\\u043e \\u043e\\u0434\\u0438\\u043d \\u0437\\u0430 \\u0434\\u0440\\u0443\\u0433\\u0438\\u043c \\u0437\\u0430\\u043c\\u0435\\u043b\\u044c\\u043a\\u0430\\u043b\\u0438 \\u0441\\u0442\\u0440\\u0430\\u043d\\u043d\\u044b\\u0435, \\u043d\\u0435\\u0431\\u044b\\u0432\\u0430\\u043b\\u044b\\u0435 \\u0434\\u043d\\u0438, \\u0438 \\u043a\\u0430\\u0436\\u0434\\u044b\\u0439 \\u0434\\u0435\\u043d\\u044c \\u043f\\u0440\\u0438\\u043d\\u043e\\u0441\\u0438\\u043b \\u0441 \\u0441\\u043e\\u0431\\u043e\\u044e \\u043a\\u0430\\u043a\\u043e\\u0439-\\u043d\\u0438\\u0431\\u0443\\u0434\\u044c \\u043d\\u043e\\u0432\\u044b\\u0439 \\u043d\\u0435\\u043e\\u0436\\u0438\\u0434\\u0430\\u043d\\u043d\\u044b\\u0439 \\u0441\\u044e\\u0440\\u043f\\u0440\\u0438\\u0437. \\u041c\\u0435\\u0436\\u0434\\u0443 \\u043f\\u0440\\u043e\\u0447\\u0438\\u043c, \\u0441\\u043b\\u0435\\u0434\\u043e\\u0432\\u0430\\u0442\\u0435\\u043b\\u044c \\u043f\\u0440\\u0438\\u0441\\u043b\\u0430\\u043b \\u0435\\u043c\\u0443 \\u043f\\u043e\\u0432\\u0435\\u0441\\u0442\\u043a\\u0443. \\u041e\\u0442 \\u0441\\u043b\\u0435\\u0434\\u043e\\u0432\\u0430\\u0442\\u0435\\u043b\\u044f \\u0432\\u0435\\u0440\\u043d\\u0443\\u043b\\u0441\\u044f \\u043e\\u043d \\u0434\\u043e\\u043c\\u043e\\u0439 \\u043e\\u0441\\u043a\\u043e\\u0440\\u0431\\u043b\\u0435\\u043d\\u043d\\u044b\\u0439, \\u043a\\u0440\\u0430\\u0441\\u043d\\u044b\\u0439.\\n\\u2014 \\u041f\\u0440\\u0438\\u0441\\u0442\\u0430\\u043b, \\u043a\\u0430\\u043a \\u0441 \\u043d\\u043e\\u0436\\u043e\\u043c \\u043a \\u0433\\u043e\\u0440\\u043b\\u0443: \\u0437\\u0430\\u0447\\u0435\\u043c \\u043f\\u043e\\u0434\\u043f\\u0438\\u0441\\u044b\\u0432\\u0430\\u043b? \\u041f\\u043e\\u0434\\u043f\\u0438\\u0441\\u044b\\u0432\\u0430\\u043b, \\u0432\\u043e\\u0442 \\u0438 \\u0432\\u0441\\u0451! \\u041d\\u0435\\u0448\\u0442\\u043e \\u044f \\u043d\\u0430\\u0440\\u043e\\u0447\\u043d\\u043e? \\u041d\\u043e\\u0441\\u0438\\u043b\\u0438 \\u0432 \\u043b\\u0430\\u0432\\u043a\\u0443, \\u044f \\u0438 \\u043f\\u043e\\u0434\\u043f\\u0438\\u0441\\u044b\\u0432\\u0430\\u043b. \\u042f \\u0438 \\u0447\\u0438\\u0442\\u0430\\u0442\\u044c-\\u0442\\u043e \\u043f\\u043e \\u043f\\u0438\\u0441\\u0430\\u043d\\u043d\\u043e\\u043c\\u0443 \\u043f\\u0443\\u0442\\u0435\\u043c \\u043d\\u0435 \\u0443\\u043c\\u0435\\u044e.\\n\\u041f\\u0440\\u0438\\u0448\\u043b\\u0438 \\u043a\\u0430\\u043a\\u0438\\u0435-\\u0442\\u043e \\u043c\\u043e\\u043b\\u043e\\u0434\\u044b\\u0435 \\u043b\\u044e\\u0434\\u0438 \\u0441 \\u0440\\u0430\\u0432\\u043d\\u043e\\u0434\\u0443\\u0448\\u043d\\u044b\\u043c\\u0438 \\u043b\\u0438\\u0446\\u0430\\u043c\\u0438, \\u0437\\u0430\\u043f\\u0435\\u0447\\u0430\\u0442\\u0430\\u043b\\u0438 \\u043b\\u0430\\u0432\\u043a\\u0443 \\u0438 \\u043e\\u043f\\u0438\\u0441\\u0430\\u043b\\u0438 \\u0432 \\u0434\\u043e\\u043c\\u0435 \\u0432\\u0441\\u044e \\u043c\\u0435\\u0431\\u0435\\u043b\\u044c. \\u041f\\u043e\\u0434\\u043e\\u0437\\u0440\\u0435\\u0432\\u0430\\u044f \\u0432 \\u044d\\u0442\\u043e\\u043c \\u0438\\u043d\\u0442\\u0440\\u0438\\u0433\\u0443 \\u0438 \\u043f\\u043e-\\u043f\\u0440\\u0435\\u0436\\u043d\\u0435\\u043c\\u0443 \\u043d\\u0435 \\u0447\\u0443\\u0432\\u0441\\u0442\\u0432\\u0443\\u044f \\u0437\\u0430 \\u0441\\u043e\\u0431\\u043e\\u0439 \\u043d\\u0438\\u043a\\u0430\\u043a\\u043e\\u0439 \\u0432\\u0438\\u043d\\u044b, \\u043e\\u0441\\u043a\\u043e\\u0440\\u0431\\u043b\\u0435\\u043d\\u043d\\u044b\\u0439 \\u0410\\u0432\\u0434\\u0435\\u0435\\u0432 \\u0441\\u0442\\u0430\\u043b \\u0431\\u0435\\u0433\\u0430\\u0442\\u044c \\u043f\\u043e \\u043f\\u0440\\u0438\\u0441\\u0443\\u0442\\u0441\\u0442\\u0432\\u0435\\u043d\\u043d\\u044b\\u043c \\u043c\\u0435\\u0441\\u0442\\u0430\\u043c \\u0438 \\u0436\\u0430\\u043b\\u043e\\u0432\\u0430\\u0442\\u044c\\u0441\\u044f. \\u041f\\u043e \\u0446\\u0435\\u043b\\u044b\\u043c \\u0447\\u0430\\u0441\\u0430\\u043c \\u043e\\u0436\\u0438\\u0434\\u0430\\u043b \\u043e\\u043d \\u0432 \\u043f\\u0435\\u0440\\u0435\\u0434\\u043d\\u0438\\u0445, \\u0441\\u043e\\u0447\\u0438\\u043d\\u044f\\u043b \\u0434\\u043b\\u0438\\u043d\\u043d\\u044b\\u0435 \\u043f\\u0440\\u043e\\u0448\\u0435\\u043d\\u0438\\u044f, \\u043f\\u043b\\u0430\\u043a\\u0430\\u043b, \\u0431\\u0440\\u0430\\u043d\\u0438\\u043b\\u0441\\u044f. \\u0412 \\u043e\\u0442\\u0432\\u0435\\u0442 \\u043d\\u0430 \\u0435\\u0433\\u043e \\u0436\\u0430\\u043b\\u043e\\u0431\\u044b \\u043f\\u0440\\u043e\\u043a\\u0443\\u0440\\u043e\\u0440 \\u0438 \\u0441\\u043b\\u0435\\u0434\\u043e\\u0432\\u0430\\u0442\\u0435\\u043b\\u044c \\u0433\\u043e\\u0432\\u043e\\u0440\\u0438\\u043b\\u0438 \\u0435\\u043c\\u0443 \\u0440\\u0430\\u0432\\u043d\\u043e\\u0434\\u0443\\u0448\\u043d\\u043e \\u0438 \\u0440\\u0435\\u0437\\u043e\\u043d\\u043d\\u043e:\\n\\u2014 \\u041f\\u0440\\u0438\\u0445\\u043e\\u0434\\u0438\\u0442\\u0435, \\u043a\\u043e\\u0433\\u0434\\u0430 \\u0432\\u0430\\u0441 \\u043f\\u043e\\u0437\\u043e\\u0432\\u0443\\u0442, \\u0430 \\u0442\\u0435\\u043f\\u0435\\u0440\\u044c \\u043d\\u0430\\u043c \\u043d\\u0435\\u043a\\u043e\\u0433\\u0434\\u0430.\\n\\u0410 \\u0434\\u0440\\u0443\\u0433\\u0438\\u0435 \\u043e\\u0442\\u0432\\u0435\\u0447\\u0430\\u043b\\u0438:\\n\\u2014 \\u042d\\u0442\\u043e \\u043d\\u0435 \\u043d\\u0430\\u0448\\u0435 \\u0434\\u0435\\u043b\\u043e.\\n\\u0421\\u0435\\u043a\\u0440\\u0435\\u0442\\u0430\\u0440\\u044c \\u0436\\u0435, \\u043e\\u0431\\u0440\\u0430\\u0437\\u043e\\u0432\\u0430\\u043d\\u043d\\u044b\\u0439 \\u0447\\u0435\\u043b\\u043e\\u0432\\u0435\\u043a, \\u043a\\u043e\\u0442\\u043e\\u0440\\u044b\\u0439, \\u043a\\u0430\\u043a \\u043a\\u0430\\u0437\\u0430\\u043b\\u043e\\u0441\\u044c \\u0410\\u0432\\u0434\\u0435\\u0435\\u0432\\u0443, \\u043c\\u043e\\u0433 \\u0431\\u044b \\u043f\\u043e\\u043c\\u043e\\u0447\\u044c \\u0435\\u043c\\u0443, \\u0442\\u043e\\u043b\\u044c\\u043a\\u043e \\u043f\\u043e\\u0436\\u0438\\u043c\\u0430\\u043b \\u043f\\u043b\\u0435\\u0447\\u0430\\u043c\\u0438 \\u0438 \\u0433\\u043e\\u0432\\u043e\\u0440\\u0438\\u043b:\\n\\u2014 \\u0412\\u044b \\u0441\\u0430\\u043c\\u0438 \\u0432\\u0438\\u043d\\u043e\\u0432\\u0430\\u0442\\u044b. \\u041d\\u0435 \\u043d\\u0443\\u0436\\u043d\\u043e \\u0431\\u044b\\u0442\\u044c \\u0431\\u0430\\u0440\\u0430\\u043d\\u043e\\u043c...\\n\\u0421\\u0442\\u0430\\u0440\\u0438\\u043a \\u0445\\u043b\\u043e\\u043f\\u043e\\u0442\\u0430\\u043b, \\u0430 \\u043d\\u043e\\u0433\\u0430 \\u043d\\u0435\\u043c\\u0435\\u043b\\u0430 \\u043f\\u043e-\\u043f\\u0440\\u0435\\u0436\\u043d\\u0435\\u043c\\u0443 \\u0438 \\u0436\\u0435\\u043b\\u0443\\u0434\\u043e\\u043a \\u0432\\u0430\\u0440\\u0438\\u043b \\u0432\\u0441\\u0451 \\u0445\\u0443\\u0436\\u0435. \\u041a\\u043e\\u0433\\u0434\\u0430 \\u0431\\u0435\\u0437\\u0434\\u0435\\u043b\\u044c\\u0435 \\u0443\\u0442\\u043e\\u043c\\u0438\\u043b\\u043e \\u0435\\u0433\\u043e \\u0438 \\u043d\\u0430\\u0441\\u0442\\u0443\\u043f\\u0438\\u043b\\u0430 \\u043d\\u0443\\u0436\\u0434\\u0430, \\u043e\\u043d \\u0440\\u0435\\u0448\\u0438\\u043b \\u043f\\u043e\\u0435\\u0445\\u0430\\u0442\\u044c \\u043a \\u043e\\u0442\\u0446\\u0443 \\u043d\\u0430 \\u043c\\u0435\\u043b\\u044c\\u043d\\u0438\\u0446\\u0443 \\u0438\\u043b\\u0438 \\u043a \\u0431\\u0440\\u0430\\u0442\\u0443 \\u0438 \\u0437\\u0430\\u043d\\u044f\\u0442\\u044c\\u0441\\u044f \\u043c\\u0443\\u0447\\u043d\\u043e\\u0439 \\u0442\\u043e\\u0440\\u0433\\u043e\\u0432\\u043b\\u0435\\u0439, \\u043d\\u043e \\u0435\\u0433\\u043e \\u043d\\u0435 \\u043f\\u0443\\u0441\\u0442\\u0438\\u043b\\u0438 \\u0438\\u0437 \\u0433\\u043e\\u0440\\u043e\\u0434\\u0430. \\u0421\\u0435\\u043c\\u044c\\u044f \\u0443\\u0435\\u0445\\u0430\\u043b\\u0430 \\u043a \\u043e\\u0442\\u0446\\u0443, \\u0430 \\u043e\\u043d \\u043e\\u0441\\u0442\\u0430\\u043b\\u0441\\u044f \\u043e\\u0434\\u0438\\u043d.\\n\\u0414\\u043d\\u0438 \\u043c\\u0435\\u043b\\u044c\\u043a\\u0430\\u043b\\u0438 \\u0437\\u0430 \\u0434\\u043d\\u044f\\u043c\\u0438. \\u0411\\u0435\\u0437 \\u0441\\u0435\\u043c\\u044c\\u0438, \\u0431\\u0435\\u0437 \\u0440\\u0430\\u0431\\u043e\\u0442\\u044b \\u0438 \\u0431\\u0435\\u0437 \\u0434\\u0435\\u043d\\u0435\\u0433, \\u0431\\u044b\\u0432\\u0448\\u0438\\u0439 \\u0441\\u0442\\u0430\\u0440\\u043e\\u0441\\u0442\\u0430, \\u043f\\u043e\\u0447\\u0442\\u0435\\u043d\\u043d\\u044b\\u0439 \\u0438 \\u0443\\u0432\\u0430\\u0436\\u0430\\u0435\\u043c\\u044b\\u0439 \\u0447\\u0435\\u043b\\u043e\\u0432\\u0435\\u043a, \\u043f\\u043e \\u0446\\u0435\\u043b\\u044b\\u043c \\u0434\\u043d\\u044f\\u043c \\u0445\\u043e\\u0434\\u0438\\u043b \\u043f\\u043e \\u043b\\u0430\\u0432\\u043a\\u0430\\u043c \\u0441\\u0432\\u043e\\u0438\\u0445 \\u043f\\u0440\\u0438\\u044f\\u0442\\u0435\\u043b\\u0435\\u0439, \\u0432\\u044b\\u043f\\u0438\\u0432\\u0430\\u043b, \\u0437\\u0430\\u043a\\u0443\\u0441\\u044b\\u0432\\u0430\\u043b \\u0438 \\u0432\\u044b\\u0441\\u043b\\u0443\\u0448\\u0438\\u0432\\u0430\\u043b \\u0441\\u043e\\u0432\\u0435\\u0442\\u044b. \\u041f\\u043e \\u0443\\u0442\\u0440\\u0430\\u043c \\u0438 \\u0432\\u0435\\u0447\\u0435\\u0440\\u0430\\u043c \\u043e\\u043d, \\u0447\\u0442\\u043e\\u0431\\u044b \\u0443\\u0431\\u0438\\u0442\\u044c \\u0432\\u0440\\u0435\\u043c\\u044f, \\u0445\\u043e\\u0434\\u0438\\u043b \\u0432 \\u0446\\u0435\\u0440\\u043a\\u043e\\u0432\\u044c. \\u0413\\u043b\\u044f\\u0434\\u044f \\u043f\\u043e \\u0446\\u0435\\u043b\\u044b\\u043c \\u0447\\u0430\\u0441\\u0430\\u043c \\u043d\\u0430 \\u0438\\u043a\\u043e\\u043d\\u044b, \\u043e\\u043d \\u043d\\u0435 \\u043c\\u043e\\u043b\\u0438\\u043b\\u0441\\u044f, \\u0430 \\u0434\\u0443\\u043c\\u0430\\u043b. \\u0421\\u043e\\u0432\\u0435\\u0441\\u0442\\u044c \\u0435\\u0433\\u043e \\u0431\\u044b\\u043b\\u0430 \\u0447\\u0438\\u0441\\u0442\\u0430, \\u0438 \\u0441\\u0432\\u043e\\u0435 \\u043f\\u043e\\u043b\\u043e\\u0436\\u0435\\u043d\\u0438\\u0435 \\u043e\\u0431\\u044a\\u044f\\u0441\\u043d\\u044f\\u043b \\u043e\\u043d \\u043e\\u0448\\u0438\\u0431\\u043a\\u043e\\u0439 \\u0438 \\u043d\\u0435\\u0434\\u043e\\u0440\\u0430\\u0437\\u0443\\u043c\\u0435\\u043d\\u0438\\u0435\\u043c; \\u043f\\u043e \\u0435\\u0433\\u043e \\u043c\\u043d\\u0435\\u043d\\u0438\\u044e, \\u0432\\u0441\\u0451 \\u043f\\u0440\\u043e\\u0438\\u0437\\u043e\\u0448\\u043b\\u043e \\u0442\\u043e\\u043b\\u044c\\u043a\\u043e \\u043e\\u0442\\u0442\\u043e\\u0433\\u043e, \\u0447\\u0442\\u043e \\u0441\\u043b\\u0435\\u0434\\u043e\\u0432\\u0430\\u0442\\u0435\\u043b\\u0438 \\u0438 \\u0447\\u0438\\u043d\\u043e\\u0432\\u043d\\u0438\\u043a\\u0438 \\u043c\\u043e\\u043b\\u043e\\u0434\\u044b \\u0438 \\u043d\\u0435\\u043e\\u043f\\u044b\\u0442\\u043d\\u044b; \\u0435\\u043c\\u0443 \\u043a\\u0430\\u0437\\u0430\\u043b\\u043e\\u0441\\u044c, \\u0447\\u0442\\u043e \\u0435\\u0441\\u043b\\u0438 \\u0431\\u044b \\u043a\\u0430\\u043a\\u043e\\u0439-\\u043d\\u0438\\u0431\\u0443\\u0434\\u044c \\u0441\\u0442\\u0430\\u0440\\u044b\\u0439 \\u0441\\u0443\\u0434\\u044c\\u044f \\u043f\\u043e\\u0433\\u043e\\u0432\\u043e\\u0440\\u0438\\u043b \\u0441 \\u043d\\u0438\\u043c \\u043f\\u043e \\u0434\\u0443\\u0448\\u0430\\u043c \\u0438 \\u043f\\u043e\\u0434\\u0440\\u043e\\u0431\\u043d\\u043e, \\u0442\\u043e \\u0432\\u0441\\u0451 \\u0432\\u043e\\u0448\\u043b\\u043e \\u0431\\u044b \\u0432 \\u0441\\u0432\\u043e\\u044e \\u043a\\u043e\\u043b\\u0435\\u044e. \\u041e\\u043d \\u043d\\u0435 \\u043f\\u043e\\u043d\\u0438\\u043c\\u0430\\u043b \\u0441\\u0432\\u043e\\u0438\\u0445 \\u0441\\u0443\\u0434\\u0435\\u0439, \\u0430 \\u0441\\u0443\\u0434\\u044c\\u0438, \\u043a\\u0430\\u0437\\u0430\\u043b\\u043e\\u0441\\u044c \\u0435\\u043c\\u0443, \\u043d\\u0435 \\u043f\\u043e\\u043d\\u0438\\u043c\\u0430\\u043b\\u0438 \\u0435\\u0433\\u043e...\\n\\u0414\\u043d\\u0438 \\u0431\\u0435\\u0436\\u0430\\u043b\\u0438 \\u0437\\u0430 \\u0434\\u043d\\u044f\\u043c\\u0438, \\u0438 \\u043d\\u0430\\u043a\\u043e\\u043d\\u0435\\u0446 \\u043f\\u043e\\u0441\\u043b\\u0435 \\u0434\\u043e\\u043b\\u0433\\u043e\\u0439, \\u0442\\u043e\\u043c\\u0438\\u0442\\u0435\\u043b\\u044c\\u043d\\u043e\\u0439 \\u043f\\u0440\\u043e\\u0432\\u043e\\u043b\\u043e\\u0447\\u043a\\u0438 \\u043d\\u0430\\u0441\\u0442\\u0443\\u043f\\u0438\\u043b\\u043e \\u0432\\u0440\\u0435\\u043c\\u044f \\u0441\\u0443\\u0434\\u0430. \\u0410\\u0432\\u0434\\u0435\\u0435\\u0432 \\u0432\\u0437\\u044f\\u043b \\u0432\\u0437\\u0430\\u0439\\u043c\\u044b 50 \\u0440\\u0443\\u0431\\u043b\\u0435\\u0439, \\u0437\\u0430\\u043f\\u0430\\u0441\\u0441\\u044f \\u0441\\u043f\\u0438\\u0440\\u0442\\u043e\\u043c \\u0434\\u043b\\u044f \\u043d\\u043e\\u0433\\u0438 \\u0438 \\u0442\\u0440\\u0430\\u0432\\u043a\\u043e\\u0439 \\u0434\\u043b\\u044f \\u0436\\u0435\\u043b\\u0443\\u0434\\u043a\\u0430 \\u0438 \\u043f\\u043e\\u0435\\u0445\\u0430\\u043b \\u0432 \\u0442\\u043e\\u0442 \\u0433\\u043e\\u0440\\u043e\\u0434, \\u0433\\u0434\\u0435 \\u043d\\u0430\\u0445\\u043e\\u0434\\u0438\\u043b\\u0430\\u0441\\u044c \\u0441\\u0443\\u0434\\u0435\\u0431\\u043d\\u0430\\u044f \\u043f\\u0430\\u043b\\u0430\\u0442\\u0430.\\n\\u0421\\u0443\\u0434 \\u043f\\u0440\\u043e\\u0434\\u043e\\u043b\\u0436\\u0430\\u043b\\u0441\\u044f \\u043f\\u043e\\u043b\\u0442\\u043e\\u0440\\u044b \\u043d\\u0435\\u0434\\u0435\\u043b\\u0438. \\u0412\\u0441\\u0451 \\u0432\\u0440\\u0435\\u043c\\u044f \\u0441\\u0443\\u0434\\u0430 \\u0410\\u0432\\u0434\\u0435\\u0435\\u0432 \\u0441\\u043e\\u043b\\u0438\\u0434\\u043d\\u043e \\u0438 \\u0441 \\u0434\\u043e\\u0441\\u0442\\u043e\\u0438\\u043d\\u0441\\u0442\\u0432\\u043e\\u043c, \\u043a\\u0430\\u043a \\u044d\\u0442\\u043e \\u043f\\u043e\\u0434\\u043e\\u0431\\u0430\\u0435\\u0442 \\u0447\\u0435\\u043b\\u043e\\u0432\\u0435\\u043a\\u0443 \\u043f\\u043e\\u0447\\u0442\\u0435\\u043d\\u043d\\u043e\\u043c\\u0443 \\u0438 \\u043d\\u0435\\u0432\\u0438\\u043d\\u043d\\u043e \\u043f\\u043e\\u0441\\u0442\\u0440\\u0430\\u0434\\u0430\\u0432\\u0448\\u0435\\u043c\\u0443, \\u0441\\u0438\\u0434\\u0435\\u043b \\u0441\\u0440\\u0435\\u0434\\u0438 \\u0442\\u043e\\u0432\\u0430\\u0440\\u0438\\u0449\\u0435\\u0439 \\u043f\\u043e \\u043d\\u0435\\u0441\\u0447\\u0430\\u0441\\u0442\\u044c\\u044e, \\u0441\\u043b\\u0443\\u0448\\u0430\\u043b \\u0438 \\u0440\\u043e\\u0432\\u043d\\u043e \\u043d\\u0438\\u0447\\u0435\\u0433\\u043e \\u043d\\u0435 \\u043f\\u043e\\u043d\\u0438\\u043c\\u0430\\u043b. \\u041d\\u0430\\u0441\\u0442\\u0440\\u043e\\u0435\\u043d\\u0438\\u0435 \\u0443 \\u043d\\u0435\\u0433\\u043e \\u0431\\u044b\\u043b\\u043e \\u0432\\u0440\\u0430\\u0436\\u0434\\u0435\\u0431\\u043d\\u043e\\u0435. \\u041e\\u043d \\u0441\\u0435\\u0440\\u0434\\u0438\\u043b\\u0441\\u044f, \\u0447\\u0442\\u043e \\u0435\\u0433\\u043e \\u0434\\u043e\\u043b\\u0433\\u043e \\u0434\\u0435\\u0440\\u0436\\u0430\\u0442 \\u0432 \\u0441\\u0443\\u0434\\u0435, \\u0447\\u0442\\u043e \\u043d\\u0438\\u0433\\u0434\\u0435 \\u043d\\u0435\\u043b\\u044c\\u0437\\u044f \\u0434\\u043e\\u0441\\u0442\\u0430\\u0442\\u044c \\u043f\\u043e\\u0441\\u0442\\u043d\\u043e\\u0439 \\u0435\\u0434\\u044b, \\u0447\\u0442\\u043e \\u0437\\u0430\\u0449\\u0438\\u0442\\u043d\\u0438\\u043a \\u043d\\u0435 \\u043f\\u043e\\u043d\\u0438\\u043c\\u0430\\u0435\\u0442 \\u0435\\u0433\\u043e \\u0438, \\u043a\\u0430\\u043a \\u043a\\u0430\\u0437\\u0430\\u043b\\u043e\\u0441\\u044c \\u0435\\u043c\\u0443, \\u0433\\u043e\\u0432\\u043e\\u0440\\u0438\\u0442 \\u043d\\u0435 \\u0442\\u043e, \\u0447\\u0442\\u043e \\u043d\\u0443\\u0436\\u043d\\u043e. \\u0421\\u0443\\u0434\\u044c\\u0438, \\u043a\\u0430\\u0437\\u0430\\u043b\\u043e\\u0441\\u044c \\u0435\\u043c\\u0443, \\u0441\\u0443\\u0434\\u0438\\u043b\\u0438 \\u043d\\u0435 \\u0442\\u0430\\u043a, \\u043a\\u0430\\u043a \\u0431\\u044b \\u0441\\u043b\\u0435\\u0434\\u043e\\u0432\\u0430\\u043b\\u043e. \\u041e\\u043d\\u0438 \\u043d\\u0435 \\u043e\\u0431\\u0440\\u0430\\u0449\\u0430\\u043b\\u0438 \\u043d\\u0430 \\u0410\\u0432\\u0434\\u0435\\u0435\\u0432\\u0430 \\u043f\\u043e\\u0447\\u0442\\u0438 \\u043d\\u0438\\u043a\\u0430\\u043a\\u043e\\u0433\\u043e \\u0432\\u043d\\u0438\\u043c\\u0430\\u043d\\u0438\\u044f, \\u043e\\u0431\\u0440\\u0430\\u0449\\u0430\\u043b\\u0438\\u0441\\u044c \\u043a \\u043d\\u0435\\u043c\\u0443 \\u0440\\u0430\\u0437 \\u0432 \\u0442\\u0440\\u0438 \\u0434\\u043d\\u044f, \\u0438 \\u0432\\u043e\\u043f\\u0440\\u043e\\u0441\\u044b, \\u043a\\u043e\\u0442\\u043e\\u0440\\u044b\\u0435 \\u043e\\u043d\\u0438 \\u0437\\u0430\\u0434\\u0430\\u0432\\u0430\\u043b\\u0438 \\u0435\\u043c\\u0443, \\u0431\\u044b\\u043b\\u0438 \\u0442\\u0430\\u043a\\u043e\\u0433\\u043e \\u0441\\u0432\\u043e\\u0439\\u0441\\u0442\\u0432\\u0430, \\u0447\\u0442\\u043e, \\u043e\\u0442\\u0432\\u0435\\u0447\\u0430\\u044f \\u043d\\u0430 \\u043d\\u0438\\u0445, \\u0410\\u0432\\u0434\\u0435\\u0435\\u0432 \\u0432\\u0441\\u044f\\u043a\\u0438\\u0439 \\u0440\\u0430\\u0437 \\u0432\\u043e\\u0437\\u0431\\u0443\\u0436\\u0434\\u0430\\u043b \\u0432 \\u043f\\u0443\\u0431\\u043b\\u0438\\u043a\\u0435 \\u0441\\u043c\\u0435\\u0445. \\u041a\\u043e\\u0433\\u0434\\u0430 \\u043e\\u043d \\u043f\\u043e\\u0440\\u044b\\u0432\\u0430\\u043b\\u0441\\u044f \\u0433\\u043e\\u0432\\u043e\\u0440\\u0438\\u0442\\u044c \\u043e \\u0441\\u0432\\u043e\\u0438\\u0445 \\u043f\\u0440\\u043e\\u0442\\u043e\\u0440\\u044f\\u0445, \\u0443\\u0431\\u044b\\u0442\\u043a\\u0430\\u0445 \\u0438 \\u043e \\u0442\\u043e\\u043c, \\u0447\\u0442\\u043e \\u0436\\u0435\\u043b\\u0430\\u0435\\u0442 \\u0432\\u0437\\u044b\\u0441\\u043a\\u0430\\u0442\\u044c \\u0441\\u0443\\u0434\\u0435\\u0431\\u043d\\u044b\\u0435 \\u0438\\u0437\\u0434\\u0435\\u0440\\u0436\\u043a\\u0438, \\u0437\\u0430\\u0449\\u0438\\u0442\\u043d\\u0438\\u043a \\u043e\\u0431\\u043e\\u0440\\u0430\\u0447\\u0438\\u0432\\u0430\\u043b\\u0441\\u044f \\u0438 \\u0434\\u0435\\u043b\\u0430\\u043b \\u043d\\u0435\\u043f\\u043e\\u043d\\u044f\\u0442\\u043d\\u0443\\u044e \\u0433\\u0440\\u0438\\u043c\\u0430\\u0441\\u0443, \\u043f\\u0443\\u0431\\u043b\\u0438\\u043a\\u0430 \\u0441\\u043c\\u0435\\u044f\\u043b\\u0430\\u0441\\u044c, \\u0430 \\u043f\\u0440\\u0435\\u0434\\u0441\\u0435\\u0434\\u0430\\u0442\\u0435\\u043b\\u044c \\u0441\\u0442\\u0440\\u043e\\u0433\\u043e \\u0437\\u0430\\u044f\\u0432\\u043b\\u044f\\u043b, \\u0447\\u0442\\u043e \\u044d\\u0442\\u043e \\u043a \\u0434\\u0435\\u043b\\u0443 \\u043d\\u0435 \\u043e\\u0442\\u043d\\u043e\\u0441\\u0438\\u0442\\u0441\\u044f. \\u0412 \\u0441\\u0432\\u043e\\u0435\\u043c \\u043f\\u043e\\u0441\\u043b\\u0435\\u0434\\u043d\\u0435\\u043c \\u0441\\u043b\\u043e\\u0432\\u0435 \\u043e\\u043d \\u0441\\u043a\\u0430\\u0437\\u0430\\u043b \\u043d\\u0435 \\u0442\\u043e, \\u0447\\u0435\\u043c\\u0443 \\u0443\\u0447\\u0438\\u043b \\u0435\\u0433\\u043e \\u0437\\u0430\\u0449\\u0438\\u0442\\u043d\\u0438\\u043a, \\u0430 \\u0441\\u043e\\u0432\\u0441\\u0435\\u043c \\u0434\\u0440\\u0443\\u0433\\u043e\\u0435, \\u0442\\u043e\\u0436\\u0435 \\u0432\\u043e\\u0437\\u0431\\u0443\\u0434\\u0438\\u0432\\u0448\\u0435\\u0435 \\u0441\\u043c\\u0435\\u0445.\\n\\u0412 \\u0442\\u0435 \\u0441\\u0442\\u0440\\u0430\\u0448\\u043d\\u044b\\u0435 \\u0447\\u0430\\u0441\\u044b, \\u043a\\u043e\\u0433\\u0434\\u0430 \\u043f\\u0440\\u0438\\u0441\\u044f\\u0436\\u043d\\u044b\\u0435 \\u0441\\u043e\\u0432\\u0435\\u0449\\u0430\\u043b\\u0438\\u0441\\u044c \\u0432 \\u0441\\u0432\\u043e\\u0435\\u0439 \\u043a\\u043e\\u043c\\u043d\\u0430\\u0442\\u0435, \\u043e\\u043d \\u0441\\u0435\\u0440\\u0434\\u0438\\u0442\\u044b\\u0439 \\u0441\\u0438\\u0434\\u0435\\u043b \\u0432 \\u0431\\u0443\\u0444\\u0435\\u0442\\u0435 \\u0438 \\u0441\\u043e\\u0432\\u0441\\u0435\\u043c \\u043d\\u0435 \\u0434\\u0443\\u043c\\u0430\\u043b \\u043e \\u043f\\u0440\\u0438\\u0441\\u044f\\u0436\\u043d\\u044b\\u0445. \\u041e\\u043d \\u043d\\u0435 \\u043f\\u043e\\u043d\\u0438\\u043c\\u0430\\u043b, \\u0437\\u0430\\u0447\\u0435\\u043c \\u043e\\u043d\\u0438 \\u0441\\u043e\\u0432\\u0435\\u0449\\u0430\\u044e\\u0442\\u0441\\u044f \\u0442\\u0430\\u043a \\u0434\\u043e\\u043b\\u0433\\u043e, \\u0435\\u0441\\u043b\\u0438 \\u0432\\u0441\\u0451 \\u0442\\u0430\\u043a \\u044f\\u0441\\u043d\\u043e, \\u0438 \\u0447\\u0442\\u043e \\u0438\\u043c \\u043d\\u0443\\u0436\\u043d\\u043e \\u043e\\u0442 \\u043d\\u0435\\u0433\\u043e.\\n\\u041f\\u0440\\u043e\\u0433\\u043e\\u043b\\u043e\\u0434\\u0430\\u0432\\u0448\\u0438\\u0441\\u044c, \\u043e\\u043d \\u043f\\u043e\\u043f\\u0440\\u043e\\u0441\\u0438\\u043b \\u043b\\u0430\\u043a\\u0435\\u044f \\u0434\\u0430\\u0442\\u044c \\u0435\\u043c\\u0443 \\u0447\\u0435\\u0433\\u043e-\\u043d\\u0438\\u0431\\u0443\\u0434\\u044c \\u0434\\u0435\\u0448\\u0435\\u0432\\u043e\\u0433\\u043e \\u0438 \\u043f\\u043e\\u0441\\u0442\\u043d\\u043e\\u0433\\u043e. \\u0417\\u0430 \\u0441\\u043e\\u0440\\u043e\\u043a \\u043a\\u043e\\u043f\\u0435\\u0435\\u043a \\u0435\\u043c\\u0443 \\u0434\\u0430\\u043b\\u0438 \\u043a\\u0430\\u043a\\u043e\\u0439-\\u0442\\u043e \\u0445\\u043e\\u043b\\u043e\\u0434\\u043d\\u043e\\u0439 \\u0440\\u044b\\u0431\\u044b \\u0441 \\u043c\\u043e\\u0440\\u043a\\u043e\\u0432\\u044c\\u044e. \\u041e\\u043d \\u0441\\u044a\\u0435\\u043b \\u0438 \\u0442\\u043e\\u0442\\u0447\\u0430\\u0441 \\u0436\\u0435 \\u043f\\u043e\\u0447\\u0443\\u0432\\u0441\\u0442\\u0432\\u043e\\u0432\\u0430\\u043b, \\u043a\\u0430\\u043a \\u044d\\u0442\\u0430 \\u0440\\u044b\\u0431\\u0430 \\u0442\\u044f\\u0436\\u0435\\u043b\\u044b\\u043c \\u043a\\u043e\\u043c\\u043e\\u043c \\u0437\\u0430\\u0445\\u043e\\u0434\\u0438\\u043b\\u0430 \\u0432 \\u0435\\u0433\\u043e \\u0436\\u0438\\u0432\\u043e\\u0442\\u0435; \\u043d\\u0430\\u0447\\u0430\\u043b\\u0438\\u0441\\u044c \\u043e\\u0442\\u0440\\u044b\\u0436\\u043a\\u0430, \\u0438\\u0437\\u0436\\u043e\\u0433\\u0430, \\u0431\\u043e\\u043b\\u044c...\\n\\u041a\\u043e\\u0433\\u0434\\u0430 \\u043e\\u043d \\u043f\\u043e\\u0442\\u043e\\u043c \\u0441\\u043b\\u0443\\u0448\\u0430\\u043b \\u0441\\u0442\\u0430\\u0440\\u0448\\u0438\\u043d\\u0443, \\u0447\\u0438\\u0442\\u0430\\u0432\\u0448\\u0435\\u0433\\u043e \\u0432\\u043e\\u043f\\u0440\\u043e\\u0441\\u043d\\u044b\\u0435 \\u043f\\u0443\\u043d\\u043a\\u0442\\u044b, \\u0432\\u043d\\u0443\\u0442\\u0440\\u0435\\u043d\\u043d\\u043e\\u0441\\u0442\\u0438 \\u0435\\u0433\\u043e \\u043f\\u0435\\u0440\\u0435\\u0432\\u043e\\u0440\\u0430\\u0447\\u0438\\u0432\\u0430\\u043b\\u0438\\u0441\\u044c, \\u0442\\u0435\\u043b\\u043e \\u043e\\u0431\\u043b\\u0438\\u0432\\u0430\\u043b\\u043e\\u0441\\u044c \\u0445\\u043e\\u043b\\u043e\\u0434\\u043d\\u044b\\u043c \\u043f\\u043e\\u0442\\u043e\\u043c, \\u043b\\u0435\\u0432\\u0430\\u044f \\u043d\\u043e\\u0433\\u0430 \\u043d\\u0435\\u043c\\u0435\\u043b\\u0430; \\u043e\\u043d \\u043d\\u0435 \\u0441\\u043b\\u0443\\u0448\\u0430\\u043b, \\u043d\\u0438\\u0447\\u0435\\u0433\\u043e \\u043d\\u0435 \\u043f\\u043e\\u043d\\u0438\\u043c\\u0430\\u043b \\u0438 \\u043d\\u0435\\u0432\\u044b\\u043d\\u043e\\u0441\\u0438\\u043c\\u043e \\u0441\\u0442\\u0440\\u0430\\u0434\\u0430\\u043b \\u043e\\u0442\\u0442\\u043e\\u0433\\u043e, \\u0447\\u0442\\u043e \\u0441\\u0442\\u0430\\u0440\\u0448\\u0438\\u043d\\u0443 \\u043d\\u0435\\u043b\\u044c\\u0437\\u044f \\u0441\\u043b\\u0443\\u0448\\u0430\\u0442\\u044c \\u0441\\u0438\\u0434\\u044f \\u0438\\u043b\\u0438 \\u043b\\u0435\\u0436\\u0430. \\u041d\\u0430\\u043a\\u043e\\u043d\\u0435\\u0446, \\u043a\\u043e\\u0433\\u0434\\u0430 \\u0435\\u043c\\u0443 \\u0438 \\u0435\\u0433\\u043e \\u0442\\u043e\\u0432\\u0430\\u0440\\u0438\\u0449\\u0430\\u043c \\u043f\\u043e\\u0437\\u0432\\u043e\\u043b\\u0438\\u043b\\u0438 \\u0441\\u0435\\u0441\\u0442\\u044c, \\u0432\\u0441\\u0442\\u0430\\u043b \\u043f\\u0440\\u043e\\u043a\\u0443\\u0440\\u043e\\u0440 \\u0441\\u0443\\u0434\\u0435\\u0431\\u043d\\u043e\\u0439 \\u043f\\u0430\\u043b\\u0430\\u0442\\u044b \\u0438 \\u0441\\u043a\\u0430\\u0437\\u0430\\u043b \\u0447\\u0442\\u043e-\\u0442\\u043e \\u043d\\u0435\\u043f\\u043e\\u043d\\u044f\\u0442\\u043d\\u043e\\u0435. \\u0422\\u043e\\u0447\\u043d\\u043e \\u0438\\u0437 \\u0437\\u0435\\u043c\\u043b\\u0438 \\u0432\\u044b\\u0440\\u043e\\u0441\\u0448\\u0438, \\u043f\\u043e\\u044f\\u0432\\u0438\\u043b\\u0438\\u0441\\u044c \\u043e\\u0442\\u043a\\u0443\\u0434\\u0430-\\u0442\\u043e \\u0436\\u0430\\u043d\\u0434\\u0430\\u0440\\u043c\\u044b \\u0441 \\u0448\\u0430\\u0448\\u043a\\u0430\\u043c\\u0438 \\u043d\\u0430\\u0433\\u043e\\u043b\\u043e \\u0438 \\u043e\\u043a\\u0440\\u0443\\u0436\\u0438\\u043b\\u0438 \\u0432\\u0441\\u0435\\u0445 \\u043e\\u0431\\u0432\\u0438\\u043d\\u044f\\u0435\\u043c\\u044b\\u0445. \\u0410\\u0432\\u0434\\u0435\\u0435\\u0432\\u0443 \\u043f\\u0440\\u0438\\u043a\\u0430\\u0437\\u0430\\u043b\\u0438 \\u0432\\u0441\\u0442\\u0430\\u0442\\u044c \\u0438 \\u0438\\u0434\\u0442\\u0438.\\n\\u0422\\u0435\\u043f\\u0435\\u0440\\u044c \\u043e\\u043d \\u043f\\u043e\\u043d\\u044f\\u043b, \\u0447\\u0442\\u043e \\u0435\\u0433\\u043e \\u043e\\u0431\\u0432\\u0438\\u043d\\u0438\\u043b\\u0438 \\u0438 \\u0432\\u0437\\u044f\\u043b\\u0438 \\u043f\\u043e\\u0434 \\u0441\\u0442\\u0440\\u0430\\u0436\\u0443, \\u043d\\u043e \\u043e\\u043d \\u043d\\u0435 \\u0438\\u0441\\u043f\\u0443\\u0433\\u0430\\u043b\\u0441\\u044f \\u0438 \\u043d\\u0435 \\u0443\\u0434\\u0438\\u0432\\u0438\\u043b\\u0441\\u044f; \\u0432 \\u0436\\u0438\\u0432\\u043e\\u0442\\u0435 \\u043f\\u0440\\u043e\\u0438\\u0441\\u0445\\u043e\\u0434\\u0438\\u043b \\u0442\\u0430\\u043a\\u043e\\u0439 \\u0431\\u0435\\u0441\\u043f\\u043e\\u0440\\u044f\\u0434\\u043e\\u043a, \\u0447\\u0442\\u043e \\u0435\\u043c\\u0443 \\u0431\\u044b\\u043b\\u043e \\u0441\\u043e\\u0432\\u0441\\u0435\\u043c \\u043d\\u0435 \\u0434\\u043e \\u0441\\u0442\\u0440\\u0430\\u0436\\u0438.\\n\\u2014 \\u0417\\u043d\\u0430\\u0447\\u0438\\u0442, \\u043d\\u0430\\u0441 \\u0442\\u0435\\u043f\\u0435\\u0440\\u044c \\u043d\\u0435 \\u043f\\u0443\\u0441\\u0442\\u044f\\u0442 \\u0432 \\u043d\\u043e\\u043c\\u0435\\u0440? \\u2014 \\u0441\\u043f\\u0440\\u043e\\u0441\\u0438\\u043b \\u043e\\u043d \\u0443 \\u043e\\u0434\\u043d\\u043e\\u0433\\u043e \\u0438\\u0437 \\u0441\\u0432\\u043e\\u0438\\u0445 \\u0442\\u043e\\u0432\\u0430\\u0440\\u0438\\u0449\\u0435\\u0439. \\u2014 \\u0410 \\u0443 \\u043c\\u0435\\u043d\\u044f \\u0432 \\u043d\\u043e\\u043c\\u0435\\u0440\\u0435 \\u0442\\u0440\\u0438 \\u0440\\u0443\\u0431\\u043b\\u044f \\u0434\\u0435\\u043d\\u0435\\u0433 \\u0438 \\u043d\\u0435\\u043f\\u043e\\u0447\\u0430\\u0442\\u0430\\u044f \\u0447\\u0435\\u0442\\u0432\\u0435\\u0440\\u0442\\u043a\\u0430 \\u0447\\u0430\\u044e.\\n\\u041d\\u043e\\u0447\\u0435\\u0432\\u0430\\u043b \\u043e\\u043d \\u0432 \\u0447\\u0430\\u0441\\u0442\\u043d\\u043e\\u043c \\u0434\\u043e\\u043c\\u0435, \\u0432\\u0441\\u044e \\u043d\\u043e\\u0447\\u044c \\u0447\\u0443\\u0432\\u0441\\u0442\\u0432\\u043e\\u0432\\u0430\\u043b \\u043e\\u0442\\u0432\\u0440\\u0430\\u0449\\u0435\\u043d\\u0438\\u0435 \\u043a \\u0440\\u044b\\u0431\\u0435 \\u0438 \\u0434\\u0443\\u043c\\u0430\\u043b \\u043e \\u0442\\u0440\\u0435\\u0445 \\u0440\\u0443\\u0431\\u043b\\u044f\\u0445 \\u0438 \\u0447\\u0435\\u0442\\u0432\\u0435\\u0440\\u0442\\u043a\\u0435 \\u0447\\u0430\\u044e. \\u0420\\u0430\\u043d\\u043e \\u0443\\u0442\\u0440\\u043e\\u043c, \\u043a\\u043e\\u0433\\u0434\\u0430 \\u043d\\u0435\\u0431\\u043e \\u0441\\u0442\\u0430\\u043b\\u043e \\u0441\\u0438\\u043d\\u0435\\u0442\\u044c, \\u0435\\u043c\\u0443 \\u043f\\u0440\\u0438\\u043a\\u0430\\u0437\\u0430\\u043b\\u0438 \\u043e\\u0434\\u0435\\u0442\\u044c\\u0441\\u044f \\u0438 \\u0438\\u0434\\u0442\\u0438. \\u0414\\u0432\\u0430 \\u0441\\u043e\\u043b\\u0434\\u0430\\u0442\\u0430 \\u0441\\u043e \\u0448\\u0442\\u044b\\u043a\\u0430\\u043c\\u0438 \\u043f\\u043e\\u0432\\u0435\\u043b\\u0438 \\u0435\\u0433\\u043e \\u0432 \\u0442\\u044e\\u0440\\u044c\\u043c\\u0443. \\u041d\\u0438\\u043a\\u043e\\u0433\\u0434\\u0430 \\u0432 \\u0434\\u0440\\u0443\\u0433\\u043e\\u0435 \\u0432\\u0440\\u0435\\u043c\\u044f \\u0433\\u043e\\u0440\\u043e\\u0434\\u0441\\u043a\\u0438\\u0435 \\u0443\\u043b\\u0438\\u0446\\u044b \\u043d\\u0435 \\u043a\\u0430\\u0437\\u0430\\u043b\\u0438\\u0441\\u044c \\u0435\\u043c\\u0443 \\u0442\\u0430\\u043a \\u0434\\u043b\\u0438\\u043d\\u043d\\u044b \\u0438 \\u0431\\u0435\\u0441\\u043a\\u043e\\u043d\\u0435\\u0447\\u043d\\u044b. \\u0428\\u0435\\u043b \\u043e\\u043d \\u043d\\u0435 \\u043f\\u043e \\u0442\\u0440\\u043e\\u0442\\u0443\\u0430\\u0440\\u0443, \\u0430 \\u0441\\u0440\\u0435\\u0434\\u0438 \\u0443\\u043b\\u0438\\u0446\\u044b \\u043f\\u043e \\u0442\\u0430\\u044e\\u0449\\u0435\\u043c\\u0443, \\u0433\\u0440\\u044f\\u0437\\u043d\\u043e\\u043c\\u0443 \\u0441\\u043d\\u0435\\u0433\\u0443. \\u0412\\u043d\\u0443\\u0442\\u0440\\u0435\\u043d\\u043d\\u043e\\u0441\\u0442\\u0438 \\u0432\\u0441\\u0451 \\u0435\\u0449\\u0435 \\u0432\\u043e\\u0435\\u0432\\u0430\\u043b\\u0438 \\u0441 \\u0440\\u044b\\u0431\\u043e\\u0439, \\u043b\\u0435\\u0432\\u0430\\u044f \\u043d\\u043e\\u0433\\u0430 \\u043d\\u0435\\u043c\\u0435\\u043b\\u0430; \\u043a\\u0430\\u043b\\u043e\\u0448\\u0438 \\u043e\\u043d \\u0437\\u0430\\u0431\\u044b\\u043b \\u043d\\u0435 \\u0442\\u043e \\u0432 \\u0441\\u0443\\u0434\\u0435, \\u043d\\u0435 \\u0442\\u043e \\u0432 \\u0447\\u0430\\u0441\\u0442\\u043d\\u043e\\u043c \\u0434\\u043e\\u043c\\u0435, \\u0438 \\u043d\\u043e\\u0433\\u0438 \\u0435\\u0433\\u043e \\u0437\\u044f\\u0431\\u043b\\u0438...\\n\\u0427\\u0435\\u0440\\u0435\\u0437 \\u043f\\u044f\\u0442\\u044c \\u0434\\u043d\\u0435\\u0439 \\u0432\\u0441\\u0435\\u0445 \\u043e\\u0431\\u0432\\u0438\\u043d\\u044f\\u0435\\u043c\\u044b\\u0445 \\u043e\\u043f\\u044f\\u0442\\u044c \\u043f\\u043e\\u0432\\u0435\\u043b\\u0438 \\u0432 \\u0441\\u0443\\u0434 \\u0434\\u043b\\u044f \\u0432\\u044b\\u0441\\u043b\\u0443\\u0448\\u0430\\u043d\\u0438\\u044f \\u043f\\u0440\\u0438\\u0433\\u043e\\u0432\\u043e\\u0440\\u0430. \\u0410\\u0432\\u0434\\u0435\\u0435\\u0432 \\u0443\\u0437\\u043d\\u0430\\u043b, \\u0447\\u0442\\u043e \\u0435\\u0433\\u043e \\u043f\\u0440\\u0438\\u0433\\u043e\\u0432\\u043e\\u0440\\u0438\\u043b\\u0438 \\u043a \\u0441\\u0441\\u044b\\u043b\\u043a\\u0435 \\u043d\\u0430 \\u0436\\u0438\\u0442\\u044c\\u0435 \\u0432 \\u0422\\u043e\\u0431\\u043e\\u043b\\u044c\\u0441\\u043a\\u0443\\u044e \\u0433\\u0443\\u0431\\u0435\\u0440\\u043d\\u0438\\u044e. \\u0418 \\u044d\\u0442\\u043e \\u043d\\u0435 \\u0438\\u0441\\u043f\\u0443\\u0433\\u0430\\u043b\\u043e \\u0435\\u0433\\u043e \\u0438 \\u043d\\u0435 \\u0443\\u0434\\u0438\\u0432\\u0438\\u043b\\u043e. \\u0415\\u043c\\u0443 \\u043f\\u043e\\u0447\\u0435\\u043c\\u0443-\\u0442\\u043e \\u043a\\u0430\\u0437\\u0430\\u043b\\u043e\\u0441\\u044c, \\u0447\\u0442\\u043e \\u0441\\u0443\\u0434 \\u0435\\u0449\\u0435 \\u043d\\u0435 \\u043a\\u043e\\u043d\\u0447\\u0438\\u043b\\u0441\\u044f, \\u0447\\u0442\\u043e \\u043f\\u0440\\u043e\\u0432\\u043e\\u043b\\u043e\\u0447\\u043a\\u0430 \\u0432\\u0441\\u0451 \\u0435\\u0449\\u0435 \\u0442\\u044f\\u043d\\u0435\\u0442\\u0441\\u044f \\u0438 \\u0447\\u0442\\u043e \\u043d\\u0430\\u0441\\u0442\\u043e\\u044f\\u0449\\u0435\\u0433\\u043e \\u00ab\\u0440\\u0435\\u0448\\u0435\\u043d\\u0438\\u044f\\u00bb \\u0435\\u0449\\u0435 \\u043d\\u0435 \\u0431\\u044b\\u043b\\u043e... \\u0416\\u0438\\u043b \\u043e\\u043d \\u0432 \\u0442\\u044e\\u0440\\u044c\\u043c\\u0435 \\u0438 \\u043a\\u0430\\u0436\\u0434\\u044b\\u0439 \\u0434\\u0435\\u043d\\u044c \\u0436\\u0434\\u0430\\u043b \\u044d\\u0442\\u043e\\u0433\\u043e \\u0440\\u0435\\u0448\\u0435\\u043d\\u0438\\u044f.\\n\\u0422\\u043e\\u043b\\u044c\\u043a\\u043e \\u043f\\u043e\\u043b\\u0433\\u043e\\u0434\\u0430 \\u0441\\u043f\\u0443\\u0441\\u0442\\u044f, \\u043a\\u043e\\u0433\\u0434\\u0430 \\u043f\\u0440\\u0438\\u0448\\u043b\\u0438 \\u043a \\u043d\\u0435\\u043c\\u0443 \\u043f\\u0440\\u043e\\u0449\\u0430\\u0442\\u044c\\u0441\\u044f \\u0436\\u0435\\u043d\\u0430 \\u0438 \\u0441\\u044b\\u043d \\u0412\\u0430\\u0441\\u0438\\u043b\\u0438\\u0439, \\u043a\\u043e\\u0433\\u0434\\u0430 \\u043e\\u043d \\u0432 \\u0442\\u043e\\u0449\\u0435\\u0439, \\u043d\\u0438\\u0449\\u0435\\u043d\\u0441\\u043a\\u0438 \\u043e\\u0434\\u0435\\u0442\\u043e\\u0439 \\u0441\\u0442\\u0430\\u0440\\u0443\\u0448\\u043a\\u0435 \\u0435\\u0434\\u0432\\u0430 \\u0443\\u0437\\u043d\\u0430\\u043b \\u0441\\u0432\\u043e\\u044e \\u043a\\u043e\\u0433\\u0434\\u0430-\\u0442\\u043e \\u0441\\u044b\\u0440\\u0443\\u044e \\u0438 \\u0441\\u043e\\u043b\\u0438\\u0434\\u043d\\u0443\\u044e \\u0415\\u043b\\u0438\\u0437\\u0430\\u0432\\u0435\\u0442\\u0443 \\u0422\\u0440\\u043e\\u0444\\u0438\\u043c\\u043e\\u0432\\u043d\\u0443 \\u0438 \\u043a\\u043e\\u0433\\u0434\\u0430 \\u0432\\u043c\\u0435\\u0441\\u0442\\u043e \\u0433\\u0438\\u043c\\u043d\\u0430\\u0437\\u0438\\u0447\\u0435\\u0441\\u043a\\u043e\\u0433\\u043e \\u043f\\u043b\\u0430\\u0442\\u044c\\u044f \\u0443\\u0432\\u0438\\u0434\\u0435\\u043b \\u043d\\u0430 \\u0441\\u044b\\u043d\\u0435 \\u043a\\u0443\\u0446\\u044b\\u0439, \\u043f\\u043e\\u0442\\u0435\\u0440\\u0442\\u044b\\u0439 \\u043f\\u0438\\u0434\\u0436\\u0430\\u0447\\u043e\\u043a \\u0438 \\u0441\\u0430\\u0440\\u043f\\u0438\\u043d\\u043a\\u043e\\u0432\\u044b\\u0435 \\u043f\\u0430\\u043d\\u0442\\u0430\\u043b\\u043e\\u043d\\u044b, \\u043e\\u043d \\u043f\\u043e\\u043d\\u044f\\u043b, \\u0447\\u0442\\u043e \\u0441\\u0443\\u0434\\u044c\\u0431\\u0430 \\u0435\\u0433\\u043e \\u0443\\u0436\\u0435 \\u0440\\u0435\\u0448\\u0435\\u043d\\u0430 \\u0438 \\u0447\\u0442\\u043e, \\u043a\\u0430\\u043a\\u043e\\u0435 \\u0431\\u044b \\u0435\\u0449\\u0435 \\u043d\\u0438 \\u0431\\u044b\\u043b\\u043e \\u043d\\u043e\\u0432\\u043e\\u0435 \\u00ab\\u0440\\u0435\\u0448\\u0435\\u043d\\u0438\\u0435\\u00bb, \\u0435\\u043c\\u0443 \\u0443\\u0436\\u0435 \\u043d\\u0435 \\u0432\\u0435\\u0440\\u043d\\u0443\\u0442\\u044c \\u0441\\u0432\\u043e\\u0435\\u0433\\u043e \\u043f\\u0440\\u043e\\u0448\\u043b\\u043e\\u0433\\u043e. \\u0418 \\u043e\\u043d \\u0432 \\u043f\\u0435\\u0440\\u0432\\u044b\\u0439 \\u0440\\u0430\\u0437 \\u0437\\u0430 \\u0432\\u0441\\u0451 \\u0432\\u0440\\u0435\\u043c\\u044f \\u0441\\u0443\\u0434\\u0430 \\u0438 \\u0442\\u044e\\u0440\\u0435\\u043c\\u043d\\u043e\\u0433\\u043e \\u0437\\u0430\\u043a\\u043b\\u044e\\u0447\\u0435\\u043d\\u0438\\u044f \\u0441\\u043e\\u0433\\u043d\\u0430\\u043b \\u0441\\u043e \\u0441\\u0432\\u043e\\u0435\\u0433\\u043e \\u043b\\u0438\\u0446\\u0430 \\u0441\\u0435\\u0440\\u0434\\u0438\\u0442\\u043e\\u0435 \\u0432\\u044b\\u0440\\u0430\\u0436\\u0435\\u043d\\u0438\\u0435 \\u0438 \\u0433\\u043e\\u0440\\u044c\\u043a\\u043e \\u0437\\u0430\\u043f\\u043b\\u0430\\u043a\\u0430\\u043b.\"\n        ],\n        \"semantic_type\": \"\",\n        \"description\": \"\"\n      }\n    },\n    {\n      \"column\": \"author\",\n      \"properties\": {\n        \"dtype\": \"category\",\n        \"num_unique_values\": 11,\n        \"samples\": [\n          \"Gorky\",\n          \"Tolstoy\",\n          \"Bryusov\"\n        ],\n        \"semantic_type\": \"\",\n        \"description\": \"\"\n      }\n    }\n  ]\n}"
            }
          },
          "metadata": {},
          "execution_count": 18
        }
      ],
      "source": [
        "rl.head(10)"
      ]
    },
    {
      "cell_type": "code",
      "execution_count": 22,
      "id": "lKaERKtJ-iZ3",
      "metadata": {
        "id": "lKaERKtJ-iZ3"
      },
      "outputs": [],
      "source": [
        "train_texts = list()\n",
        "for text in rl.text:\n",
        "    train_texts.append(text)"
      ]
    },
    {
      "cell_type": "code",
      "execution_count": 24,
      "id": "a9f14401",
      "metadata": {
        "colab": {
          "base_uri": "https://localhost:8080/"
        },
        "id": "a9f14401",
        "outputId": "038ae313-3cfd-4ae5-80e9-83f247d54b98"
      },
      "outputs": [
        {
          "output_type": "execute_result",
          "data": {
            "text/plain": [
              "15540"
            ]
          },
          "metadata": {},
          "execution_count": 24
        }
      ],
      "source": [
        "len(train_texts[0])"
      ]
    },
    {
      "cell_type": "markdown",
      "source": [
        "Размер словаря - 10 000 токенов."
      ],
      "metadata": {
        "id": "Yh8CwGRXU-am"
      },
      "id": "Yh8CwGRXU-am"
    },
    {
      "cell_type": "code",
      "execution_count": null,
      "id": "hbnm_QUb_vlg",
      "metadata": {
        "id": "hbnm_QUb_vlg"
      },
      "outputs": [],
      "source": [
        "tokenizer = Tokenizer(vocab_size=10000)\n",
        "tokenizer.build_vocab(train_texts)\n",
        "tokenizer.save(BASE_PATH + 'tokenizer.pkl')"
      ]
    },
    {
      "cell_type": "markdown",
      "source": [
        "Училось 3 различных модели: с размером контекста 4, 7 и 10."
      ],
      "metadata": {
        "id": "CE60aTL3VYiB"
      },
      "id": "CE60aTL3VYiB"
    },
    {
      "cell_type": "code",
      "execution_count": null,
      "id": "WRm51AQOBQSr",
      "metadata": {
        "id": "WRm51AQOBQSr"
      },
      "outputs": [],
      "source": [
        "stat_lm = StatLM(tokenizer, context_size=4, alpha=0.1)\n",
        "stat_lm.train(train_texts)\n",
        "stat_lm.save_stat(BASE_PATH + 'stat_lm_4.pkl')"
      ]
    },
    {
      "cell_type": "code",
      "source": [
        "stat_lm = StatLM(tokenizer, context_size=7, alpha=0.1)\n",
        "stat_lm.train(train_texts)\n",
        "stat_lm.save_stat(BASE_PATH + 'stat_lm_7.pkl')"
      ],
      "metadata": {
        "id": "JPw-tFkrVjJw"
      },
      "id": "JPw-tFkrVjJw",
      "execution_count": null,
      "outputs": []
    },
    {
      "cell_type": "code",
      "source": [
        "stat_lm = StatLM(tokenizer, context_size=10, alpha=0.1)\n",
        "stat_lm.train(train_texts)\n",
        "stat_lm.save_stat(BASE_PATH + 'stat_lm_10.pkl')"
      ],
      "metadata": {
        "id": "TyA6dl0eVn4m"
      },
      "id": "TyA6dl0eVn4m",
      "execution_count": null,
      "outputs": []
    },
    {
      "cell_type": "markdown",
      "source": [
        "#Инференс"
      ],
      "metadata": {
        "id": "bopwHMbjVV2S"
      },
      "id": "bopwHMbjVV2S"
    },
    {
      "cell_type": "markdown",
      "source": [
        "Лучше всего себя показала модель, обученная с context_size=4."
      ],
      "metadata": {
        "id": "aKPxhYwJXJKK"
      },
      "id": "aKPxhYwJXJKK"
    },
    {
      "cell_type": "code",
      "source": [
        "model = construct_model(BASE_PATH)[0]"
      ],
      "metadata": {
        "id": "as4TmOnuVu_r"
      },
      "id": "as4TmOnuVu_r",
      "execution_count": 133,
      "outputs": []
    },
    {
      "cell_type": "code",
      "execution_count": 188,
      "id": "mXsvSXN7CjHA",
      "metadata": {
        "id": "mXsvSXN7CjHA"
      },
      "outputs": [],
      "source": [
        "generation_config = GenerationConfig(temperature = 1e-10, max_tokens = 40,\n",
        "                                     sample_top_p = 0.0011, decoding_strategy = 'top-p',\n",
        "                                     remove_special_tokens=True)"
      ]
    },
    {
      "cell_type": "code",
      "execution_count": 185,
      "id": "4r_X9sDBCe9m",
      "metadata": {
        "colab": {
          "base_uri": "https://localhost:8080/",
          "height": 36
        },
        "id": "4r_X9sDBCe9m",
        "outputId": "6c1e2ac3-6c4e-4901-948c-16d4a86c4ad2"
      },
      "outputs": [
        {
          "output_type": "execute_result",
          "data": {
            "text/plain": [
              "'я люблю тебя я обожаю девочек 149 девочке 150 о моя восхитительная минута во всей моей жизни в медиолане и хозяин дома где она жила девять лет так сильно подействовало'"
            ],
            "application/vnd.google.colaboratory.intrinsic+json": {
              "type": "string"
            }
          },
          "metadata": {},
          "execution_count": 185
        }
      ],
      "source": [
        "model.generate(\"я люблю тебя\", generation_config)"
      ]
    },
    {
      "cell_type": "code",
      "source": [
        "model.generate(\"я люблю тебя\", generation_config)"
      ],
      "metadata": {
        "colab": {
          "base_uri": "https://localhost:8080/",
          "height": 36
        },
        "id": "TPGggjQTaseC",
        "outputId": "35664f00-c401-4c63-b9c6-f16338099d0b"
      },
      "id": "TPGggjQTaseC",
      "execution_count": 189,
      "outputs": [
        {
          "output_type": "execute_result",
          "data": {
            "text/plain": [
              "'я люблю тебя я благословляю тебя на великое послушание в миру много тебе еще странствовать и ужасно теперичное состояние гонения остановились но слабые'"
            ],
            "application/vnd.google.colaboratory.intrinsic+json": {
              "type": "string"
            }
          },
          "metadata": {},
          "execution_count": 189
        }
      ]
    },
    {
      "cell_type": "code",
      "source": [
        "model.generate(\"я люблю тебя\", generation_config)"
      ],
      "metadata": {
        "colab": {
          "base_uri": "https://localhost:8080/",
          "height": 36
        },
        "id": "843t5Mdoatht",
        "outputId": "7d89bb9a-e456-4a3f-cc51-a5175a2a5664"
      },
      "id": "843t5Mdoatht",
      "execution_count": 198,
      "outputs": [
        {
          "output_type": "execute_result",
          "data": {
            "text/plain": [
              "'я люблю тебя я благословляю тебя на великий подвиг человека в том что он не может быть иначе и улыбка радости и успокоения отскаки'"
            ],
            "application/vnd.google.colaboratory.intrinsic+json": {
              "type": "string"
            }
          },
          "metadata": {},
          "execution_count": 198
        }
      ]
    }
  ],
  "metadata": {
    "colab": {
      "provenance": []
    },
    "kaggle": {
      "accelerator": "nvidiaTeslaT4",
      "dataSources": [],
      "dockerImageVersionId": 30648,
      "isGpuEnabled": true,
      "isInternetEnabled": true,
      "language": "python",
      "sourceType": "notebook"
    },
    "kernelspec": {
      "display_name": "Python 3 (ipykernel)",
      "language": "python",
      "name": "python3"
    },
    "language_info": {
      "codemirror_mode": {
        "name": "ipython",
        "version": 3
      },
      "file_extension": ".py",
      "mimetype": "text/x-python",
      "name": "python",
      "nbconvert_exporter": "python",
      "pygments_lexer": "ipython3",
      "version": "3.11.5"
    },
    "toc": {
      "base_numbering": 1,
      "nav_menu": {},
      "number_sections": true,
      "sideBar": true,
      "skip_h1_title": false,
      "title_cell": "Table of Contents",
      "title_sidebar": "Contents",
      "toc_cell": false,
      "toc_position": {},
      "toc_section_display": true,
      "toc_window_display": false
    }
  },
  "nbformat": 4,
  "nbformat_minor": 5
}
